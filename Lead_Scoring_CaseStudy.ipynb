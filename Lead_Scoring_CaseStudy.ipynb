{
 "cells": [
  {
   "cell_type": "markdown",
   "id": "9ddde6bb",
   "metadata": {
    "ExecuteTime": {
     "end_time": "2023-06-21T20:24:11.926663Z",
     "start_time": "2023-06-21T20:24:11.912262Z"
    }
   },
   "source": [
    "## Lead Scoring Case Study\n",
    "\n",
    "#### Problem Statement:\n",
    "An education company named X Education sells online courses to industry professionals.\n",
    "\n",
    "Need to build a model which assigns a lead score to each of the leads such that the customers with a higher lead score have a higher conversion chance and the customers with a lower lead score have a lower conversion chance. The CEO has given a ballpark of the target lead conversion rate to be around 80%.\n",
    "\n",
    "\n",
    "The Build model is used by the management to make the process more efficient and understand how exactly the demands vary with different features and accordingly the management can manipulate the business strategy which is used in the conversion of lead to paying customers.\n",
    "\n",
    "\n",
    "Essentially, the company wants —\t\n",
    "- To identify the most potential leads, also known as ‘Hot Leads’\n",
    "- To identify the variables that are significant in predicting the lead customers who are most likely to convert into paying       customers.\n",
    "- To create a Logistic regression Model that quantitatively relates lead customers with variables.\n",
    "- To know the accuracy of the model, i.e. how well these variables can predict the paying customers."
   ]
  },
  {
   "cell_type": "markdown",
   "id": "494c5236",
   "metadata": {},
   "source": [
    "### Importing the libraries"
   ]
  },
  {
   "cell_type": "code",
   "execution_count": 1,
   "id": "8aa5dded",
   "metadata": {
    "ExecuteTime": {
     "end_time": "2023-06-25T20:54:28.971603Z",
     "start_time": "2023-06-25T20:54:28.941483Z"
    }
   },
   "outputs": [],
   "source": [
    "import warnings\n",
    "warnings.filterwarnings('ignore')"
   ]
  },
  {
   "cell_type": "code",
   "execution_count": 2,
   "id": "2029b75f",
   "metadata": {
    "ExecuteTime": {
     "end_time": "2023-06-25T20:54:36.973330Z",
     "start_time": "2023-06-25T20:54:31.320598Z"
    }
   },
   "outputs": [],
   "source": [
    "import pandas as pd \n",
    "import matplotlib.pyplot as plt \n",
    "import seaborn as sns\n",
    "import numpy as np\n",
    "from scipy.stats import norm\n",
    "from sklearn.preprocessing import StandardScaler\n",
    "from scipy import stats"
   ]
  },
  {
   "cell_type": "markdown",
   "id": "d9b2aa29",
   "metadata": {},
   "source": [
    "### Step 1:Importing the dataset"
   ]
  },
  {
   "cell_type": "code",
   "execution_count": 3,
   "id": "be1be49f",
   "metadata": {
    "ExecuteTime": {
     "end_time": "2023-06-25T20:54:41.997793Z",
     "start_time": "2023-06-25T20:54:41.908127Z"
    }
   },
   "outputs": [],
   "source": [
    "# Importing dataset\n",
    "leads_data = pd.read_csv(('Leads.csv'))"
   ]
  },
  {
   "cell_type": "markdown",
   "id": "75cce96a",
   "metadata": {},
   "source": [
    "### Step 2:Reading and Understanding the Data or Inspecting the Dataframe"
   ]
  },
  {
   "cell_type": "code",
   "execution_count": 4,
   "id": "ecc6b001",
   "metadata": {
    "ExecuteTime": {
     "end_time": "2023-06-25T20:54:45.513083Z",
     "start_time": "2023-06-25T20:54:45.462565Z"
    }
   },
   "outputs": [
    {
     "data": {
      "text/html": [
       "<div>\n",
       "<style scoped>\n",
       "    .dataframe tbody tr th:only-of-type {\n",
       "        vertical-align: middle;\n",
       "    }\n",
       "\n",
       "    .dataframe tbody tr th {\n",
       "        vertical-align: top;\n",
       "    }\n",
       "\n",
       "    .dataframe thead th {\n",
       "        text-align: right;\n",
       "    }\n",
       "</style>\n",
       "<table border=\"1\" class=\"dataframe\">\n",
       "  <thead>\n",
       "    <tr style=\"text-align: right;\">\n",
       "      <th></th>\n",
       "      <th>Prospect ID</th>\n",
       "      <th>Lead Number</th>\n",
       "      <th>Lead Origin</th>\n",
       "      <th>Lead Source</th>\n",
       "      <th>Do Not Email</th>\n",
       "      <th>Do Not Call</th>\n",
       "      <th>Converted</th>\n",
       "      <th>TotalVisits</th>\n",
       "      <th>Total Time Spent on Website</th>\n",
       "      <th>Page Views Per Visit</th>\n",
       "      <th>...</th>\n",
       "      <th>Get updates on DM Content</th>\n",
       "      <th>Lead Profile</th>\n",
       "      <th>City</th>\n",
       "      <th>Asymmetrique Activity Index</th>\n",
       "      <th>Asymmetrique Profile Index</th>\n",
       "      <th>Asymmetrique Activity Score</th>\n",
       "      <th>Asymmetrique Profile Score</th>\n",
       "      <th>I agree to pay the amount through cheque</th>\n",
       "      <th>A free copy of Mastering The Interview</th>\n",
       "      <th>Last Notable Activity</th>\n",
       "    </tr>\n",
       "  </thead>\n",
       "  <tbody>\n",
       "    <tr>\n",
       "      <th>0</th>\n",
       "      <td>7927b2df-8bba-4d29-b9a2-b6e0beafe620</td>\n",
       "      <td>660737</td>\n",
       "      <td>API</td>\n",
       "      <td>Olark Chat</td>\n",
       "      <td>No</td>\n",
       "      <td>No</td>\n",
       "      <td>0</td>\n",
       "      <td>0.0</td>\n",
       "      <td>0</td>\n",
       "      <td>0.0</td>\n",
       "      <td>...</td>\n",
       "      <td>No</td>\n",
       "      <td>Select</td>\n",
       "      <td>Select</td>\n",
       "      <td>02.Medium</td>\n",
       "      <td>02.Medium</td>\n",
       "      <td>15.0</td>\n",
       "      <td>15.0</td>\n",
       "      <td>No</td>\n",
       "      <td>No</td>\n",
       "      <td>Modified</td>\n",
       "    </tr>\n",
       "    <tr>\n",
       "      <th>1</th>\n",
       "      <td>2a272436-5132-4136-86fa-dcc88c88f482</td>\n",
       "      <td>660728</td>\n",
       "      <td>API</td>\n",
       "      <td>Organic Search</td>\n",
       "      <td>No</td>\n",
       "      <td>No</td>\n",
       "      <td>0</td>\n",
       "      <td>5.0</td>\n",
       "      <td>674</td>\n",
       "      <td>2.5</td>\n",
       "      <td>...</td>\n",
       "      <td>No</td>\n",
       "      <td>Select</td>\n",
       "      <td>Select</td>\n",
       "      <td>02.Medium</td>\n",
       "      <td>02.Medium</td>\n",
       "      <td>15.0</td>\n",
       "      <td>15.0</td>\n",
       "      <td>No</td>\n",
       "      <td>No</td>\n",
       "      <td>Email Opened</td>\n",
       "    </tr>\n",
       "    <tr>\n",
       "      <th>2</th>\n",
       "      <td>8cc8c611-a219-4f35-ad23-fdfd2656bd8a</td>\n",
       "      <td>660727</td>\n",
       "      <td>Landing Page Submission</td>\n",
       "      <td>Direct Traffic</td>\n",
       "      <td>No</td>\n",
       "      <td>No</td>\n",
       "      <td>1</td>\n",
       "      <td>2.0</td>\n",
       "      <td>1532</td>\n",
       "      <td>2.0</td>\n",
       "      <td>...</td>\n",
       "      <td>No</td>\n",
       "      <td>Potential Lead</td>\n",
       "      <td>Mumbai</td>\n",
       "      <td>02.Medium</td>\n",
       "      <td>01.High</td>\n",
       "      <td>14.0</td>\n",
       "      <td>20.0</td>\n",
       "      <td>No</td>\n",
       "      <td>Yes</td>\n",
       "      <td>Email Opened</td>\n",
       "    </tr>\n",
       "    <tr>\n",
       "      <th>3</th>\n",
       "      <td>0cc2df48-7cf4-4e39-9de9-19797f9b38cc</td>\n",
       "      <td>660719</td>\n",
       "      <td>Landing Page Submission</td>\n",
       "      <td>Direct Traffic</td>\n",
       "      <td>No</td>\n",
       "      <td>No</td>\n",
       "      <td>0</td>\n",
       "      <td>1.0</td>\n",
       "      <td>305</td>\n",
       "      <td>1.0</td>\n",
       "      <td>...</td>\n",
       "      <td>No</td>\n",
       "      <td>Select</td>\n",
       "      <td>Mumbai</td>\n",
       "      <td>02.Medium</td>\n",
       "      <td>01.High</td>\n",
       "      <td>13.0</td>\n",
       "      <td>17.0</td>\n",
       "      <td>No</td>\n",
       "      <td>No</td>\n",
       "      <td>Modified</td>\n",
       "    </tr>\n",
       "    <tr>\n",
       "      <th>4</th>\n",
       "      <td>3256f628-e534-4826-9d63-4a8b88782852</td>\n",
       "      <td>660681</td>\n",
       "      <td>Landing Page Submission</td>\n",
       "      <td>Google</td>\n",
       "      <td>No</td>\n",
       "      <td>No</td>\n",
       "      <td>1</td>\n",
       "      <td>2.0</td>\n",
       "      <td>1428</td>\n",
       "      <td>1.0</td>\n",
       "      <td>...</td>\n",
       "      <td>No</td>\n",
       "      <td>Select</td>\n",
       "      <td>Mumbai</td>\n",
       "      <td>02.Medium</td>\n",
       "      <td>01.High</td>\n",
       "      <td>15.0</td>\n",
       "      <td>18.0</td>\n",
       "      <td>No</td>\n",
       "      <td>No</td>\n",
       "      <td>Modified</td>\n",
       "    </tr>\n",
       "  </tbody>\n",
       "</table>\n",
       "<p>5 rows × 37 columns</p>\n",
       "</div>"
      ],
      "text/plain": [
       "                            Prospect ID  Lead Number              Lead Origin  \\\n",
       "0  7927b2df-8bba-4d29-b9a2-b6e0beafe620       660737                      API   \n",
       "1  2a272436-5132-4136-86fa-dcc88c88f482       660728                      API   \n",
       "2  8cc8c611-a219-4f35-ad23-fdfd2656bd8a       660727  Landing Page Submission   \n",
       "3  0cc2df48-7cf4-4e39-9de9-19797f9b38cc       660719  Landing Page Submission   \n",
       "4  3256f628-e534-4826-9d63-4a8b88782852       660681  Landing Page Submission   \n",
       "\n",
       "      Lead Source Do Not Email Do Not Call  Converted  TotalVisits  \\\n",
       "0      Olark Chat           No          No          0          0.0   \n",
       "1  Organic Search           No          No          0          5.0   \n",
       "2  Direct Traffic           No          No          1          2.0   \n",
       "3  Direct Traffic           No          No          0          1.0   \n",
       "4          Google           No          No          1          2.0   \n",
       "\n",
       "   Total Time Spent on Website  Page Views Per Visit  ...  \\\n",
       "0                            0                   0.0  ...   \n",
       "1                          674                   2.5  ...   \n",
       "2                         1532                   2.0  ...   \n",
       "3                          305                   1.0  ...   \n",
       "4                         1428                   1.0  ...   \n",
       "\n",
       "  Get updates on DM Content    Lead Profile    City  \\\n",
       "0                        No          Select  Select   \n",
       "1                        No          Select  Select   \n",
       "2                        No  Potential Lead  Mumbai   \n",
       "3                        No          Select  Mumbai   \n",
       "4                        No          Select  Mumbai   \n",
       "\n",
       "  Asymmetrique Activity Index Asymmetrique Profile Index  \\\n",
       "0                   02.Medium                  02.Medium   \n",
       "1                   02.Medium                  02.Medium   \n",
       "2                   02.Medium                    01.High   \n",
       "3                   02.Medium                    01.High   \n",
       "4                   02.Medium                    01.High   \n",
       "\n",
       "  Asymmetrique Activity Score Asymmetrique Profile Score  \\\n",
       "0                        15.0                       15.0   \n",
       "1                        15.0                       15.0   \n",
       "2                        14.0                       20.0   \n",
       "3                        13.0                       17.0   \n",
       "4                        15.0                       18.0   \n",
       "\n",
       "  I agree to pay the amount through cheque  \\\n",
       "0                                       No   \n",
       "1                                       No   \n",
       "2                                       No   \n",
       "3                                       No   \n",
       "4                                       No   \n",
       "\n",
       "  A free copy of Mastering The Interview Last Notable Activity  \n",
       "0                                     No              Modified  \n",
       "1                                     No          Email Opened  \n",
       "2                                    Yes          Email Opened  \n",
       "3                                     No              Modified  \n",
       "4                                     No              Modified  \n",
       "\n",
       "[5 rows x 37 columns]"
      ]
     },
     "execution_count": 4,
     "metadata": {},
     "output_type": "execute_result"
    }
   ],
   "source": [
    "# Let's see the head of the dataset\n",
    "leads_data.head()"
   ]
  },
  {
   "cell_type": "code",
   "execution_count": 5,
   "id": "b84594de",
   "metadata": {
    "ExecuteTime": {
     "end_time": "2023-06-25T20:54:48.421330Z",
     "start_time": "2023-06-25T20:54:48.407926Z"
    }
   },
   "outputs": [
    {
     "data": {
      "text/plain": [
       "(9240, 37)"
      ]
     },
     "execution_count": 5,
     "metadata": {},
     "output_type": "execute_result"
    }
   ],
   "source": [
    "# Let's check the dimensions of the dataframe\n",
    "leads_data.shape"
   ]
  },
  {
   "cell_type": "code",
   "execution_count": 6,
   "id": "5a91714f",
   "metadata": {
    "ExecuteTime": {
     "end_time": "2023-06-25T20:54:50.031793Z",
     "start_time": "2023-06-25T20:54:49.958323Z"
    }
   },
   "outputs": [
    {
     "name": "stdout",
     "output_type": "stream",
     "text": [
      "<class 'pandas.core.frame.DataFrame'>\n",
      "RangeIndex: 9240 entries, 0 to 9239\n",
      "Data columns (total 37 columns):\n",
      " #   Column                                         Non-Null Count  Dtype  \n",
      "---  ------                                         --------------  -----  \n",
      " 0   Prospect ID                                    9240 non-null   object \n",
      " 1   Lead Number                                    9240 non-null   int64  \n",
      " 2   Lead Origin                                    9240 non-null   object \n",
      " 3   Lead Source                                    9204 non-null   object \n",
      " 4   Do Not Email                                   9240 non-null   object \n",
      " 5   Do Not Call                                    9240 non-null   object \n",
      " 6   Converted                                      9240 non-null   int64  \n",
      " 7   TotalVisits                                    9103 non-null   float64\n",
      " 8   Total Time Spent on Website                    9240 non-null   int64  \n",
      " 9   Page Views Per Visit                           9103 non-null   float64\n",
      " 10  Last Activity                                  9137 non-null   object \n",
      " 11  Country                                        6779 non-null   object \n",
      " 12  Specialization                                 7802 non-null   object \n",
      " 13  How did you hear about X Education             7033 non-null   object \n",
      " 14  What is your current occupation                6550 non-null   object \n",
      " 15  What matters most to you in choosing a course  6531 non-null   object \n",
      " 16  Search                                         9240 non-null   object \n",
      " 17  Magazine                                       9240 non-null   object \n",
      " 18  Newspaper Article                              9240 non-null   object \n",
      " 19  X Education Forums                             9240 non-null   object \n",
      " 20  Newspaper                                      9240 non-null   object \n",
      " 21  Digital Advertisement                          9240 non-null   object \n",
      " 22  Through Recommendations                        9240 non-null   object \n",
      " 23  Receive More Updates About Our Courses         9240 non-null   object \n",
      " 24  Tags                                           5887 non-null   object \n",
      " 25  Lead Quality                                   4473 non-null   object \n",
      " 26  Update me on Supply Chain Content              9240 non-null   object \n",
      " 27  Get updates on DM Content                      9240 non-null   object \n",
      " 28  Lead Profile                                   6531 non-null   object \n",
      " 29  City                                           7820 non-null   object \n",
      " 30  Asymmetrique Activity Index                    5022 non-null   object \n",
      " 31  Asymmetrique Profile Index                     5022 non-null   object \n",
      " 32  Asymmetrique Activity Score                    5022 non-null   float64\n",
      " 33  Asymmetrique Profile Score                     5022 non-null   float64\n",
      " 34  I agree to pay the amount through cheque       9240 non-null   object \n",
      " 35  A free copy of Mastering The Interview         9240 non-null   object \n",
      " 36  Last Notable Activity                          9240 non-null   object \n",
      "dtypes: float64(4), int64(3), object(30)\n",
      "memory usage: 2.6+ MB\n"
     ]
    }
   ],
   "source": [
    "# Let's see the type of each column\n",
    "leads_data.info()"
   ]
  },
  {
   "cell_type": "code",
   "execution_count": 7,
   "id": "3acd404e",
   "metadata": {
    "ExecuteTime": {
     "end_time": "2023-06-25T20:54:57.348690Z",
     "start_time": "2023-06-25T20:54:57.320384Z"
    }
   },
   "outputs": [
    {
     "data": {
      "text/html": [
       "<div>\n",
       "<style scoped>\n",
       "    .dataframe tbody tr th:only-of-type {\n",
       "        vertical-align: middle;\n",
       "    }\n",
       "\n",
       "    .dataframe tbody tr th {\n",
       "        vertical-align: top;\n",
       "    }\n",
       "\n",
       "    .dataframe thead th {\n",
       "        text-align: right;\n",
       "    }\n",
       "</style>\n",
       "<table border=\"1\" class=\"dataframe\">\n",
       "  <thead>\n",
       "    <tr style=\"text-align: right;\">\n",
       "      <th></th>\n",
       "      <th>Lead Number</th>\n",
       "      <th>Converted</th>\n",
       "      <th>TotalVisits</th>\n",
       "      <th>Total Time Spent on Website</th>\n",
       "      <th>Page Views Per Visit</th>\n",
       "      <th>Asymmetrique Activity Score</th>\n",
       "      <th>Asymmetrique Profile Score</th>\n",
       "    </tr>\n",
       "  </thead>\n",
       "  <tbody>\n",
       "    <tr>\n",
       "      <th>count</th>\n",
       "      <td>9240.000000</td>\n",
       "      <td>9240.000000</td>\n",
       "      <td>9103.000000</td>\n",
       "      <td>9240.000000</td>\n",
       "      <td>9103.000000</td>\n",
       "      <td>5022.000000</td>\n",
       "      <td>5022.000000</td>\n",
       "    </tr>\n",
       "    <tr>\n",
       "      <th>mean</th>\n",
       "      <td>617188.435606</td>\n",
       "      <td>0.385390</td>\n",
       "      <td>3.445238</td>\n",
       "      <td>487.698268</td>\n",
       "      <td>2.362820</td>\n",
       "      <td>14.306252</td>\n",
       "      <td>16.344883</td>\n",
       "    </tr>\n",
       "    <tr>\n",
       "      <th>std</th>\n",
       "      <td>23405.995698</td>\n",
       "      <td>0.486714</td>\n",
       "      <td>4.854853</td>\n",
       "      <td>548.021466</td>\n",
       "      <td>2.161418</td>\n",
       "      <td>1.386694</td>\n",
       "      <td>1.811395</td>\n",
       "    </tr>\n",
       "    <tr>\n",
       "      <th>min</th>\n",
       "      <td>579533.000000</td>\n",
       "      <td>0.000000</td>\n",
       "      <td>0.000000</td>\n",
       "      <td>0.000000</td>\n",
       "      <td>0.000000</td>\n",
       "      <td>7.000000</td>\n",
       "      <td>11.000000</td>\n",
       "    </tr>\n",
       "    <tr>\n",
       "      <th>25%</th>\n",
       "      <td>596484.500000</td>\n",
       "      <td>0.000000</td>\n",
       "      <td>1.000000</td>\n",
       "      <td>12.000000</td>\n",
       "      <td>1.000000</td>\n",
       "      <td>14.000000</td>\n",
       "      <td>15.000000</td>\n",
       "    </tr>\n",
       "    <tr>\n",
       "      <th>50%</th>\n",
       "      <td>615479.000000</td>\n",
       "      <td>0.000000</td>\n",
       "      <td>3.000000</td>\n",
       "      <td>248.000000</td>\n",
       "      <td>2.000000</td>\n",
       "      <td>14.000000</td>\n",
       "      <td>16.000000</td>\n",
       "    </tr>\n",
       "    <tr>\n",
       "      <th>75%</th>\n",
       "      <td>637387.250000</td>\n",
       "      <td>1.000000</td>\n",
       "      <td>5.000000</td>\n",
       "      <td>936.000000</td>\n",
       "      <td>3.000000</td>\n",
       "      <td>15.000000</td>\n",
       "      <td>18.000000</td>\n",
       "    </tr>\n",
       "    <tr>\n",
       "      <th>max</th>\n",
       "      <td>660737.000000</td>\n",
       "      <td>1.000000</td>\n",
       "      <td>251.000000</td>\n",
       "      <td>2272.000000</td>\n",
       "      <td>55.000000</td>\n",
       "      <td>18.000000</td>\n",
       "      <td>20.000000</td>\n",
       "    </tr>\n",
       "  </tbody>\n",
       "</table>\n",
       "</div>"
      ],
      "text/plain": [
       "         Lead Number    Converted  TotalVisits  Total Time Spent on Website  \\\n",
       "count    9240.000000  9240.000000  9103.000000                  9240.000000   \n",
       "mean   617188.435606     0.385390     3.445238                   487.698268   \n",
       "std     23405.995698     0.486714     4.854853                   548.021466   \n",
       "min    579533.000000     0.000000     0.000000                     0.000000   \n",
       "25%    596484.500000     0.000000     1.000000                    12.000000   \n",
       "50%    615479.000000     0.000000     3.000000                   248.000000   \n",
       "75%    637387.250000     1.000000     5.000000                   936.000000   \n",
       "max    660737.000000     1.000000   251.000000                  2272.000000   \n",
       "\n",
       "       Page Views Per Visit  Asymmetrique Activity Score  \\\n",
       "count           9103.000000                  5022.000000   \n",
       "mean               2.362820                    14.306252   \n",
       "std                2.161418                     1.386694   \n",
       "min                0.000000                     7.000000   \n",
       "25%                1.000000                    14.000000   \n",
       "50%                2.000000                    14.000000   \n",
       "75%                3.000000                    15.000000   \n",
       "max               55.000000                    18.000000   \n",
       "\n",
       "       Asymmetrique Profile Score  \n",
       "count                 5022.000000  \n",
       "mean                    16.344883  \n",
       "std                      1.811395  \n",
       "min                     11.000000  \n",
       "25%                     15.000000  \n",
       "50%                     16.000000  \n",
       "75%                     18.000000  \n",
       "max                     20.000000  "
      ]
     },
     "execution_count": 7,
     "metadata": {},
     "output_type": "execute_result"
    }
   ],
   "source": [
    "# let's look at the statistical aspects of the dataframe\n",
    "leads_data.describe()"
   ]
  },
  {
   "cell_type": "markdown",
   "id": "006580a3",
   "metadata": {},
   "source": [
    "### Step 3: Data Preparation"
   ]
  },
  {
   "cell_type": "markdown",
   "id": "31062291",
   "metadata": {},
   "source": [
    "### Data cleaning\n",
    " Fixing the Rows and Columns "
   ]
  },
  {
   "cell_type": "code",
   "execution_count": 8,
   "id": "9f337b17",
   "metadata": {
    "ExecuteTime": {
     "end_time": "2023-06-25T20:55:24.150135Z",
     "start_time": "2023-06-25T20:55:24.133908Z"
    }
   },
   "outputs": [],
   "source": [
    "# Deleting the columns which are not necessary for analysis\n",
    "leads_data.drop(['Lead Number','Do Not Call','Do Not Email'],axis=1,inplace= True)"
   ]
  },
  {
   "cell_type": "code",
   "execution_count": 9,
   "id": "986bd4c4",
   "metadata": {
    "ExecuteTime": {
     "end_time": "2023-06-25T20:55:25.652697Z",
     "start_time": "2023-06-25T20:55:25.593896Z"
    }
   },
   "outputs": [
    {
     "data": {
      "text/plain": [
       "Prospect ID                                       0.0\n",
       "Lead Origin                                       0.0\n",
       "Lead Source                                       0.0\n",
       "Converted                                         0.0\n",
       "TotalVisits                                       1.0\n",
       "Total Time Spent on Website                       0.0\n",
       "Page Views Per Visit                              1.0\n",
       "Last Activity                                     1.0\n",
       "Country                                          27.0\n",
       "Specialization                                   16.0\n",
       "How did you hear about X Education               24.0\n",
       "What is your current occupation                  29.0\n",
       "What matters most to you in choosing a course    29.0\n",
       "Search                                            0.0\n",
       "Magazine                                          0.0\n",
       "Newspaper Article                                 0.0\n",
       "X Education Forums                                0.0\n",
       "Newspaper                                         0.0\n",
       "Digital Advertisement                             0.0\n",
       "Through Recommendations                           0.0\n",
       "Receive More Updates About Our Courses            0.0\n",
       "Tags                                             36.0\n",
       "Lead Quality                                     52.0\n",
       "Update me on Supply Chain Content                 0.0\n",
       "Get updates on DM Content                         0.0\n",
       "Lead Profile                                     29.0\n",
       "City                                             15.0\n",
       "Asymmetrique Activity Index                      46.0\n",
       "Asymmetrique Profile Index                       46.0\n",
       "Asymmetrique Activity Score                      46.0\n",
       "Asymmetrique Profile Score                       46.0\n",
       "I agree to pay the amount through cheque          0.0\n",
       "A free copy of Mastering The Interview            0.0\n",
       "Last Notable Activity                             0.0\n",
       "dtype: float64"
      ]
     },
     "execution_count": 9,
     "metadata": {},
     "output_type": "execute_result"
    }
   ],
   "source": [
    "(round(leads_data.isnull().sum()/len(leads_data),2)*100)"
   ]
  },
  {
   "cell_type": "code",
   "execution_count": 10,
   "id": "903834f8",
   "metadata": {
    "ExecuteTime": {
     "end_time": "2023-06-25T20:55:28.600306Z",
     "start_time": "2023-06-25T20:55:28.580615Z"
    }
   },
   "outputs": [],
   "source": [
    "# Deleting the columns which are not necessary for analysis\n",
    "leads_data.drop(['Receive More Updates About Our Courses','A free copy of Mastering The Interview','I agree to pay the amount through cheque',\n",
    "              'Last Notable Activity'],axis=1,inplace=True)"
   ]
  },
  {
   "cell_type": "code",
   "execution_count": 11,
   "id": "3212f001",
   "metadata": {
    "ExecuteTime": {
     "end_time": "2023-06-25T20:55:31.339869Z",
     "start_time": "2023-06-25T20:55:31.325995Z"
    }
   },
   "outputs": [],
   "source": [
    "#### Deleting the columns which has more null or missing values\n",
    "leads_data.drop(['Asymmetrique Profile Score','Asymmetrique Activity Score','Asymmetrique Profile Index',\n",
    "                                   'Asymmetrique Activity Index'],axis=1,inplace = True)"
   ]
  },
  {
   "cell_type": "code",
   "execution_count": 12,
   "id": "900e6692",
   "metadata": {
    "ExecuteTime": {
     "end_time": "2023-06-25T20:55:32.321934Z",
     "start_time": "2023-06-25T20:55:32.301345Z"
    }
   },
   "outputs": [],
   "source": [
    "leads_data.drop('Lead Quality',axis =1,inplace= True)"
   ]
  },
  {
   "cell_type": "code",
   "execution_count": 13,
   "id": "b4c58cd5",
   "metadata": {
    "ExecuteTime": {
     "end_time": "2023-06-25T20:55:34.034307Z",
     "start_time": "2023-06-25T20:55:34.010339Z"
    }
   },
   "outputs": [],
   "source": [
    "leads_data.drop(['Update me on Supply Chain Content','Get updates on DM Content'],axis =1,inplace=True)"
   ]
  },
  {
   "cell_type": "markdown",
   "id": "d59e6568",
   "metadata": {},
   "source": [
    " ### Impute/Remove missing values"
   ]
  },
  {
   "cell_type": "code",
   "execution_count": 14,
   "id": "82064f2f",
   "metadata": {
    "ExecuteTime": {
     "end_time": "2023-06-25T20:55:37.833557Z",
     "start_time": "2023-06-25T20:55:37.787356Z"
    }
   },
   "outputs": [
    {
     "data": {
      "text/plain": [
       "Prospect ID                                       0.0\n",
       "Lead Origin                                       0.0\n",
       "Lead Source                                       0.0\n",
       "Converted                                         0.0\n",
       "TotalVisits                                       1.0\n",
       "Total Time Spent on Website                       0.0\n",
       "Page Views Per Visit                              1.0\n",
       "Last Activity                                     1.0\n",
       "Country                                          27.0\n",
       "Specialization                                   16.0\n",
       "How did you hear about X Education               24.0\n",
       "What is your current occupation                  29.0\n",
       "What matters most to you in choosing a course    29.0\n",
       "Search                                            0.0\n",
       "Magazine                                          0.0\n",
       "Newspaper Article                                 0.0\n",
       "X Education Forums                                0.0\n",
       "Newspaper                                         0.0\n",
       "Digital Advertisement                             0.0\n",
       "Through Recommendations                           0.0\n",
       "Tags                                             36.0\n",
       "Lead Profile                                     29.0\n",
       "City                                             15.0\n",
       "dtype: float64"
      ]
     },
     "execution_count": 14,
     "metadata": {},
     "output_type": "execute_result"
    }
   ],
   "source": [
    "(round(leads_data.isnull().sum()/len(leads_data),2)*100)"
   ]
  },
  {
   "cell_type": "markdown",
   "id": "ac573859",
   "metadata": {},
   "source": [
    "Dropping the records with 'TotalVisits','Page Views Per Visit' and 'Last Activity' missing."
   ]
  },
  {
   "cell_type": "code",
   "execution_count": 15,
   "id": "b32f373b",
   "metadata": {
    "ExecuteTime": {
     "end_time": "2023-06-25T20:55:50.843614Z",
     "start_time": "2023-06-25T20:55:50.809307Z"
    }
   },
   "outputs": [],
   "source": [
    "#drop the rows which has null or missing values in 'TotalVisits','Page Views Per Visit','Last Activity' of leads_data.\n",
    "leads_data = leads_data[~(leads_data['TotalVisits'].isnull())]\n",
    "leads_data = leads_data[~(leads_data['Page Views Per Visit'].isnull())]\n",
    "leads_data = leads_data[~(leads_data['Last Activity'].isnull())]"
   ]
  },
  {
   "cell_type": "code",
   "execution_count": 16,
   "id": "4c0b4337",
   "metadata": {
    "ExecuteTime": {
     "end_time": "2023-06-25T20:55:51.500342Z",
     "start_time": "2023-06-25T20:55:51.480206Z"
    }
   },
   "outputs": [
    {
     "data": {
      "text/plain": [
       "(9103, 23)"
      ]
     },
     "execution_count": 16,
     "metadata": {},
     "output_type": "execute_result"
    }
   ],
   "source": [
    "leads_data.shape"
   ]
  },
  {
   "cell_type": "markdown",
   "id": "4bcd5eeb",
   "metadata": {},
   "source": [
    "#### handling missing values in 'Country' column."
   ]
  },
  {
   "cell_type": "code",
   "execution_count": 17,
   "id": "e70cee8d",
   "metadata": {
    "ExecuteTime": {
     "end_time": "2023-06-25T20:55:56.413561Z",
     "start_time": "2023-06-25T20:55:56.383976Z"
    }
   },
   "outputs": [
    {
     "data": {
      "text/plain": [
       "India                   0.957663\n",
       "United States           0.010178\n",
       "United Arab Emirates    0.007818\n",
       "Singapore               0.003540\n",
       "Saudi Arabia            0.003098\n",
       "United Kingdom          0.002213\n",
       "Australia               0.001918\n",
       "Qatar                   0.001475\n",
       "Hong Kong               0.001033\n",
       "Bahrain                 0.001033\n",
       "Oman                    0.000885\n",
       "France                  0.000885\n",
       "unknown                 0.000738\n",
       "South Africa            0.000590\n",
       "Nigeria                 0.000590\n",
       "Germany                 0.000590\n",
       "Kuwait                  0.000590\n",
       "Canada                  0.000590\n",
       "Sweden                  0.000443\n",
       "China                   0.000295\n",
       "Asia/Pacific Region     0.000295\n",
       "Uganda                  0.000295\n",
       "Bangladesh              0.000295\n",
       "Italy                   0.000295\n",
       "Belgium                 0.000295\n",
       "Netherlands             0.000295\n",
       "Ghana                   0.000295\n",
       "Philippines             0.000295\n",
       "Russia                  0.000148\n",
       "Switzerland             0.000148\n",
       "Vietnam                 0.000148\n",
       "Denmark                 0.000148\n",
       "Tanzania                0.000148\n",
       "Liberia                 0.000148\n",
       "Malaysia                0.000148\n",
       "Kenya                   0.000148\n",
       "Sri Lanka               0.000148\n",
       "Indonesia               0.000148\n",
       "Name: Country, dtype: float64"
      ]
     },
     "execution_count": 17,
     "metadata": {},
     "output_type": "execute_result"
    }
   ],
   "source": [
    "leads_data.Country.value_counts(normalize=True)"
   ]
  },
  {
   "cell_type": "code",
   "execution_count": 18,
   "id": "8323a291",
   "metadata": {
    "ExecuteTime": {
     "end_time": "2023-06-25T20:56:00.870786Z",
     "start_time": "2023-06-25T20:56:00.856882Z"
    }
   },
   "outputs": [
    {
     "data": {
      "text/plain": [
       "'India'"
      ]
     },
     "execution_count": 18,
     "metadata": {},
     "output_type": "execute_result"
    }
   ],
   "source": [
    "# find the mode of Country in leads_data\n",
    "country_mode = leads_data['Country'].mode()[0]\n",
    "country_mode"
   ]
  },
  {
   "cell_type": "code",
   "execution_count": 19,
   "id": "4e6402b7",
   "metadata": {
    "ExecuteTime": {
     "end_time": "2023-06-25T20:56:06.107925Z",
     "start_time": "2023-06-25T20:56:06.087909Z"
    }
   },
   "outputs": [],
   "source": [
    "# fill the \"Country\" missing values with mode value of Country in leads_data\n",
    "leads_data['Country'].fillna(country_mode,inplace=True)"
   ]
  },
  {
   "cell_type": "code",
   "execution_count": 20,
   "id": "0bcaf7cd",
   "metadata": {
    "ExecuteTime": {
     "end_time": "2023-06-25T20:56:06.731861Z",
     "start_time": "2023-06-25T20:56:06.719062Z"
    }
   },
   "outputs": [
    {
     "data": {
      "text/plain": [
       "0"
      ]
     },
     "execution_count": 20,
     "metadata": {},
     "output_type": "execute_result"
    }
   ],
   "source": [
    "leads_data.Country.isnull().sum()"
   ]
  },
  {
   "cell_type": "code",
   "execution_count": 21,
   "id": "78ead0d3",
   "metadata": {
    "ExecuteTime": {
     "end_time": "2023-06-25T20:56:08.432642Z",
     "start_time": "2023-06-25T20:56:08.408646Z"
    }
   },
   "outputs": [
    {
     "data": {
      "text/plain": [
       "Select                               0.244135\n",
       "Finance Management                   0.125391\n",
       "Human Resource Management            0.109228\n",
       "Marketing Management                 0.107404\n",
       "Operations Management                0.065172\n",
       "Business Administration              0.052007\n",
       "IT Projects Management               0.047706\n",
       "Supply Chain Management              0.045099\n",
       "Banking, Investment And Insurance    0.043665\n",
       "Travel and Tourism                   0.026330\n",
       "Media and Advertising                0.026330\n",
       "International Business               0.022941\n",
       "Healthcare Management                0.020464\n",
       "E-COMMERCE                           0.014468\n",
       "Hospitality Management               0.014468\n",
       "Retail Management                    0.013034\n",
       "Rural and Agribusiness               0.009515\n",
       "E-Business                           0.007430\n",
       "Services Excellence                  0.005214\n",
       "Name: Specialization, dtype: float64"
      ]
     },
     "execution_count": 21,
     "metadata": {},
     "output_type": "execute_result"
    }
   ],
   "source": [
    "leads_data.Specialization.value_counts(normalize=True)"
   ]
  },
  {
   "cell_type": "code",
   "execution_count": 22,
   "id": "2dbc37c3",
   "metadata": {
    "ExecuteTime": {
     "end_time": "2023-06-25T20:56:10.850705Z",
     "start_time": "2023-06-25T20:56:10.831840Z"
    }
   },
   "outputs": [],
   "source": [
    "leads_data = leads_data[~leads_data['Specialization'].isnull()].copy()"
   ]
  },
  {
   "cell_type": "code",
   "execution_count": 23,
   "id": "a50fbfcc",
   "metadata": {
    "ExecuteTime": {
     "end_time": "2023-06-25T20:56:11.446004Z",
     "start_time": "2023-06-25T20:56:11.432062Z"
    }
   },
   "outputs": [
    {
     "data": {
      "text/plain": [
       "(7672, 23)"
      ]
     },
     "execution_count": 23,
     "metadata": {},
     "output_type": "execute_result"
    }
   ],
   "source": [
    "leads_data.shape"
   ]
  },
  {
   "cell_type": "markdown",
   "id": "6957dc04",
   "metadata": {},
   "source": [
    "#### handling missing values in 'How did you hear about X Education' column."
   ]
  },
  {
   "cell_type": "code",
   "execution_count": 24,
   "id": "d99628a4",
   "metadata": {
    "ExecuteTime": {
     "end_time": "2023-06-25T20:56:13.783410Z",
     "start_time": "2023-06-25T20:56:13.760786Z"
    }
   },
   "outputs": [
    {
     "data": {
      "text/plain": [
       "Select                   0.712174\n",
       "Online Search            0.116957\n",
       "Word Of Mouth            0.050435\n",
       "Student of SomeSchool    0.044783\n",
       "Other                    0.026957\n",
       "Multiple Sources         0.022029\n",
       "Advertisements           0.010145\n",
       "Social Media             0.009565\n",
       "Email                    0.003623\n",
       "SMS                      0.003333\n",
       "Name: How did you hear about X Education, dtype: float64"
      ]
     },
     "execution_count": 24,
     "metadata": {},
     "output_type": "execute_result"
    }
   ],
   "source": [
    "leads_data['How did you hear about X Education'].value_counts(normalize=True)"
   ]
  },
  {
   "cell_type": "markdown",
   "id": "6c08712f",
   "metadata": {},
   "source": [
    "Drop the records with 'How did you hear about X Education' missing"
   ]
  },
  {
   "cell_type": "code",
   "execution_count": 25,
   "id": "8cf43735",
   "metadata": {
    "ExecuteTime": {
     "end_time": "2023-06-25T20:56:18.826550Z",
     "start_time": "2023-06-25T20:56:18.802165Z"
    }
   },
   "outputs": [],
   "source": [
    "leads_data = leads_data[~leads_data['How did you hear about X Education'].isnull()].copy()"
   ]
  },
  {
   "cell_type": "markdown",
   "id": "f6e1546f",
   "metadata": {
    "ExecuteTime": {
     "end_time": "2023-06-23T03:21:13.426853Z",
     "start_time": "2023-06-23T03:21:13.404328Z"
    }
   },
   "source": [
    "#### handling missing values in 'What is your current occupation' column."
   ]
  },
  {
   "cell_type": "code",
   "execution_count": 26,
   "id": "0ccffd3d",
   "metadata": {
    "ExecuteTime": {
     "end_time": "2023-06-25T20:56:20.982374Z",
     "start_time": "2023-06-25T20:56:20.962040Z"
    }
   },
   "outputs": [
    {
     "data": {
      "text/plain": [
       "Unemployed              0.859397\n",
       "Working Professional    0.105452\n",
       "Student                 0.030308\n",
       "Other                   0.002343\n",
       "Housewife               0.001406\n",
       "Businessman             0.001094\n",
       "Name: What is your current occupation, dtype: float64"
      ]
     },
     "execution_count": 26,
     "metadata": {},
     "output_type": "execute_result"
    }
   ],
   "source": [
    "leads_data['What is your current occupation'].value_counts(normalize=True)"
   ]
  },
  {
   "cell_type": "code",
   "execution_count": 27,
   "id": "eb0cb054",
   "metadata": {
    "ExecuteTime": {
     "end_time": "2023-06-25T20:56:22.759593Z",
     "start_time": "2023-06-25T20:56:22.743213Z"
    }
   },
   "outputs": [
    {
     "data": {
      "text/plain": [
       "'Unemployed'"
      ]
     },
     "execution_count": 27,
     "metadata": {},
     "output_type": "execute_result"
    }
   ],
   "source": [
    "current_Occupation_mode = leads_data['What is your current occupation'].mode()[0]\n",
    "current_Occupation_mode"
   ]
  },
  {
   "cell_type": "code",
   "execution_count": 28,
   "id": "0a17ca7a",
   "metadata": {
    "ExecuteTime": {
     "end_time": "2023-06-25T20:56:23.341729Z",
     "start_time": "2023-06-25T20:56:23.331719Z"
    }
   },
   "outputs": [],
   "source": [
    "leads_data['What is your current occupation'].fillna(current_Occupation_mode,inplace = True)"
   ]
  },
  {
   "cell_type": "code",
   "execution_count": 29,
   "id": "a293e610",
   "metadata": {
    "ExecuteTime": {
     "end_time": "2023-06-25T20:56:23.796274Z",
     "start_time": "2023-06-25T20:56:23.780752Z"
    }
   },
   "outputs": [
    {
     "data": {
      "text/plain": [
       "0"
      ]
     },
     "execution_count": 29,
     "metadata": {},
     "output_type": "execute_result"
    }
   ],
   "source": [
    "leads_data['What is your current occupation'].isnull().sum()"
   ]
  },
  {
   "cell_type": "markdown",
   "id": "17f9d364",
   "metadata": {},
   "source": [
    "#### handling missing values in 'What matters most to you in choosing a course' column."
   ]
  },
  {
   "cell_type": "code",
   "execution_count": 30,
   "id": "4099f755",
   "metadata": {
    "ExecuteTime": {
     "end_time": "2023-06-25T20:56:28.548418Z",
     "start_time": "2023-06-25T20:56:28.528736Z"
    }
   },
   "outputs": [
    {
     "data": {
      "text/plain": [
       "Better Career Prospects      0.999688\n",
       "Flexibility & Convenience    0.000156\n",
       "Other                        0.000156\n",
       "Name: What matters most to you in choosing a course, dtype: float64"
      ]
     },
     "execution_count": 30,
     "metadata": {},
     "output_type": "execute_result"
    }
   ],
   "source": [
    "leads_data['What matters most to you in choosing a course'].value_counts(normalize=True)"
   ]
  },
  {
   "cell_type": "code",
   "execution_count": 31,
   "id": "4c528a77",
   "metadata": {
    "ExecuteTime": {
     "end_time": "2023-06-25T20:56:29.501012Z",
     "start_time": "2023-06-25T20:56:29.484056Z"
    }
   },
   "outputs": [
    {
     "data": {
      "text/plain": [
       "'Better Career Prospects'"
      ]
     },
     "execution_count": 31,
     "metadata": {},
     "output_type": "execute_result"
    }
   ],
   "source": [
    "course_mode = leads_data['What matters most to you in choosing a course'].mode()[0]\n",
    "course_mode"
   ]
  },
  {
   "cell_type": "code",
   "execution_count": 32,
   "id": "d4cfdb6b",
   "metadata": {
    "ExecuteTime": {
     "end_time": "2023-06-25T20:56:30.825134Z",
     "start_time": "2023-06-25T20:56:30.814446Z"
    }
   },
   "outputs": [],
   "source": [
    "leads_data['What matters most to you in choosing a course'].fillna(course_mode,inplace=True)"
   ]
  },
  {
   "cell_type": "code",
   "execution_count": 33,
   "id": "3536acdf",
   "metadata": {
    "ExecuteTime": {
     "end_time": "2023-06-25T20:56:31.686553Z",
     "start_time": "2023-06-25T20:56:31.668828Z"
    }
   },
   "outputs": [
    {
     "data": {
      "text/plain": [
       "0"
      ]
     },
     "execution_count": 33,
     "metadata": {},
     "output_type": "execute_result"
    }
   ],
   "source": [
    "leads_data['What matters most to you in choosing a course'].isnull().sum()"
   ]
  },
  {
   "cell_type": "markdown",
   "id": "4be328f4",
   "metadata": {},
   "source": [
    "Drop the records with 'Tags' missing"
   ]
  },
  {
   "cell_type": "code",
   "execution_count": 34,
   "id": "b8d3504b",
   "metadata": {
    "ExecuteTime": {
     "end_time": "2023-06-25T20:56:33.584590Z",
     "start_time": "2023-06-25T20:56:33.574222Z"
    }
   },
   "outputs": [],
   "source": [
    "leads_data = leads_data[~leads_data['Tags'].isnull()].copy()"
   ]
  },
  {
   "cell_type": "code",
   "execution_count": 35,
   "id": "e22df752",
   "metadata": {
    "ExecuteTime": {
     "end_time": "2023-06-25T20:56:34.705218Z",
     "start_time": "2023-06-25T20:56:34.689080Z"
    }
   },
   "outputs": [
    {
     "data": {
      "text/plain": [
       "0"
      ]
     },
     "execution_count": 35,
     "metadata": {},
     "output_type": "execute_result"
    }
   ],
   "source": [
    "leads_data.Tags.isnull().sum()"
   ]
  },
  {
   "cell_type": "code",
   "execution_count": 36,
   "id": "d109240d",
   "metadata": {
    "ExecuteTime": {
     "end_time": "2023-06-25T20:56:35.611262Z",
     "start_time": "2023-06-25T20:56:35.591689Z"
    }
   },
   "outputs": [
    {
     "data": {
      "text/plain": [
       "(5702, 23)"
      ]
     },
     "execution_count": 36,
     "metadata": {},
     "output_type": "execute_result"
    }
   ],
   "source": [
    "leads_data.shape"
   ]
  },
  {
   "cell_type": "code",
   "execution_count": 37,
   "id": "94690314",
   "metadata": {
    "ExecuteTime": {
     "end_time": "2023-06-25T20:56:36.175847Z",
     "start_time": "2023-06-25T20:56:36.162484Z"
    }
   },
   "outputs": [
    {
     "data": {
      "text/plain": [
       "Select                         0.595008\n",
       "Potential Lead                 0.271225\n",
       "Other Leads                    0.084373\n",
       "Student of SomeSchool          0.042187\n",
       "Lateral Student                0.003691\n",
       "Dual Specialization Student    0.003516\n",
       "Name: Lead Profile, dtype: float64"
      ]
     },
     "execution_count": 37,
     "metadata": {},
     "output_type": "execute_result"
    }
   ],
   "source": [
    "leads_data['Lead Profile'].value_counts(normalize = True)"
   ]
  },
  {
   "cell_type": "code",
   "execution_count": 38,
   "id": "a811442a",
   "metadata": {
    "ExecuteTime": {
     "end_time": "2023-06-25T20:56:36.819637Z",
     "start_time": "2023-06-25T20:56:36.802172Z"
    }
   },
   "outputs": [
    {
     "data": {
      "text/plain": [
       "Mumbai                         0.406524\n",
       "Select                         0.294458\n",
       "Thane & Outskirts              0.099439\n",
       "Other Cities                   0.085759\n",
       "Other Cities of Maharashtra    0.056296\n",
       "Other Metro Cities             0.048053\n",
       "Tier II Cities                 0.009470\n",
       "Name: City, dtype: float64"
      ]
     },
     "execution_count": 38,
     "metadata": {},
     "output_type": "execute_result"
    }
   ],
   "source": [
    "leads_data['City'].value_counts(normalize = True)"
   ]
  },
  {
   "cell_type": "code",
   "execution_count": 39,
   "id": "d1cb4c21",
   "metadata": {
    "ExecuteTime": {
     "end_time": "2023-06-25T20:56:38.008020Z",
     "start_time": "2023-06-25T20:56:37.959936Z"
    }
   },
   "outputs": [
    {
     "data": {
      "text/plain": [
       "Prospect ID                                      0.0\n",
       "Lead Origin                                      0.0\n",
       "Lead Source                                      0.0\n",
       "Converted                                        0.0\n",
       "TotalVisits                                      0.0\n",
       "Total Time Spent on Website                      0.0\n",
       "Page Views Per Visit                             0.0\n",
       "Last Activity                                    0.0\n",
       "Country                                          0.0\n",
       "Specialization                                   0.0\n",
       "How did you hear about X Education               0.0\n",
       "What is your current occupation                  0.0\n",
       "What matters most to you in choosing a course    0.0\n",
       "Search                                           0.0\n",
       "Magazine                                         0.0\n",
       "Newspaper Article                                0.0\n",
       "X Education Forums                               0.0\n",
       "Newspaper                                        0.0\n",
       "Digital Advertisement                            0.0\n",
       "Through Recommendations                          0.0\n",
       "Tags                                             0.0\n",
       "Lead Profile                                     0.0\n",
       "City                                             0.0\n",
       "dtype: float64"
      ]
     },
     "execution_count": 39,
     "metadata": {},
     "output_type": "execute_result"
    }
   ],
   "source": [
    "round(leads_data.isnull().sum()/len(leads_data),2)*100"
   ]
  },
  {
   "cell_type": "markdown",
   "id": "18008adf",
   "metadata": {},
   "source": [
    "Now there are no missing values"
   ]
  },
  {
   "cell_type": "markdown",
   "id": "dd233fc4",
   "metadata": {},
   "source": [
    "#### Converting  binary variables (Yes/No) to 0/1"
   ]
  },
  {
   "cell_type": "code",
   "execution_count": 40,
   "id": "3c3c020e",
   "metadata": {
    "ExecuteTime": {
     "end_time": "2023-06-25T20:56:40.593357Z",
     "start_time": "2023-06-25T20:56:40.269254Z"
    }
   },
   "outputs": [
    {
     "data": {
      "text/html": [
       "<div>\n",
       "<style scoped>\n",
       "    .dataframe tbody tr th:only-of-type {\n",
       "        vertical-align: middle;\n",
       "    }\n",
       "\n",
       "    .dataframe tbody tr th {\n",
       "        vertical-align: top;\n",
       "    }\n",
       "\n",
       "    .dataframe thead th {\n",
       "        text-align: right;\n",
       "    }\n",
       "</style>\n",
       "<table border=\"1\" class=\"dataframe\">\n",
       "  <thead>\n",
       "    <tr style=\"text-align: right;\">\n",
       "      <th></th>\n",
       "      <th>Prospect ID</th>\n",
       "      <th>Lead Origin</th>\n",
       "      <th>Lead Source</th>\n",
       "      <th>Converted</th>\n",
       "      <th>TotalVisits</th>\n",
       "      <th>Total Time Spent on Website</th>\n",
       "      <th>Page Views Per Visit</th>\n",
       "      <th>Last Activity</th>\n",
       "      <th>Country</th>\n",
       "      <th>Specialization</th>\n",
       "      <th>...</th>\n",
       "      <th>Magazine</th>\n",
       "      <th>Newspaper Article</th>\n",
       "      <th>X Education Forums</th>\n",
       "      <th>Newspaper</th>\n",
       "      <th>Digital Advertisement</th>\n",
       "      <th>Through Recommendations</th>\n",
       "      <th>Tags</th>\n",
       "      <th>Lead Profile</th>\n",
       "      <th>City</th>\n",
       "      <th>Advertisement</th>\n",
       "    </tr>\n",
       "  </thead>\n",
       "  <tbody>\n",
       "    <tr>\n",
       "      <th>0</th>\n",
       "      <td>7927b2df-8bba-4d29-b9a2-b6e0beafe620</td>\n",
       "      <td>API</td>\n",
       "      <td>Olark Chat</td>\n",
       "      <td>0</td>\n",
       "      <td>0.0</td>\n",
       "      <td>0</td>\n",
       "      <td>0.0</td>\n",
       "      <td>Page Visited on Website</td>\n",
       "      <td>India</td>\n",
       "      <td>Select</td>\n",
       "      <td>...</td>\n",
       "      <td>No</td>\n",
       "      <td>No</td>\n",
       "      <td>No</td>\n",
       "      <td>No</td>\n",
       "      <td>No</td>\n",
       "      <td>No</td>\n",
       "      <td>Interested in other courses</td>\n",
       "      <td>Select</td>\n",
       "      <td>Select</td>\n",
       "      <td>No</td>\n",
       "    </tr>\n",
       "    <tr>\n",
       "      <th>1</th>\n",
       "      <td>2a272436-5132-4136-86fa-dcc88c88f482</td>\n",
       "      <td>API</td>\n",
       "      <td>Organic Search</td>\n",
       "      <td>0</td>\n",
       "      <td>5.0</td>\n",
       "      <td>674</td>\n",
       "      <td>2.5</td>\n",
       "      <td>Email Opened</td>\n",
       "      <td>India</td>\n",
       "      <td>Select</td>\n",
       "      <td>...</td>\n",
       "      <td>No</td>\n",
       "      <td>No</td>\n",
       "      <td>No</td>\n",
       "      <td>No</td>\n",
       "      <td>No</td>\n",
       "      <td>No</td>\n",
       "      <td>Ringing</td>\n",
       "      <td>Select</td>\n",
       "      <td>Select</td>\n",
       "      <td>No</td>\n",
       "    </tr>\n",
       "    <tr>\n",
       "      <th>2</th>\n",
       "      <td>8cc8c611-a219-4f35-ad23-fdfd2656bd8a</td>\n",
       "      <td>Landing Page Submission</td>\n",
       "      <td>Direct Traffic</td>\n",
       "      <td>1</td>\n",
       "      <td>2.0</td>\n",
       "      <td>1532</td>\n",
       "      <td>2.0</td>\n",
       "      <td>Email Opened</td>\n",
       "      <td>India</td>\n",
       "      <td>Business Administration</td>\n",
       "      <td>...</td>\n",
       "      <td>No</td>\n",
       "      <td>No</td>\n",
       "      <td>No</td>\n",
       "      <td>No</td>\n",
       "      <td>No</td>\n",
       "      <td>No</td>\n",
       "      <td>Will revert after reading the email</td>\n",
       "      <td>Potential Lead</td>\n",
       "      <td>Mumbai</td>\n",
       "      <td>No</td>\n",
       "    </tr>\n",
       "    <tr>\n",
       "      <th>3</th>\n",
       "      <td>0cc2df48-7cf4-4e39-9de9-19797f9b38cc</td>\n",
       "      <td>Landing Page Submission</td>\n",
       "      <td>Direct Traffic</td>\n",
       "      <td>0</td>\n",
       "      <td>1.0</td>\n",
       "      <td>305</td>\n",
       "      <td>1.0</td>\n",
       "      <td>Unreachable</td>\n",
       "      <td>India</td>\n",
       "      <td>Media and Advertising</td>\n",
       "      <td>...</td>\n",
       "      <td>No</td>\n",
       "      <td>No</td>\n",
       "      <td>No</td>\n",
       "      <td>No</td>\n",
       "      <td>No</td>\n",
       "      <td>No</td>\n",
       "      <td>Ringing</td>\n",
       "      <td>Select</td>\n",
       "      <td>Mumbai</td>\n",
       "      <td>No</td>\n",
       "    </tr>\n",
       "    <tr>\n",
       "      <th>4</th>\n",
       "      <td>3256f628-e534-4826-9d63-4a8b88782852</td>\n",
       "      <td>Landing Page Submission</td>\n",
       "      <td>Google</td>\n",
       "      <td>1</td>\n",
       "      <td>2.0</td>\n",
       "      <td>1428</td>\n",
       "      <td>1.0</td>\n",
       "      <td>Converted to Lead</td>\n",
       "      <td>India</td>\n",
       "      <td>Select</td>\n",
       "      <td>...</td>\n",
       "      <td>No</td>\n",
       "      <td>No</td>\n",
       "      <td>No</td>\n",
       "      <td>No</td>\n",
       "      <td>No</td>\n",
       "      <td>No</td>\n",
       "      <td>Will revert after reading the email</td>\n",
       "      <td>Select</td>\n",
       "      <td>Mumbai</td>\n",
       "      <td>No</td>\n",
       "    </tr>\n",
       "  </tbody>\n",
       "</table>\n",
       "<p>5 rows × 24 columns</p>\n",
       "</div>"
      ],
      "text/plain": [
       "                            Prospect ID              Lead Origin  \\\n",
       "0  7927b2df-8bba-4d29-b9a2-b6e0beafe620                      API   \n",
       "1  2a272436-5132-4136-86fa-dcc88c88f482                      API   \n",
       "2  8cc8c611-a219-4f35-ad23-fdfd2656bd8a  Landing Page Submission   \n",
       "3  0cc2df48-7cf4-4e39-9de9-19797f9b38cc  Landing Page Submission   \n",
       "4  3256f628-e534-4826-9d63-4a8b88782852  Landing Page Submission   \n",
       "\n",
       "      Lead Source  Converted  TotalVisits  Total Time Spent on Website  \\\n",
       "0      Olark Chat          0          0.0                            0   \n",
       "1  Organic Search          0          5.0                          674   \n",
       "2  Direct Traffic          1          2.0                         1532   \n",
       "3  Direct Traffic          0          1.0                          305   \n",
       "4          Google          1          2.0                         1428   \n",
       "\n",
       "   Page Views Per Visit            Last Activity Country  \\\n",
       "0                   0.0  Page Visited on Website   India   \n",
       "1                   2.5             Email Opened   India   \n",
       "2                   2.0             Email Opened   India   \n",
       "3                   1.0              Unreachable   India   \n",
       "4                   1.0        Converted to Lead   India   \n",
       "\n",
       "            Specialization  ... Magazine Newspaper Article X Education Forums  \\\n",
       "0                   Select  ...       No                No                 No   \n",
       "1                   Select  ...       No                No                 No   \n",
       "2  Business Administration  ...       No                No                 No   \n",
       "3    Media and Advertising  ...       No                No                 No   \n",
       "4                   Select  ...       No                No                 No   \n",
       "\n",
       "  Newspaper Digital Advertisement Through Recommendations  \\\n",
       "0        No                    No                      No   \n",
       "1        No                    No                      No   \n",
       "2        No                    No                      No   \n",
       "3        No                    No                      No   \n",
       "4        No                    No                      No   \n",
       "\n",
       "                                  Tags    Lead Profile    City Advertisement  \n",
       "0          Interested in other courses          Select  Select            No  \n",
       "1                              Ringing          Select  Select            No  \n",
       "2  Will revert after reading the email  Potential Lead  Mumbai            No  \n",
       "3                              Ringing          Select  Mumbai            No  \n",
       "4  Will revert after reading the email          Select  Mumbai            No  \n",
       "\n",
       "[5 rows x 24 columns]"
      ]
     },
     "execution_count": 40,
     "metadata": {},
     "output_type": "execute_result"
    }
   ],
   "source": [
    "def myfunc(Adv):\n",
    "    if Adv['Search'] == 'Yes':\n",
    "        val = 'Yes'\n",
    "    elif Adv['Magazine']  == 'Yes':\n",
    "        val = 'Yes'\n",
    "    elif Adv['Newspaper Article']  == 'Yes':\n",
    "        val = 'Yes'\n",
    "    elif Adv['X Education Forums']  == 'Yes':\n",
    "        val = 'Yes'\n",
    "    elif Adv['Newspaper']  == 'Yes':\n",
    "        val = 'Yes'\n",
    "    elif Adv['Digital Advertisement']  == 'Yes':\n",
    "        val = 'Yes'\n",
    "    elif Adv['Through Recommendations']  == 'Yes':\n",
    "        val = 'Yes'\n",
    "    else:\n",
    "        val = 'No'\n",
    "    return val\n",
    "\n",
    "leads_data['Advertisement'] = leads_data.apply(myfunc, axis=1)\n",
    "leads_data.head()"
   ]
  },
  {
   "cell_type": "code",
   "execution_count": 41,
   "id": "1e2b9db2",
   "metadata": {
    "ExecuteTime": {
     "end_time": "2023-06-25T20:56:41.766820Z",
     "start_time": "2023-06-25T20:56:41.742873Z"
    }
   },
   "outputs": [],
   "source": [
    "## Created dummies for the below variables, so we can drop them\n",
    "#'Search','Magazine','Newspaper Article','X Education Forums','Newspaper','Digital Advertisement','Through Recommendations' \n",
    "leads_data.drop(['Search','Magazine','Newspaper Article','X Education Forums','Newspaper','Digital Advertisement',\n",
    "                'Through Recommendations'],axis = 1,inplace= True)"
   ]
  },
  {
   "cell_type": "code",
   "execution_count": 42,
   "id": "97d40e61",
   "metadata": {
    "ExecuteTime": {
     "end_time": "2023-06-25T20:56:42.360695Z",
     "start_time": "2023-06-25T20:56:42.337906Z"
    }
   },
   "outputs": [
    {
     "data": {
      "text/plain": [
       "(5702, 17)"
      ]
     },
     "execution_count": 42,
     "metadata": {},
     "output_type": "execute_result"
    }
   ],
   "source": [
    "leads_data.shape"
   ]
  },
  {
   "cell_type": "code",
   "execution_count": 43,
   "id": "5978eca3",
   "metadata": {
    "ExecuteTime": {
     "end_time": "2023-06-25T20:56:42.983596Z",
     "start_time": "2023-06-25T20:56:42.953591Z"
    }
   },
   "outputs": [
    {
     "data": {
      "text/plain": [
       "Landing Page Submission    60.838302\n",
       "API                        30.059628\n",
       "Lead Add Form               8.716240\n",
       "Lead Import                 0.385830\n",
       "Name: Lead Origin, dtype: float64"
      ]
     },
     "execution_count": 43,
     "metadata": {},
     "output_type": "execute_result"
    }
   ],
   "source": [
    "(leads_data['Lead Origin'].value_counts()/len(leads_data))*100"
   ]
  },
  {
   "cell_type": "code",
   "execution_count": 44,
   "id": "7226f2a8",
   "metadata": {
    "ExecuteTime": {
     "end_time": "2023-06-25T20:56:43.657947Z",
     "start_time": "2023-06-25T20:56:43.627154Z"
    }
   },
   "outputs": [
    {
     "data": {
      "text/plain": [
       "Google               32.269379\n",
       "Direct Traffic       31.462645\n",
       "Organic Search       14.030165\n",
       "Olark Chat           11.802876\n",
       "Reference             7.646440\n",
       "Referral Sites        1.192564\n",
       "Welingak Website      0.578744\n",
       "Facebook              0.385830\n",
       "Click2call            0.052613\n",
       "bing                  0.035075\n",
       "Social Media          0.035075\n",
       "Live Chat             0.035075\n",
       "Pay per Click Ads     0.017538\n",
       "WeLearn               0.017538\n",
       "testone               0.017538\n",
       "Press_Release         0.017538\n",
       "Name: Lead Source, dtype: float64"
      ]
     },
     "execution_count": 44,
     "metadata": {},
     "output_type": "execute_result"
    }
   ],
   "source": [
    "(leads_data['Lead Source'].value_counts()/len(leads_data))*100"
   ]
  },
  {
   "cell_type": "code",
   "execution_count": 45,
   "id": "72293dbe",
   "metadata": {
    "ExecuteTime": {
     "end_time": "2023-06-25T20:56:44.595928Z",
     "start_time": "2023-06-25T20:56:44.570867Z"
    }
   },
   "outputs": [
    {
     "data": {
      "text/plain": [
       "Email Opened                    38.600491\n",
       "SMS Sent                        33.584707\n",
       "Page Visited on Website          7.085233\n",
       "Olark Chat Conversation          6.348650\n",
       "Converted to Lead                4.893020\n",
       "Email Link Clicked               2.893722\n",
       "Email Bounced                    2.665731\n",
       "Form Submitted on Website        1.350403\n",
       "Unreachable                      1.227639\n",
       "Unsubscribed                     0.719046\n",
       "Had a Phone Conversation         0.403367\n",
       "Approached upfront               0.087689\n",
       "View in browser link Clicked     0.052613\n",
       "Email Received                   0.035075\n",
       "Email Marked Spam                0.035075\n",
       "Visited Booth in Tradeshow       0.017538\n",
       "Name: Last Activity, dtype: float64"
      ]
     },
     "execution_count": 45,
     "metadata": {},
     "output_type": "execute_result"
    }
   ],
   "source": [
    "(leads_data['Last Activity'].value_counts()/len(leads_data))*100"
   ]
  },
  {
   "cell_type": "code",
   "execution_count": 46,
   "id": "18b40a42",
   "metadata": {
    "ExecuteTime": {
     "end_time": "2023-06-25T20:56:45.207634Z",
     "start_time": "2023-06-25T20:56:45.186348Z"
    }
   },
   "outputs": [
    {
     "data": {
      "text/plain": [
       "India                   96.667836\n",
       "United States            0.719046\n",
       "United Arab Emirates     0.666433\n",
       "Singapore                0.280603\n",
       "Saudi Arabia             0.280603\n",
       "United Kingdom           0.192915\n",
       "Qatar                    0.140302\n",
       "Australia                0.140302\n",
       "Hong Kong                0.105226\n",
       "Oman                     0.087689\n",
       "Bahrain                  0.087689\n",
       "France                   0.087689\n",
       "South Africa             0.052613\n",
       "Nigeria                  0.052613\n",
       "Kuwait                   0.052613\n",
       "Netherlands              0.035075\n",
       "Canada                   0.035075\n",
       "Germany                  0.035075\n",
       "Uganda                   0.035075\n",
       "Philippines              0.035075\n",
       "Italy                    0.017538\n",
       "Indonesia                0.017538\n",
       "Vietnam                  0.017538\n",
       "China                    0.017538\n",
       "Denmark                  0.017538\n",
       "Sweden                   0.017538\n",
       "Malaysia                 0.017538\n",
       "Tanzania                 0.017538\n",
       "Kenya                    0.017538\n",
       "Sri Lanka                0.017538\n",
       "Ghana                    0.017538\n",
       "Bangladesh               0.017538\n",
       "Name: Country, dtype: float64"
      ]
     },
     "execution_count": 46,
     "metadata": {},
     "output_type": "execute_result"
    }
   ],
   "source": [
    "(leads_data['Country'].value_counts()/len(leads_data))*100"
   ]
  },
  {
   "cell_type": "code",
   "execution_count": 47,
   "id": "f6b2f944",
   "metadata": {
    "ExecuteTime": {
     "end_time": "2023-06-25T20:56:45.859547Z",
     "start_time": "2023-06-25T20:56:45.840951Z"
    }
   },
   "outputs": [
    {
     "data": {
      "text/plain": [
       "Select                               23.868818\n",
       "Finance Management                   12.627148\n",
       "Marketing Management                 11.206594\n",
       "Human Resource Management            11.171519\n",
       "Operations Management                 6.506489\n",
       "Business Administration               5.173623\n",
       "Supply Chain Management               4.612417\n",
       "IT Projects Management                4.612417\n",
       "Banking, Investment And Insurance     4.542266\n",
       "Media and Advertising                 2.683269\n",
       "Travel and Tourism                    2.472817\n",
       "International Business                2.262364\n",
       "Healthcare Management                 2.104525\n",
       "Hospitality Management                1.490705\n",
       "E-COMMERCE                            1.315328\n",
       "Retail Management                     1.297790\n",
       "Rural and Agribusiness                0.982112\n",
       "E-Business                            0.683971\n",
       "Services Excellence                   0.385830\n",
       "Name: Specialization, dtype: float64"
      ]
     },
     "execution_count": 47,
     "metadata": {},
     "output_type": "execute_result"
    }
   ],
   "source": [
    "(leads_data['Specialization'].value_counts()/len(leads_data))*100"
   ]
  },
  {
   "cell_type": "code",
   "execution_count": 48,
   "id": "12bf1238",
   "metadata": {
    "ExecuteTime": {
     "end_time": "2023-06-25T20:56:46.449657Z",
     "start_time": "2023-06-25T20:56:46.431455Z"
    }
   },
   "outputs": [
    {
     "data": {
      "text/plain": [
       "Select                   75.201684\n",
       "Online Search            10.084181\n",
       "Word Of Mouth             4.103823\n",
       "Student of SomeSchool     4.016135\n",
       "Other                     2.367590\n",
       "Multiple Sources          1.894072\n",
       "Social Media              0.911961\n",
       "Advertisements            0.841810\n",
       "Email                     0.368292\n",
       "SMS                       0.210452\n",
       "Name: How did you hear about X Education, dtype: float64"
      ]
     },
     "execution_count": 48,
     "metadata": {},
     "output_type": "execute_result"
    }
   ],
   "source": [
    "(leads_data['How did you hear about X Education'].value_counts()/len(leads_data))*100"
   ]
  },
  {
   "cell_type": "code",
   "execution_count": 49,
   "id": "9665ebaf",
   "metadata": {
    "ExecuteTime": {
     "end_time": "2023-06-25T20:56:47.640762Z",
     "start_time": "2023-06-25T20:56:47.614757Z"
    }
   },
   "outputs": [
    {
     "data": {
      "text/plain": [
       "Unemployed              84.356366\n",
       "Working Professional    11.715188\n",
       "Student                  3.402315\n",
       "Other                    0.263066\n",
       "Housewife                0.157839\n",
       "Businessman              0.105226\n",
       "Name: What is your current occupation, dtype: float64"
      ]
     },
     "execution_count": 49,
     "metadata": {},
     "output_type": "execute_result"
    }
   ],
   "source": [
    "(leads_data['What is your current occupation'].value_counts()/len(leads_data))*100"
   ]
  },
  {
   "cell_type": "code",
   "execution_count": 50,
   "id": "1ddbfbe8",
   "metadata": {
    "ExecuteTime": {
     "end_time": "2023-06-25T20:56:49.306328Z",
     "start_time": "2023-06-25T20:56:49.296986Z"
    }
   },
   "outputs": [
    {
     "data": {
      "text/plain": [
       "Better Career Prospects      99.964925\n",
       "Flexibility & Convenience     0.017538\n",
       "Other                         0.017538\n",
       "Name: What matters most to you in choosing a course, dtype: float64"
      ]
     },
     "execution_count": 50,
     "metadata": {},
     "output_type": "execute_result"
    }
   ],
   "source": [
    "(leads_data['What matters most to you in choosing a course'].value_counts()/len(leads_data))*100"
   ]
  },
  {
   "cell_type": "code",
   "execution_count": 51,
   "id": "711ddb08",
   "metadata": {
    "ExecuteTime": {
     "end_time": "2023-06-25T20:56:49.775950Z",
     "start_time": "2023-06-25T20:56:49.762162Z"
    }
   },
   "outputs": [
    {
     "data": {
      "text/plain": [
       "Will revert after reading the email                  35.689232\n",
       "Ringing                                              20.852333\n",
       "Interested in other courses                           8.418099\n",
       "Already a student                                     8.155033\n",
       "Closed by Horizzon                                    5.278850\n",
       "switched off                                          4.209049\n",
       "Busy                                                  3.244476\n",
       "Not doing further education                           2.542967\n",
       "Lost to EINS                                          2.350053\n",
       "Interested  in full time MBA                          2.034374\n",
       "Graduation in progress                                1.946685\n",
       "invalid number                                        1.455630\n",
       "Diploma holder (Not Eligible)                         1.104875\n",
       "wrong number given                                    0.824272\n",
       "opp hangup                                            0.578744\n",
       "number not provided                                   0.455980\n",
       "in touch with EINS                                    0.210452\n",
       "Lost to Others                                        0.122764\n",
       "Still Thinking                                        0.105226\n",
       "Want to take admission but has financial problems     0.105226\n",
       "In confusion whether part time or DLP                 0.087689\n",
       "Interested in Next batch                              0.087689\n",
       "Lateral student                                       0.052613\n",
       "Shall take in the next coming month                   0.035075\n",
       "University not recognized                             0.035075\n",
       "Recognition issue (DEC approval)                      0.017538\n",
       "Name: Tags, dtype: float64"
      ]
     },
     "execution_count": 51,
     "metadata": {},
     "output_type": "execute_result"
    }
   ],
   "source": [
    "(leads_data['Tags'].value_counts()/len(leads_data))*100"
   ]
  },
  {
   "cell_type": "code",
   "execution_count": 52,
   "id": "022f356c",
   "metadata": {
    "ExecuteTime": {
     "end_time": "2023-06-25T20:56:52.397664Z",
     "start_time": "2023-06-25T20:56:52.374941Z"
    }
   },
   "outputs": [
    {
     "data": {
      "text/plain": [
       "Select                         59.365135\n",
       "Potential Lead                 27.060680\n",
       "Other Leads                     8.418099\n",
       "Student of SomeSchool           4.209049\n",
       "Lateral Student                 0.368292\n",
       "Dual Specialization Student     0.350754\n",
       "Name: Lead Profile, dtype: float64"
      ]
     },
     "execution_count": 52,
     "metadata": {},
     "output_type": "execute_result"
    }
   ],
   "source": [
    "(leads_data['Lead Profile'].value_counts()/len(leads_data))*100"
   ]
  },
  {
   "cell_type": "code",
   "execution_count": 53,
   "id": "048960fa",
   "metadata": {
    "ExecuteTime": {
     "end_time": "2023-06-25T20:56:52.926125Z",
     "start_time": "2023-06-25T20:56:52.897410Z"
    }
   },
   "outputs": [
    {
     "data": {
      "text/plain": [
       "Mumbai                         40.652403\n",
       "Select                         29.445808\n",
       "Thane & Outskirts               9.943879\n",
       "Other Cities                    8.575938\n",
       "Other Cities of Maharashtra     5.629604\n",
       "Other Metro Cities              4.805331\n",
       "Tier II Cities                  0.947036\n",
       "Name: City, dtype: float64"
      ]
     },
     "execution_count": 53,
     "metadata": {},
     "output_type": "execute_result"
    }
   ],
   "source": [
    "(leads_data['City'].value_counts()/len(leads_data))*100"
   ]
  },
  {
   "cell_type": "code",
   "execution_count": 54,
   "id": "bb10eca0",
   "metadata": {
    "ExecuteTime": {
     "end_time": "2023-06-25T20:56:53.815276Z",
     "start_time": "2023-06-25T20:56:53.789469Z"
    }
   },
   "outputs": [
    {
     "data": {
      "text/plain": [
       "No     5683\n",
       "Yes      19\n",
       "Name: Advertisement, dtype: int64"
      ]
     },
     "execution_count": 54,
     "metadata": {},
     "output_type": "execute_result"
    }
   ],
   "source": [
    "leads_data['Advertisement'].value_counts()"
   ]
  },
  {
   "cell_type": "markdown",
   "id": "af368c68",
   "metadata": {},
   "source": [
    "Deleted the columns from the above statistics whose percentage for the multiple levels of categorical variables are less"
   ]
  },
  {
   "cell_type": "code",
   "execution_count": 55,
   "id": "9dd29107",
   "metadata": {
    "ExecuteTime": {
     "end_time": "2023-06-25T20:56:58.234091Z",
     "start_time": "2023-06-25T20:56:58.220359Z"
    }
   },
   "outputs": [],
   "source": [
    "leads_data['Advertisement'] = leads_data['Advertisement'].replace({'Yes':1,\"No\":0})"
   ]
  },
  {
   "cell_type": "code",
   "execution_count": 56,
   "id": "9c23e720",
   "metadata": {
    "ExecuteTime": {
     "end_time": "2023-06-25T20:56:59.468037Z",
     "start_time": "2023-06-25T20:56:59.434349Z"
    }
   },
   "outputs": [
    {
     "data": {
      "text/html": [
       "<div>\n",
       "<style scoped>\n",
       "    .dataframe tbody tr th:only-of-type {\n",
       "        vertical-align: middle;\n",
       "    }\n",
       "\n",
       "    .dataframe tbody tr th {\n",
       "        vertical-align: top;\n",
       "    }\n",
       "\n",
       "    .dataframe thead th {\n",
       "        text-align: right;\n",
       "    }\n",
       "</style>\n",
       "<table border=\"1\" class=\"dataframe\">\n",
       "  <thead>\n",
       "    <tr style=\"text-align: right;\">\n",
       "      <th></th>\n",
       "      <th>Prospect ID</th>\n",
       "      <th>Lead Origin</th>\n",
       "      <th>Lead Source</th>\n",
       "      <th>Converted</th>\n",
       "      <th>TotalVisits</th>\n",
       "      <th>Total Time Spent on Website</th>\n",
       "      <th>Page Views Per Visit</th>\n",
       "      <th>Last Activity</th>\n",
       "      <th>Country</th>\n",
       "      <th>Specialization</th>\n",
       "      <th>How did you hear about X Education</th>\n",
       "      <th>What is your current occupation</th>\n",
       "      <th>What matters most to you in choosing a course</th>\n",
       "      <th>Tags</th>\n",
       "      <th>Lead Profile</th>\n",
       "      <th>City</th>\n",
       "      <th>Advertisement</th>\n",
       "    </tr>\n",
       "  </thead>\n",
       "  <tbody>\n",
       "    <tr>\n",
       "      <th>0</th>\n",
       "      <td>7927b2df-8bba-4d29-b9a2-b6e0beafe620</td>\n",
       "      <td>API</td>\n",
       "      <td>Olark Chat</td>\n",
       "      <td>0</td>\n",
       "      <td>0.0</td>\n",
       "      <td>0</td>\n",
       "      <td>0.0</td>\n",
       "      <td>Page Visited on Website</td>\n",
       "      <td>India</td>\n",
       "      <td>Select</td>\n",
       "      <td>Select</td>\n",
       "      <td>Unemployed</td>\n",
       "      <td>Better Career Prospects</td>\n",
       "      <td>Interested in other courses</td>\n",
       "      <td>Select</td>\n",
       "      <td>Select</td>\n",
       "      <td>0</td>\n",
       "    </tr>\n",
       "    <tr>\n",
       "      <th>1</th>\n",
       "      <td>2a272436-5132-4136-86fa-dcc88c88f482</td>\n",
       "      <td>API</td>\n",
       "      <td>Organic Search</td>\n",
       "      <td>0</td>\n",
       "      <td>5.0</td>\n",
       "      <td>674</td>\n",
       "      <td>2.5</td>\n",
       "      <td>Email Opened</td>\n",
       "      <td>India</td>\n",
       "      <td>Select</td>\n",
       "      <td>Select</td>\n",
       "      <td>Unemployed</td>\n",
       "      <td>Better Career Prospects</td>\n",
       "      <td>Ringing</td>\n",
       "      <td>Select</td>\n",
       "      <td>Select</td>\n",
       "      <td>0</td>\n",
       "    </tr>\n",
       "    <tr>\n",
       "      <th>2</th>\n",
       "      <td>8cc8c611-a219-4f35-ad23-fdfd2656bd8a</td>\n",
       "      <td>Landing Page Submission</td>\n",
       "      <td>Direct Traffic</td>\n",
       "      <td>1</td>\n",
       "      <td>2.0</td>\n",
       "      <td>1532</td>\n",
       "      <td>2.0</td>\n",
       "      <td>Email Opened</td>\n",
       "      <td>India</td>\n",
       "      <td>Business Administration</td>\n",
       "      <td>Select</td>\n",
       "      <td>Student</td>\n",
       "      <td>Better Career Prospects</td>\n",
       "      <td>Will revert after reading the email</td>\n",
       "      <td>Potential Lead</td>\n",
       "      <td>Mumbai</td>\n",
       "      <td>0</td>\n",
       "    </tr>\n",
       "    <tr>\n",
       "      <th>3</th>\n",
       "      <td>0cc2df48-7cf4-4e39-9de9-19797f9b38cc</td>\n",
       "      <td>Landing Page Submission</td>\n",
       "      <td>Direct Traffic</td>\n",
       "      <td>0</td>\n",
       "      <td>1.0</td>\n",
       "      <td>305</td>\n",
       "      <td>1.0</td>\n",
       "      <td>Unreachable</td>\n",
       "      <td>India</td>\n",
       "      <td>Media and Advertising</td>\n",
       "      <td>Word Of Mouth</td>\n",
       "      <td>Unemployed</td>\n",
       "      <td>Better Career Prospects</td>\n",
       "      <td>Ringing</td>\n",
       "      <td>Select</td>\n",
       "      <td>Mumbai</td>\n",
       "      <td>0</td>\n",
       "    </tr>\n",
       "    <tr>\n",
       "      <th>4</th>\n",
       "      <td>3256f628-e534-4826-9d63-4a8b88782852</td>\n",
       "      <td>Landing Page Submission</td>\n",
       "      <td>Google</td>\n",
       "      <td>1</td>\n",
       "      <td>2.0</td>\n",
       "      <td>1428</td>\n",
       "      <td>1.0</td>\n",
       "      <td>Converted to Lead</td>\n",
       "      <td>India</td>\n",
       "      <td>Select</td>\n",
       "      <td>Other</td>\n",
       "      <td>Unemployed</td>\n",
       "      <td>Better Career Prospects</td>\n",
       "      <td>Will revert after reading the email</td>\n",
       "      <td>Select</td>\n",
       "      <td>Mumbai</td>\n",
       "      <td>0</td>\n",
       "    </tr>\n",
       "  </tbody>\n",
       "</table>\n",
       "</div>"
      ],
      "text/plain": [
       "                            Prospect ID              Lead Origin  \\\n",
       "0  7927b2df-8bba-4d29-b9a2-b6e0beafe620                      API   \n",
       "1  2a272436-5132-4136-86fa-dcc88c88f482                      API   \n",
       "2  8cc8c611-a219-4f35-ad23-fdfd2656bd8a  Landing Page Submission   \n",
       "3  0cc2df48-7cf4-4e39-9de9-19797f9b38cc  Landing Page Submission   \n",
       "4  3256f628-e534-4826-9d63-4a8b88782852  Landing Page Submission   \n",
       "\n",
       "      Lead Source  Converted  TotalVisits  Total Time Spent on Website  \\\n",
       "0      Olark Chat          0          0.0                            0   \n",
       "1  Organic Search          0          5.0                          674   \n",
       "2  Direct Traffic          1          2.0                         1532   \n",
       "3  Direct Traffic          0          1.0                          305   \n",
       "4          Google          1          2.0                         1428   \n",
       "\n",
       "   Page Views Per Visit            Last Activity Country  \\\n",
       "0                   0.0  Page Visited on Website   India   \n",
       "1                   2.5             Email Opened   India   \n",
       "2                   2.0             Email Opened   India   \n",
       "3                   1.0              Unreachable   India   \n",
       "4                   1.0        Converted to Lead   India   \n",
       "\n",
       "            Specialization How did you hear about X Education  \\\n",
       "0                   Select                             Select   \n",
       "1                   Select                             Select   \n",
       "2  Business Administration                             Select   \n",
       "3    Media and Advertising                      Word Of Mouth   \n",
       "4                   Select                              Other   \n",
       "\n",
       "  What is your current occupation  \\\n",
       "0                      Unemployed   \n",
       "1                      Unemployed   \n",
       "2                         Student   \n",
       "3                      Unemployed   \n",
       "4                      Unemployed   \n",
       "\n",
       "  What matters most to you in choosing a course  \\\n",
       "0                       Better Career Prospects   \n",
       "1                       Better Career Prospects   \n",
       "2                       Better Career Prospects   \n",
       "3                       Better Career Prospects   \n",
       "4                       Better Career Prospects   \n",
       "\n",
       "                                  Tags    Lead Profile    City  Advertisement  \n",
       "0          Interested in other courses          Select  Select              0  \n",
       "1                              Ringing          Select  Select              0  \n",
       "2  Will revert after reading the email  Potential Lead  Mumbai              0  \n",
       "3                              Ringing          Select  Mumbai              0  \n",
       "4  Will revert after reading the email          Select  Mumbai              0  "
      ]
     },
     "execution_count": 56,
     "metadata": {},
     "output_type": "execute_result"
    }
   ],
   "source": [
    "leads_data.head()"
   ]
  },
  {
   "cell_type": "code",
   "execution_count": 57,
   "id": "ff53d32c",
   "metadata": {
    "ExecuteTime": {
     "end_time": "2023-06-25T20:57:02.110390Z",
     "start_time": "2023-06-25T20:57:02.091574Z"
    }
   },
   "outputs": [
    {
     "data": {
      "text/plain": [
       "(5702, 17)"
      ]
     },
     "execution_count": 57,
     "metadata": {},
     "output_type": "execute_result"
    }
   ],
   "source": [
    "leads_data.shape"
   ]
  },
  {
   "cell_type": "markdown",
   "id": "93d2cf0f",
   "metadata": {},
   "source": [
    "#### For categorical variables with multiple levels, create dummy features "
   ]
  },
  {
   "cell_type": "code",
   "execution_count": 58,
   "id": "5a2b1e32",
   "metadata": {
    "ExecuteTime": {
     "end_time": "2023-06-25T20:57:08.949593Z",
     "start_time": "2023-06-25T20:57:08.922383Z"
    }
   },
   "outputs": [],
   "source": [
    "# Creating a dummy variable for some of the categorical variables and dropping the first one.\n",
    "dummy1 = pd.get_dummies(leads_data[['Lead Origin','Lead Source']],drop_first=True)\n",
    "\n",
    "# Adding the results to the master dataframe\n",
    "leads_data = pd.concat([leads_data,dummy1],axis=1)"
   ]
  },
  {
   "cell_type": "code",
   "execution_count": 59,
   "id": "493c5028",
   "metadata": {
    "ExecuteTime": {
     "end_time": "2023-06-25T20:57:09.825614Z",
     "start_time": "2023-06-25T20:57:09.818383Z"
    }
   },
   "outputs": [
    {
     "data": {
      "text/plain": [
       "Index(['Prospect ID', 'Lead Origin', 'Lead Source', 'Converted', 'TotalVisits',\n",
       "       'Total Time Spent on Website', 'Page Views Per Visit', 'Last Activity',\n",
       "       'Country', 'Specialization', 'How did you hear about X Education',\n",
       "       'What is your current occupation',\n",
       "       'What matters most to you in choosing a course', 'Tags', 'Lead Profile',\n",
       "       'City', 'Advertisement', 'Lead Origin_Landing Page Submission',\n",
       "       'Lead Origin_Lead Add Form', 'Lead Origin_Lead Import',\n",
       "       'Lead Source_Direct Traffic', 'Lead Source_Facebook',\n",
       "       'Lead Source_Google', 'Lead Source_Live Chat', 'Lead Source_Olark Chat',\n",
       "       'Lead Source_Organic Search', 'Lead Source_Pay per Click Ads',\n",
       "       'Lead Source_Press_Release', 'Lead Source_Reference',\n",
       "       'Lead Source_Referral Sites', 'Lead Source_Social Media',\n",
       "       'Lead Source_WeLearn', 'Lead Source_Welingak Website',\n",
       "       'Lead Source_bing', 'Lead Source_testone'],\n",
       "      dtype='object')"
      ]
     },
     "execution_count": 59,
     "metadata": {},
     "output_type": "execute_result"
    }
   ],
   "source": [
    "leads_data.columns"
   ]
  },
  {
   "cell_type": "code",
   "execution_count": 60,
   "id": "e256c8c3",
   "metadata": {
    "ExecuteTime": {
     "end_time": "2023-06-25T20:57:18.147444Z",
     "start_time": "2023-06-25T20:57:18.103454Z"
    }
   },
   "outputs": [],
   "source": [
    "# Creating dummy variables for the remaining categorical variables\n",
    "\n",
    "# Creating dummy variables for the variable 'City'\n",
    "City = pd.get_dummies(leads_data['City'], prefix='City')\n",
    "leads_data = pd.concat([leads_data,City], axis=1)\n",
    "# Creating dummy variables for the variable 'How did you hear about X Education'\n",
    "sc = pd.get_dummies(leads_data['How did you hear about X Education'], prefix='How did you hear about X Education')\n",
    "leads_data = pd.concat([leads_data,sc], axis=1)\n",
    "\n",
    "# Creating dummy variables for the variable 'What is your current occupation'\n",
    "cu = pd.get_dummies(leads_data['What is your current occupation'], prefix='What is your current occupation')\n",
    "leads_data = pd.concat([leads_data,cu], axis=1)\n",
    "\n",
    "# Creating dummy variables for the variable 'What matters most to you in choosing a course'\n",
    "ytc = pd.get_dummies(leads_data['What matters most to you in choosing a course'], prefix='What matters most to you in choosing a course')\n",
    "leads_data = pd.concat([leads_data,ytc], axis=1)\n",
    "\n",
    "# Creating dummy variables for the variable 'Tags'\n",
    "tags = pd.get_dummies(leads_data['Tags'], prefix='Tags')\n",
    "leads_data = pd.concat([leads_data,tags], axis=1)\n",
    "\n",
    "# Creating dummy variables for the variable 'Lead Profile'\n",
    "lp = pd.get_dummies(leads_data['Lead Profile'], prefix='Lead Profile')\n",
    "leads_data = pd.concat([leads_data,lp], axis=1)\n",
    "\n",
    "\n",
    "# Creating dummy variables for the variable 'Specialization'\n",
    "spe = pd.get_dummies(leads_data['Specialization'],prefix='Specialization')\n",
    "leads_data = pd.concat([leads_data,spe],axis=1)\n",
    "\n",
    "# Creating dummy variables for the variable 'Last Activity'\n",
    "la = pd.get_dummies(leads_data['Last Activity'],prefix='Last Activity')\n",
    "leads_data = pd.concat([leads_data,la],axis=1)"
   ]
  },
  {
   "cell_type": "code",
   "execution_count": 61,
   "id": "a27a8201",
   "metadata": {
    "ExecuteTime": {
     "end_time": "2023-06-25T20:57:19.516957Z",
     "start_time": "2023-06-25T20:57:19.493198Z"
    }
   },
   "outputs": [
    {
     "data": {
      "text/plain": [
       "(5702, 128)"
      ]
     },
     "execution_count": 61,
     "metadata": {},
     "output_type": "execute_result"
    }
   ],
   "source": [
    "leads_data.shape"
   ]
  },
  {
   "cell_type": "code",
   "execution_count": 62,
   "id": "761db1f4",
   "metadata": {
    "ExecuteTime": {
     "end_time": "2023-06-25T20:57:20.016874Z",
     "start_time": "2023-06-25T20:57:19.984507Z"
    }
   },
   "outputs": [],
   "source": [
    "###dropping the columns which are not necessary for analysis\n",
    "leads_data.drop('Last Activity',axis =1,inplace = True)\n",
    "leads_data.drop('Last Activity_Visited Booth in Tradeshow',axis =1,inplace = True)\n",
    "leads_data.drop('Last Activity_Unsubscribed',axis =1,inplace = True)\n",
    "leads_data.drop('Last Activity_Unreachable',axis =1,inplace = True)\n",
    "leads_data.drop('Last Activity_Email Marked Spam',axis =1,inplace = True)\n",
    "leads_data.drop('Last Activity_Converted to Lead',axis =1,inplace = True)\n",
    "leads_data.drop('Last Activity_Email Bounced',axis =1,inplace = True)\n"
   ]
  },
  {
   "cell_type": "code",
   "execution_count": 63,
   "id": "61f2172d",
   "metadata": {
    "ExecuteTime": {
     "end_time": "2023-06-25T20:57:25.764289Z",
     "start_time": "2023-06-25T20:57:25.748546Z"
    }
   },
   "outputs": [
    {
     "data": {
      "text/plain": [
       "(5702, 121)"
      ]
     },
     "execution_count": 63,
     "metadata": {},
     "output_type": "execute_result"
    }
   ],
   "source": [
    "leads_data.shape"
   ]
  },
  {
   "cell_type": "code",
   "execution_count": 64,
   "id": "23a4d99b",
   "metadata": {
    "ExecuteTime": {
     "end_time": "2023-06-25T20:57:26.229526Z",
     "start_time": "2023-06-25T20:57:26.210388Z"
    }
   },
   "outputs": [],
   "source": [
    "leads_data.drop('Lead Origin',axis =1,inplace = True)\n",
    "leads_data.drop('Lead Origin_Lead Import',axis =1,inplace = True)"
   ]
  },
  {
   "cell_type": "code",
   "execution_count": 65,
   "id": "743f91b2",
   "metadata": {
    "ExecuteTime": {
     "end_time": "2023-06-25T20:57:26.681063Z",
     "start_time": "2023-06-25T20:57:26.659387Z"
    }
   },
   "outputs": [
    {
     "data": {
      "text/plain": [
       "['Prospect ID',\n",
       " 'Lead Source',\n",
       " 'Converted',\n",
       " 'TotalVisits',\n",
       " 'Total Time Spent on Website',\n",
       " 'Page Views Per Visit',\n",
       " 'Country',\n",
       " 'Specialization',\n",
       " 'How did you hear about X Education',\n",
       " 'What is your current occupation',\n",
       " 'What matters most to you in choosing a course',\n",
       " 'Tags',\n",
       " 'Lead Profile',\n",
       " 'City',\n",
       " 'Advertisement',\n",
       " 'Lead Origin_Landing Page Submission',\n",
       " 'Lead Origin_Lead Add Form',\n",
       " 'Lead Source_Direct Traffic',\n",
       " 'Lead Source_Facebook',\n",
       " 'Lead Source_Google',\n",
       " 'Lead Source_Live Chat',\n",
       " 'Lead Source_Olark Chat',\n",
       " 'Lead Source_Organic Search',\n",
       " 'Lead Source_Pay per Click Ads',\n",
       " 'Lead Source_Press_Release',\n",
       " 'Lead Source_Reference',\n",
       " 'Lead Source_Referral Sites',\n",
       " 'Lead Source_Social Media',\n",
       " 'Lead Source_WeLearn',\n",
       " 'Lead Source_Welingak Website',\n",
       " 'Lead Source_bing',\n",
       " 'Lead Source_testone',\n",
       " 'City_Mumbai',\n",
       " 'City_Other Cities',\n",
       " 'City_Other Cities of Maharashtra',\n",
       " 'City_Other Metro Cities',\n",
       " 'City_Select',\n",
       " 'City_Thane & Outskirts',\n",
       " 'City_Tier II Cities',\n",
       " 'How did you hear about X Education_Advertisements',\n",
       " 'How did you hear about X Education_Email',\n",
       " 'How did you hear about X Education_Multiple Sources',\n",
       " 'How did you hear about X Education_Online Search',\n",
       " 'How did you hear about X Education_Other',\n",
       " 'How did you hear about X Education_SMS',\n",
       " 'How did you hear about X Education_Select',\n",
       " 'How did you hear about X Education_Social Media',\n",
       " 'How did you hear about X Education_Student of SomeSchool',\n",
       " 'How did you hear about X Education_Word Of Mouth',\n",
       " 'What is your current occupation_Businessman',\n",
       " 'What is your current occupation_Housewife',\n",
       " 'What is your current occupation_Other',\n",
       " 'What is your current occupation_Student',\n",
       " 'What is your current occupation_Unemployed',\n",
       " 'What is your current occupation_Working Professional',\n",
       " 'What matters most to you in choosing a course_Better Career Prospects',\n",
       " 'What matters most to you in choosing a course_Flexibility & Convenience',\n",
       " 'What matters most to you in choosing a course_Other',\n",
       " 'Tags_Already a student',\n",
       " 'Tags_Busy',\n",
       " 'Tags_Closed by Horizzon',\n",
       " 'Tags_Diploma holder (Not Eligible)',\n",
       " 'Tags_Graduation in progress',\n",
       " 'Tags_In confusion whether part time or DLP',\n",
       " 'Tags_Interested  in full time MBA',\n",
       " 'Tags_Interested in Next batch',\n",
       " 'Tags_Interested in other courses',\n",
       " 'Tags_Lateral student',\n",
       " 'Tags_Lost to EINS',\n",
       " 'Tags_Lost to Others',\n",
       " 'Tags_Not doing further education',\n",
       " 'Tags_Recognition issue (DEC approval)',\n",
       " 'Tags_Ringing',\n",
       " 'Tags_Shall take in the next coming month',\n",
       " 'Tags_Still Thinking',\n",
       " 'Tags_University not recognized',\n",
       " 'Tags_Want to take admission but has financial problems',\n",
       " 'Tags_Will revert after reading the email',\n",
       " 'Tags_in touch with EINS',\n",
       " 'Tags_invalid number',\n",
       " 'Tags_number not provided',\n",
       " 'Tags_opp hangup',\n",
       " 'Tags_switched off',\n",
       " 'Tags_wrong number given',\n",
       " 'Lead Profile_Dual Specialization Student',\n",
       " 'Lead Profile_Lateral Student',\n",
       " 'Lead Profile_Other Leads',\n",
       " 'Lead Profile_Potential Lead',\n",
       " 'Lead Profile_Select',\n",
       " 'Lead Profile_Student of SomeSchool',\n",
       " 'Specialization_Banking, Investment And Insurance',\n",
       " 'Specialization_Business Administration',\n",
       " 'Specialization_E-Business',\n",
       " 'Specialization_E-COMMERCE',\n",
       " 'Specialization_Finance Management',\n",
       " 'Specialization_Healthcare Management',\n",
       " 'Specialization_Hospitality Management',\n",
       " 'Specialization_Human Resource Management',\n",
       " 'Specialization_IT Projects Management',\n",
       " 'Specialization_International Business',\n",
       " 'Specialization_Marketing Management',\n",
       " 'Specialization_Media and Advertising',\n",
       " 'Specialization_Operations Management',\n",
       " 'Specialization_Retail Management',\n",
       " 'Specialization_Rural and Agribusiness',\n",
       " 'Specialization_Select',\n",
       " 'Specialization_Services Excellence',\n",
       " 'Specialization_Supply Chain Management',\n",
       " 'Specialization_Travel and Tourism',\n",
       " 'Last Activity_Approached upfront',\n",
       " 'Last Activity_Email Link Clicked',\n",
       " 'Last Activity_Email Opened',\n",
       " 'Last Activity_Email Received',\n",
       " 'Last Activity_Form Submitted on Website',\n",
       " 'Last Activity_Had a Phone Conversation',\n",
       " 'Last Activity_Olark Chat Conversation',\n",
       " 'Last Activity_Page Visited on Website',\n",
       " 'Last Activity_SMS Sent',\n",
       " 'Last Activity_View in browser link Clicked']"
      ]
     },
     "execution_count": 65,
     "metadata": {},
     "output_type": "execute_result"
    }
   ],
   "source": [
    "leads_data.columns.tolist()"
   ]
  },
  {
   "cell_type": "code",
   "execution_count": 66,
   "id": "2bc0163e",
   "metadata": {
    "ExecuteTime": {
     "end_time": "2023-06-25T20:57:28.309970Z",
     "start_time": "2023-06-25T20:57:28.256699Z"
    }
   },
   "outputs": [],
   "source": [
    "leads_data.drop('Tags_Already a student',axis =1,inplace=True)\n",
    "leads_data.drop('Tags_switched off',axis=1,inplace=True)\n",
    "leads_data.drop('Tags_opp hangup',axis=1,inplace=True)\n",
    "leads_data.drop('Tags_number not provided',axis=1,inplace=True)\n",
    "leads_data.drop('Tags_Not doing further education',axis=1,inplace=True)\n",
    "leads_data.drop('Tags_invalid number',axis=1,inplace=True)\n",
    "leads_data.drop('Tags_wrong number given',axis=1,inplace=True)\n",
    "leads_data.drop('Tags_Lost to Others',axis=1,inplace=True)\n",
    "leads_data.drop('Tags_Lost to EINS',axis=1,inplace=True)\n",
    "leads_data.drop('Tags_Graduation in progress',axis=1,inplace=True)\n",
    "leads_data.drop('Tags_Diploma holder (Not Eligible)',axis=1,inplace=True)\n",
    "leads_data.drop('Tags_Want to take admission but has financial problems',axis=1,inplace=True)\n",
    "leads_data.drop('Tags_Ringing',axis=1,inplace=True)\n",
    "leads_data.drop('Tags_Interested in other courses',axis=1,inplace=True)\n",
    "leads_data.drop('Tags_Interested in Next batch',axis=1,inplace=True)\n",
    "leads_data.drop('Tags_Closed by Horizzon',axis=1,inplace=True)"
   ]
  },
  {
   "cell_type": "code",
   "execution_count": 67,
   "id": "9ce55416",
   "metadata": {
    "ExecuteTime": {
     "end_time": "2023-06-25T20:57:28.875760Z",
     "start_time": "2023-06-25T20:57:28.838717Z"
    }
   },
   "outputs": [],
   "source": [
    "leads_data.drop('Lead Source',axis=1,inplace=True)\n",
    "leads_data.drop('Lead Source_Welingak Website',axis=1,inplace=True)\n",
    "leads_data.drop('Lead Source_Facebook',axis=1,inplace=True)\n",
    "leads_data.drop('Lead Source_bing',axis=1,inplace=True)\n",
    "leads_data.drop('Lead Source_Social Media',axis=1,inplace=True)\n",
    "leads_data.drop('Lead Source_Live Chat',axis=1,inplace=True)\n",
    "leads_data.drop('Lead Source_Pay per Click Ads',axis=1,inplace=True)\n",
    "leads_data.drop('Lead Source_testone',axis=1,inplace=True)\n",
    "leads_data.drop('Lead Source_WeLearn',axis=1,inplace=True)\n",
    "leads_data.drop('Lead Source_Press_Release',axis=1,inplace=True)"
   ]
  },
  {
   "cell_type": "code",
   "execution_count": 68,
   "id": "b3a384a9",
   "metadata": {
    "ExecuteTime": {
     "end_time": "2023-06-25T20:57:29.389770Z",
     "start_time": "2023-06-25T20:57:29.362704Z"
    }
   },
   "outputs": [],
   "source": [
    "leads_data.drop('Lead Profile',axis=1,inplace=True)\n",
    "leads_data.drop('Lead Profile_Select',axis=1,inplace=True)\n",
    "leads_data.drop('Lead Profile_Student of SomeSchool',axis=1,inplace=True)"
   ]
  },
  {
   "cell_type": "code",
   "execution_count": 69,
   "id": "284098ab",
   "metadata": {
    "ExecuteTime": {
     "end_time": "2023-06-25T20:57:29.857711Z",
     "start_time": "2023-06-25T20:57:29.825216Z"
    }
   },
   "outputs": [],
   "source": [
    "leads_data.drop('What is your current occupation_Student',axis=1,inplace=True)\n",
    "leads_data.drop('What matters most to you in choosing a course_Flexibility & Convenience',axis=1,inplace=True)\n",
    "leads_data.drop('What matters most to you in choosing a course_Other',axis=1,inplace=True)\n",
    "leads_data.drop('What matters most to you in choosing a course',axis=1,inplace=True)"
   ]
  },
  {
   "cell_type": "code",
   "execution_count": 70,
   "id": "ded06172",
   "metadata": {
    "ExecuteTime": {
     "end_time": "2023-06-25T20:57:30.339927Z",
     "start_time": "2023-06-25T20:57:30.307981Z"
    }
   },
   "outputs": [],
   "source": [
    "leads_data.drop('How did you hear about X Education',axis=1,inplace=True)\n",
    "\n",
    "leads_data.drop('What is your current occupation',axis=1,inplace=True)\n",
    "leads_data.drop('What is your current occupation_Businessman',axis=1,inplace=True)"
   ]
  },
  {
   "cell_type": "code",
   "execution_count": 71,
   "id": "6f0630b0",
   "metadata": {
    "ExecuteTime": {
     "end_time": "2023-06-25T20:57:30.792972Z",
     "start_time": "2023-06-25T20:57:30.775430Z"
    }
   },
   "outputs": [],
   "source": [
    "leads_data.drop('What is your current occupation_Housewife',axis=1,inplace=True)\n",
    "leads_data.drop('What is your current occupation_Other',axis=1,inplace=True)"
   ]
  },
  {
   "cell_type": "code",
   "execution_count": 72,
   "id": "32ef2df2",
   "metadata": {
    "ExecuteTime": {
     "end_time": "2023-06-25T20:57:31.277362Z",
     "start_time": "2023-06-25T20:57:31.259552Z"
    }
   },
   "outputs": [],
   "source": [
    "leads_data.drop('City',axis=1,inplace=True)\n",
    "leads_data.drop('City_Tier II Cities',axis=1,inplace=True)\n",
    "leads_data.drop('City_Select',axis=1,inplace=True)"
   ]
  },
  {
   "cell_type": "code",
   "execution_count": 73,
   "id": "f552d4b1",
   "metadata": {
    "ExecuteTime": {
     "end_time": "2023-06-25T20:57:31.728828Z",
     "start_time": "2023-06-25T20:57:31.709777Z"
    }
   },
   "outputs": [],
   "source": [
    "leads_data.drop('Country',axis=1,inplace=True)"
   ]
  },
  {
   "cell_type": "code",
   "execution_count": 74,
   "id": "dab8b6e3",
   "metadata": {
    "ExecuteTime": {
     "end_time": "2023-06-25T20:57:32.244874Z",
     "start_time": "2023-06-25T20:57:32.229449Z"
    }
   },
   "outputs": [],
   "source": [
    "leads_data.drop('How did you hear about X Education_Select',axis=1,inplace=True)\n",
    "leads_data.drop('Specialization_Select',axis=1,inplace=True)\n",
    "leads_data.drop('Specialization',axis=1,inplace=True)"
   ]
  },
  {
   "cell_type": "code",
   "execution_count": 75,
   "id": "aac279a9",
   "metadata": {
    "ExecuteTime": {
     "end_time": "2023-06-25T20:57:32.820136Z",
     "start_time": "2023-06-25T20:57:32.795330Z"
    }
   },
   "outputs": [],
   "source": [
    "leads_data.drop('How did you hear about X Education_Other',axis =1 ,inplace = True)"
   ]
  },
  {
   "cell_type": "code",
   "execution_count": 76,
   "id": "dfdc295b",
   "metadata": {
    "ExecuteTime": {
     "end_time": "2023-06-25T20:57:33.398740Z",
     "start_time": "2023-06-25T20:57:33.386158Z"
    }
   },
   "outputs": [],
   "source": [
    "leads_data.drop('Tags_Busy',axis =1,inplace=True)"
   ]
  },
  {
   "cell_type": "code",
   "execution_count": 77,
   "id": "70d44d5a",
   "metadata": {
    "ExecuteTime": {
     "end_time": "2023-06-25T20:57:33.911507Z",
     "start_time": "2023-06-25T20:57:33.891011Z"
    }
   },
   "outputs": [],
   "source": [
    "leads_data.drop(\"Tags\",axis=1,inplace=True)"
   ]
  },
  {
   "cell_type": "code",
   "execution_count": 78,
   "id": "d23a9328",
   "metadata": {
    "ExecuteTime": {
     "end_time": "2023-06-25T20:57:35.280391Z",
     "start_time": "2023-06-25T20:57:35.269594Z"
    }
   },
   "outputs": [
    {
     "data": {
      "text/plain": [
       "['Prospect ID',\n",
       " 'Converted',\n",
       " 'TotalVisits',\n",
       " 'Total Time Spent on Website',\n",
       " 'Page Views Per Visit',\n",
       " 'Advertisement',\n",
       " 'Lead Origin_Landing Page Submission',\n",
       " 'Lead Origin_Lead Add Form',\n",
       " 'Lead Source_Direct Traffic',\n",
       " 'Lead Source_Google',\n",
       " 'Lead Source_Olark Chat',\n",
       " 'Lead Source_Organic Search',\n",
       " 'Lead Source_Reference',\n",
       " 'Lead Source_Referral Sites',\n",
       " 'City_Mumbai',\n",
       " 'City_Other Cities',\n",
       " 'City_Other Cities of Maharashtra',\n",
       " 'City_Other Metro Cities',\n",
       " 'City_Thane & Outskirts',\n",
       " 'How did you hear about X Education_Advertisements',\n",
       " 'How did you hear about X Education_Email',\n",
       " 'How did you hear about X Education_Multiple Sources',\n",
       " 'How did you hear about X Education_Online Search',\n",
       " 'How did you hear about X Education_SMS',\n",
       " 'How did you hear about X Education_Social Media',\n",
       " 'How did you hear about X Education_Student of SomeSchool',\n",
       " 'How did you hear about X Education_Word Of Mouth',\n",
       " 'What is your current occupation_Unemployed',\n",
       " 'What is your current occupation_Working Professional',\n",
       " 'What matters most to you in choosing a course_Better Career Prospects',\n",
       " 'Tags_In confusion whether part time or DLP',\n",
       " 'Tags_Interested  in full time MBA',\n",
       " 'Tags_Lateral student',\n",
       " 'Tags_Recognition issue (DEC approval)',\n",
       " 'Tags_Shall take in the next coming month',\n",
       " 'Tags_Still Thinking',\n",
       " 'Tags_University not recognized',\n",
       " 'Tags_Will revert after reading the email',\n",
       " 'Tags_in touch with EINS',\n",
       " 'Lead Profile_Dual Specialization Student',\n",
       " 'Lead Profile_Lateral Student',\n",
       " 'Lead Profile_Other Leads',\n",
       " 'Lead Profile_Potential Lead',\n",
       " 'Specialization_Banking, Investment And Insurance',\n",
       " 'Specialization_Business Administration',\n",
       " 'Specialization_E-Business',\n",
       " 'Specialization_E-COMMERCE',\n",
       " 'Specialization_Finance Management',\n",
       " 'Specialization_Healthcare Management',\n",
       " 'Specialization_Hospitality Management',\n",
       " 'Specialization_Human Resource Management',\n",
       " 'Specialization_IT Projects Management',\n",
       " 'Specialization_International Business',\n",
       " 'Specialization_Marketing Management',\n",
       " 'Specialization_Media and Advertising',\n",
       " 'Specialization_Operations Management',\n",
       " 'Specialization_Retail Management',\n",
       " 'Specialization_Rural and Agribusiness',\n",
       " 'Specialization_Services Excellence',\n",
       " 'Specialization_Supply Chain Management',\n",
       " 'Specialization_Travel and Tourism',\n",
       " 'Last Activity_Approached upfront',\n",
       " 'Last Activity_Email Link Clicked',\n",
       " 'Last Activity_Email Opened',\n",
       " 'Last Activity_Email Received',\n",
       " 'Last Activity_Form Submitted on Website',\n",
       " 'Last Activity_Had a Phone Conversation',\n",
       " 'Last Activity_Olark Chat Conversation',\n",
       " 'Last Activity_Page Visited on Website',\n",
       " 'Last Activity_SMS Sent',\n",
       " 'Last Activity_View in browser link Clicked']"
      ]
     },
     "execution_count": 78,
     "metadata": {},
     "output_type": "execute_result"
    }
   ],
   "source": [
    "leads_data.columns.tolist()"
   ]
  },
  {
   "cell_type": "markdown",
   "id": "90532900",
   "metadata": {
    "ExecuteTime": {
     "end_time": "2023-06-21T19:29:55.801275Z",
     "start_time": "2023-06-21T19:29:55.794478Z"
    }
   },
   "source": [
    "### Checking Outliers"
   ]
  },
  {
   "cell_type": "code",
   "execution_count": 79,
   "id": "d880f9e9",
   "metadata": {
    "ExecuteTime": {
     "end_time": "2023-06-25T20:57:37.919236Z",
     "start_time": "2023-06-25T20:57:37.748798Z"
    }
   },
   "outputs": [
    {
     "data": {
      "text/html": [
       "<div>\n",
       "<style scoped>\n",
       "    .dataframe tbody tr th:only-of-type {\n",
       "        vertical-align: middle;\n",
       "    }\n",
       "\n",
       "    .dataframe tbody tr th {\n",
       "        vertical-align: top;\n",
       "    }\n",
       "\n",
       "    .dataframe thead th {\n",
       "        text-align: right;\n",
       "    }\n",
       "</style>\n",
       "<table border=\"1\" class=\"dataframe\">\n",
       "  <thead>\n",
       "    <tr style=\"text-align: right;\">\n",
       "      <th></th>\n",
       "      <th>Converted</th>\n",
       "      <th>TotalVisits</th>\n",
       "      <th>Total Time Spent on Website</th>\n",
       "      <th>Page Views Per Visit</th>\n",
       "      <th>Advertisement</th>\n",
       "      <th>Lead Origin_Landing Page Submission</th>\n",
       "      <th>Lead Origin_Lead Add Form</th>\n",
       "      <th>Lead Source_Direct Traffic</th>\n",
       "      <th>Lead Source_Google</th>\n",
       "      <th>Lead Source_Olark Chat</th>\n",
       "      <th>...</th>\n",
       "      <th>Last Activity_Approached upfront</th>\n",
       "      <th>Last Activity_Email Link Clicked</th>\n",
       "      <th>Last Activity_Email Opened</th>\n",
       "      <th>Last Activity_Email Received</th>\n",
       "      <th>Last Activity_Form Submitted on Website</th>\n",
       "      <th>Last Activity_Had a Phone Conversation</th>\n",
       "      <th>Last Activity_Olark Chat Conversation</th>\n",
       "      <th>Last Activity_Page Visited on Website</th>\n",
       "      <th>Last Activity_SMS Sent</th>\n",
       "      <th>Last Activity_View in browser link Clicked</th>\n",
       "    </tr>\n",
       "  </thead>\n",
       "  <tbody>\n",
       "    <tr>\n",
       "      <th>count</th>\n",
       "      <td>5702.000000</td>\n",
       "      <td>5702.000000</td>\n",
       "      <td>5702.000000</td>\n",
       "      <td>5702.000000</td>\n",
       "      <td>5702.000000</td>\n",
       "      <td>5702.000000</td>\n",
       "      <td>5702.000000</td>\n",
       "      <td>5702.000000</td>\n",
       "      <td>5702.000000</td>\n",
       "      <td>5702.000000</td>\n",
       "      <td>...</td>\n",
       "      <td>5702.000000</td>\n",
       "      <td>5702.000000</td>\n",
       "      <td>5702.000000</td>\n",
       "      <td>5702.000000</td>\n",
       "      <td>5702.000000</td>\n",
       "      <td>5702.000000</td>\n",
       "      <td>5702.000000</td>\n",
       "      <td>5702.000000</td>\n",
       "      <td>5702.000000</td>\n",
       "      <td>5702.000000</td>\n",
       "    </tr>\n",
       "    <tr>\n",
       "      <th>mean</th>\n",
       "      <td>0.455279</td>\n",
       "      <td>3.712908</td>\n",
       "      <td>542.192389</td>\n",
       "      <td>2.571968</td>\n",
       "      <td>0.003332</td>\n",
       "      <td>0.608383</td>\n",
       "      <td>0.087162</td>\n",
       "      <td>0.314626</td>\n",
       "      <td>0.322694</td>\n",
       "      <td>0.118029</td>\n",
       "      <td>...</td>\n",
       "      <td>0.000877</td>\n",
       "      <td>0.028937</td>\n",
       "      <td>0.386005</td>\n",
       "      <td>0.000351</td>\n",
       "      <td>0.013504</td>\n",
       "      <td>0.004034</td>\n",
       "      <td>0.063486</td>\n",
       "      <td>0.070852</td>\n",
       "      <td>0.335847</td>\n",
       "      <td>0.000526</td>\n",
       "    </tr>\n",
       "    <tr>\n",
       "      <th>std</th>\n",
       "      <td>0.498040</td>\n",
       "      <td>4.913834</td>\n",
       "      <td>563.470891</td>\n",
       "      <td>2.063820</td>\n",
       "      <td>0.057634</td>\n",
       "      <td>0.488155</td>\n",
       "      <td>0.282098</td>\n",
       "      <td>0.464408</td>\n",
       "      <td>0.467548</td>\n",
       "      <td>0.322670</td>\n",
       "      <td>...</td>\n",
       "      <td>0.029602</td>\n",
       "      <td>0.167645</td>\n",
       "      <td>0.486874</td>\n",
       "      <td>0.018727</td>\n",
       "      <td>0.115430</td>\n",
       "      <td>0.063389</td>\n",
       "      <td>0.243857</td>\n",
       "      <td>0.256601</td>\n",
       "      <td>0.472327</td>\n",
       "      <td>0.022934</td>\n",
       "    </tr>\n",
       "    <tr>\n",
       "      <th>min</th>\n",
       "      <td>0.000000</td>\n",
       "      <td>0.000000</td>\n",
       "      <td>0.000000</td>\n",
       "      <td>0.000000</td>\n",
       "      <td>0.000000</td>\n",
       "      <td>0.000000</td>\n",
       "      <td>0.000000</td>\n",
       "      <td>0.000000</td>\n",
       "      <td>0.000000</td>\n",
       "      <td>0.000000</td>\n",
       "      <td>...</td>\n",
       "      <td>0.000000</td>\n",
       "      <td>0.000000</td>\n",
       "      <td>0.000000</td>\n",
       "      <td>0.000000</td>\n",
       "      <td>0.000000</td>\n",
       "      <td>0.000000</td>\n",
       "      <td>0.000000</td>\n",
       "      <td>0.000000</td>\n",
       "      <td>0.000000</td>\n",
       "      <td>0.000000</td>\n",
       "    </tr>\n",
       "    <tr>\n",
       "      <th>25%</th>\n",
       "      <td>0.000000</td>\n",
       "      <td>2.000000</td>\n",
       "      <td>53.250000</td>\n",
       "      <td>1.000000</td>\n",
       "      <td>0.000000</td>\n",
       "      <td>0.000000</td>\n",
       "      <td>0.000000</td>\n",
       "      <td>0.000000</td>\n",
       "      <td>0.000000</td>\n",
       "      <td>0.000000</td>\n",
       "      <td>...</td>\n",
       "      <td>0.000000</td>\n",
       "      <td>0.000000</td>\n",
       "      <td>0.000000</td>\n",
       "      <td>0.000000</td>\n",
       "      <td>0.000000</td>\n",
       "      <td>0.000000</td>\n",
       "      <td>0.000000</td>\n",
       "      <td>0.000000</td>\n",
       "      <td>0.000000</td>\n",
       "      <td>0.000000</td>\n",
       "    </tr>\n",
       "    <tr>\n",
       "      <th>50%</th>\n",
       "      <td>0.000000</td>\n",
       "      <td>3.000000</td>\n",
       "      <td>297.000000</td>\n",
       "      <td>2.000000</td>\n",
       "      <td>0.000000</td>\n",
       "      <td>1.000000</td>\n",
       "      <td>0.000000</td>\n",
       "      <td>0.000000</td>\n",
       "      <td>0.000000</td>\n",
       "      <td>0.000000</td>\n",
       "      <td>...</td>\n",
       "      <td>0.000000</td>\n",
       "      <td>0.000000</td>\n",
       "      <td>0.000000</td>\n",
       "      <td>0.000000</td>\n",
       "      <td>0.000000</td>\n",
       "      <td>0.000000</td>\n",
       "      <td>0.000000</td>\n",
       "      <td>0.000000</td>\n",
       "      <td>0.000000</td>\n",
       "      <td>0.000000</td>\n",
       "    </tr>\n",
       "    <tr>\n",
       "      <th>75%</th>\n",
       "      <td>1.000000</td>\n",
       "      <td>5.000000</td>\n",
       "      <td>1025.000000</td>\n",
       "      <td>4.000000</td>\n",
       "      <td>0.000000</td>\n",
       "      <td>1.000000</td>\n",
       "      <td>0.000000</td>\n",
       "      <td>1.000000</td>\n",
       "      <td>1.000000</td>\n",
       "      <td>0.000000</td>\n",
       "      <td>...</td>\n",
       "      <td>0.000000</td>\n",
       "      <td>0.000000</td>\n",
       "      <td>1.000000</td>\n",
       "      <td>0.000000</td>\n",
       "      <td>0.000000</td>\n",
       "      <td>0.000000</td>\n",
       "      <td>0.000000</td>\n",
       "      <td>0.000000</td>\n",
       "      <td>1.000000</td>\n",
       "      <td>0.000000</td>\n",
       "    </tr>\n",
       "    <tr>\n",
       "      <th>max</th>\n",
       "      <td>1.000000</td>\n",
       "      <td>251.000000</td>\n",
       "      <td>2272.000000</td>\n",
       "      <td>16.000000</td>\n",
       "      <td>1.000000</td>\n",
       "      <td>1.000000</td>\n",
       "      <td>1.000000</td>\n",
       "      <td>1.000000</td>\n",
       "      <td>1.000000</td>\n",
       "      <td>1.000000</td>\n",
       "      <td>...</td>\n",
       "      <td>1.000000</td>\n",
       "      <td>1.000000</td>\n",
       "      <td>1.000000</td>\n",
       "      <td>1.000000</td>\n",
       "      <td>1.000000</td>\n",
       "      <td>1.000000</td>\n",
       "      <td>1.000000</td>\n",
       "      <td>1.000000</td>\n",
       "      <td>1.000000</td>\n",
       "      <td>1.000000</td>\n",
       "    </tr>\n",
       "  </tbody>\n",
       "</table>\n",
       "<p>8 rows × 70 columns</p>\n",
       "</div>"
      ],
      "text/plain": [
       "         Converted  TotalVisits  Total Time Spent on Website  \\\n",
       "count  5702.000000  5702.000000                  5702.000000   \n",
       "mean      0.455279     3.712908                   542.192389   \n",
       "std       0.498040     4.913834                   563.470891   \n",
       "min       0.000000     0.000000                     0.000000   \n",
       "25%       0.000000     2.000000                    53.250000   \n",
       "50%       0.000000     3.000000                   297.000000   \n",
       "75%       1.000000     5.000000                  1025.000000   \n",
       "max       1.000000   251.000000                  2272.000000   \n",
       "\n",
       "       Page Views Per Visit  Advertisement  \\\n",
       "count           5702.000000    5702.000000   \n",
       "mean               2.571968       0.003332   \n",
       "std                2.063820       0.057634   \n",
       "min                0.000000       0.000000   \n",
       "25%                1.000000       0.000000   \n",
       "50%                2.000000       0.000000   \n",
       "75%                4.000000       0.000000   \n",
       "max               16.000000       1.000000   \n",
       "\n",
       "       Lead Origin_Landing Page Submission  Lead Origin_Lead Add Form  \\\n",
       "count                          5702.000000                5702.000000   \n",
       "mean                              0.608383                   0.087162   \n",
       "std                               0.488155                   0.282098   \n",
       "min                               0.000000                   0.000000   \n",
       "25%                               0.000000                   0.000000   \n",
       "50%                               1.000000                   0.000000   \n",
       "75%                               1.000000                   0.000000   \n",
       "max                               1.000000                   1.000000   \n",
       "\n",
       "       Lead Source_Direct Traffic  Lead Source_Google  Lead Source_Olark Chat  \\\n",
       "count                 5702.000000         5702.000000             5702.000000   \n",
       "mean                     0.314626            0.322694                0.118029   \n",
       "std                      0.464408            0.467548                0.322670   \n",
       "min                      0.000000            0.000000                0.000000   \n",
       "25%                      0.000000            0.000000                0.000000   \n",
       "50%                      0.000000            0.000000                0.000000   \n",
       "75%                      1.000000            1.000000                0.000000   \n",
       "max                      1.000000            1.000000                1.000000   \n",
       "\n",
       "       ...  Last Activity_Approached upfront  \\\n",
       "count  ...                       5702.000000   \n",
       "mean   ...                          0.000877   \n",
       "std    ...                          0.029602   \n",
       "min    ...                          0.000000   \n",
       "25%    ...                          0.000000   \n",
       "50%    ...                          0.000000   \n",
       "75%    ...                          0.000000   \n",
       "max    ...                          1.000000   \n",
       "\n",
       "       Last Activity_Email Link Clicked  Last Activity_Email Opened  \\\n",
       "count                       5702.000000                 5702.000000   \n",
       "mean                           0.028937                    0.386005   \n",
       "std                            0.167645                    0.486874   \n",
       "min                            0.000000                    0.000000   \n",
       "25%                            0.000000                    0.000000   \n",
       "50%                            0.000000                    0.000000   \n",
       "75%                            0.000000                    1.000000   \n",
       "max                            1.000000                    1.000000   \n",
       "\n",
       "       Last Activity_Email Received  Last Activity_Form Submitted on Website  \\\n",
       "count                   5702.000000                              5702.000000   \n",
       "mean                       0.000351                                 0.013504   \n",
       "std                        0.018727                                 0.115430   \n",
       "min                        0.000000                                 0.000000   \n",
       "25%                        0.000000                                 0.000000   \n",
       "50%                        0.000000                                 0.000000   \n",
       "75%                        0.000000                                 0.000000   \n",
       "max                        1.000000                                 1.000000   \n",
       "\n",
       "       Last Activity_Had a Phone Conversation  \\\n",
       "count                             5702.000000   \n",
       "mean                                 0.004034   \n",
       "std                                  0.063389   \n",
       "min                                  0.000000   \n",
       "25%                                  0.000000   \n",
       "50%                                  0.000000   \n",
       "75%                                  0.000000   \n",
       "max                                  1.000000   \n",
       "\n",
       "       Last Activity_Olark Chat Conversation  \\\n",
       "count                            5702.000000   \n",
       "mean                                0.063486   \n",
       "std                                 0.243857   \n",
       "min                                 0.000000   \n",
       "25%                                 0.000000   \n",
       "50%                                 0.000000   \n",
       "75%                                 0.000000   \n",
       "max                                 1.000000   \n",
       "\n",
       "       Last Activity_Page Visited on Website  Last Activity_SMS Sent  \\\n",
       "count                            5702.000000             5702.000000   \n",
       "mean                                0.070852                0.335847   \n",
       "std                                 0.256601                0.472327   \n",
       "min                                 0.000000                0.000000   \n",
       "25%                                 0.000000                0.000000   \n",
       "50%                                 0.000000                0.000000   \n",
       "75%                                 0.000000                1.000000   \n",
       "max                                 1.000000                1.000000   \n",
       "\n",
       "       Last Activity_View in browser link Clicked  \n",
       "count                                 5702.000000  \n",
       "mean                                     0.000526  \n",
       "std                                      0.022934  \n",
       "min                                      0.000000  \n",
       "25%                                      0.000000  \n",
       "50%                                      0.000000  \n",
       "75%                                      0.000000  \n",
       "max                                      1.000000  \n",
       "\n",
       "[8 rows x 70 columns]"
      ]
     },
     "execution_count": 79,
     "metadata": {},
     "output_type": "execute_result"
    }
   ],
   "source": [
    "leads_data.describe()"
   ]
  },
  {
   "cell_type": "markdown",
   "id": "c562b3b2",
   "metadata": {},
   "source": [
    "### Step 4: Test-Train Split"
   ]
  },
  {
   "cell_type": "code",
   "execution_count": 80,
   "id": "0620aabc",
   "metadata": {
    "ExecuteTime": {
     "end_time": "2023-06-25T20:57:39.639914Z",
     "start_time": "2023-06-25T20:57:39.551143Z"
    }
   },
   "outputs": [],
   "source": [
    "from sklearn.model_selection import train_test_split"
   ]
  },
  {
   "cell_type": "code",
   "execution_count": 81,
   "id": "6aa9f23e",
   "metadata": {
    "ExecuteTime": {
     "end_time": "2023-06-25T20:57:40.090518Z",
     "start_time": "2023-06-25T20:57:40.057414Z"
    }
   },
   "outputs": [
    {
     "data": {
      "text/html": [
       "<div>\n",
       "<style scoped>\n",
       "    .dataframe tbody tr th:only-of-type {\n",
       "        vertical-align: middle;\n",
       "    }\n",
       "\n",
       "    .dataframe tbody tr th {\n",
       "        vertical-align: top;\n",
       "    }\n",
       "\n",
       "    .dataframe thead th {\n",
       "        text-align: right;\n",
       "    }\n",
       "</style>\n",
       "<table border=\"1\" class=\"dataframe\">\n",
       "  <thead>\n",
       "    <tr style=\"text-align: right;\">\n",
       "      <th></th>\n",
       "      <th>Prospect ID</th>\n",
       "      <th>Converted</th>\n",
       "      <th>TotalVisits</th>\n",
       "      <th>Total Time Spent on Website</th>\n",
       "      <th>Page Views Per Visit</th>\n",
       "      <th>Advertisement</th>\n",
       "      <th>Lead Origin_Landing Page Submission</th>\n",
       "      <th>Lead Origin_Lead Add Form</th>\n",
       "      <th>Lead Source_Direct Traffic</th>\n",
       "      <th>Lead Source_Google</th>\n",
       "      <th>...</th>\n",
       "      <th>Last Activity_Approached upfront</th>\n",
       "      <th>Last Activity_Email Link Clicked</th>\n",
       "      <th>Last Activity_Email Opened</th>\n",
       "      <th>Last Activity_Email Received</th>\n",
       "      <th>Last Activity_Form Submitted on Website</th>\n",
       "      <th>Last Activity_Had a Phone Conversation</th>\n",
       "      <th>Last Activity_Olark Chat Conversation</th>\n",
       "      <th>Last Activity_Page Visited on Website</th>\n",
       "      <th>Last Activity_SMS Sent</th>\n",
       "      <th>Last Activity_View in browser link Clicked</th>\n",
       "    </tr>\n",
       "  </thead>\n",
       "  <tbody>\n",
       "    <tr>\n",
       "      <th>0</th>\n",
       "      <td>7927b2df-8bba-4d29-b9a2-b6e0beafe620</td>\n",
       "      <td>0</td>\n",
       "      <td>0.0</td>\n",
       "      <td>0</td>\n",
       "      <td>0.0</td>\n",
       "      <td>0</td>\n",
       "      <td>0</td>\n",
       "      <td>0</td>\n",
       "      <td>0</td>\n",
       "      <td>0</td>\n",
       "      <td>...</td>\n",
       "      <td>0</td>\n",
       "      <td>0</td>\n",
       "      <td>0</td>\n",
       "      <td>0</td>\n",
       "      <td>0</td>\n",
       "      <td>0</td>\n",
       "      <td>0</td>\n",
       "      <td>1</td>\n",
       "      <td>0</td>\n",
       "      <td>0</td>\n",
       "    </tr>\n",
       "    <tr>\n",
       "      <th>1</th>\n",
       "      <td>2a272436-5132-4136-86fa-dcc88c88f482</td>\n",
       "      <td>0</td>\n",
       "      <td>5.0</td>\n",
       "      <td>674</td>\n",
       "      <td>2.5</td>\n",
       "      <td>0</td>\n",
       "      <td>0</td>\n",
       "      <td>0</td>\n",
       "      <td>0</td>\n",
       "      <td>0</td>\n",
       "      <td>...</td>\n",
       "      <td>0</td>\n",
       "      <td>0</td>\n",
       "      <td>1</td>\n",
       "      <td>0</td>\n",
       "      <td>0</td>\n",
       "      <td>0</td>\n",
       "      <td>0</td>\n",
       "      <td>0</td>\n",
       "      <td>0</td>\n",
       "      <td>0</td>\n",
       "    </tr>\n",
       "    <tr>\n",
       "      <th>2</th>\n",
       "      <td>8cc8c611-a219-4f35-ad23-fdfd2656bd8a</td>\n",
       "      <td>1</td>\n",
       "      <td>2.0</td>\n",
       "      <td>1532</td>\n",
       "      <td>2.0</td>\n",
       "      <td>0</td>\n",
       "      <td>1</td>\n",
       "      <td>0</td>\n",
       "      <td>1</td>\n",
       "      <td>0</td>\n",
       "      <td>...</td>\n",
       "      <td>0</td>\n",
       "      <td>0</td>\n",
       "      <td>1</td>\n",
       "      <td>0</td>\n",
       "      <td>0</td>\n",
       "      <td>0</td>\n",
       "      <td>0</td>\n",
       "      <td>0</td>\n",
       "      <td>0</td>\n",
       "      <td>0</td>\n",
       "    </tr>\n",
       "    <tr>\n",
       "      <th>3</th>\n",
       "      <td>0cc2df48-7cf4-4e39-9de9-19797f9b38cc</td>\n",
       "      <td>0</td>\n",
       "      <td>1.0</td>\n",
       "      <td>305</td>\n",
       "      <td>1.0</td>\n",
       "      <td>0</td>\n",
       "      <td>1</td>\n",
       "      <td>0</td>\n",
       "      <td>1</td>\n",
       "      <td>0</td>\n",
       "      <td>...</td>\n",
       "      <td>0</td>\n",
       "      <td>0</td>\n",
       "      <td>0</td>\n",
       "      <td>0</td>\n",
       "      <td>0</td>\n",
       "      <td>0</td>\n",
       "      <td>0</td>\n",
       "      <td>0</td>\n",
       "      <td>0</td>\n",
       "      <td>0</td>\n",
       "    </tr>\n",
       "    <tr>\n",
       "      <th>4</th>\n",
       "      <td>3256f628-e534-4826-9d63-4a8b88782852</td>\n",
       "      <td>1</td>\n",
       "      <td>2.0</td>\n",
       "      <td>1428</td>\n",
       "      <td>1.0</td>\n",
       "      <td>0</td>\n",
       "      <td>1</td>\n",
       "      <td>0</td>\n",
       "      <td>0</td>\n",
       "      <td>1</td>\n",
       "      <td>...</td>\n",
       "      <td>0</td>\n",
       "      <td>0</td>\n",
       "      <td>0</td>\n",
       "      <td>0</td>\n",
       "      <td>0</td>\n",
       "      <td>0</td>\n",
       "      <td>0</td>\n",
       "      <td>0</td>\n",
       "      <td>0</td>\n",
       "      <td>0</td>\n",
       "    </tr>\n",
       "  </tbody>\n",
       "</table>\n",
       "<p>5 rows × 71 columns</p>\n",
       "</div>"
      ],
      "text/plain": [
       "                            Prospect ID  Converted  TotalVisits  \\\n",
       "0  7927b2df-8bba-4d29-b9a2-b6e0beafe620          0          0.0   \n",
       "1  2a272436-5132-4136-86fa-dcc88c88f482          0          5.0   \n",
       "2  8cc8c611-a219-4f35-ad23-fdfd2656bd8a          1          2.0   \n",
       "3  0cc2df48-7cf4-4e39-9de9-19797f9b38cc          0          1.0   \n",
       "4  3256f628-e534-4826-9d63-4a8b88782852          1          2.0   \n",
       "\n",
       "   Total Time Spent on Website  Page Views Per Visit  Advertisement  \\\n",
       "0                            0                   0.0              0   \n",
       "1                          674                   2.5              0   \n",
       "2                         1532                   2.0              0   \n",
       "3                          305                   1.0              0   \n",
       "4                         1428                   1.0              0   \n",
       "\n",
       "   Lead Origin_Landing Page Submission  Lead Origin_Lead Add Form  \\\n",
       "0                                    0                          0   \n",
       "1                                    0                          0   \n",
       "2                                    1                          0   \n",
       "3                                    1                          0   \n",
       "4                                    1                          0   \n",
       "\n",
       "   Lead Source_Direct Traffic  Lead Source_Google  ...  \\\n",
       "0                           0                   0  ...   \n",
       "1                           0                   0  ...   \n",
       "2                           1                   0  ...   \n",
       "3                           1                   0  ...   \n",
       "4                           0                   1  ...   \n",
       "\n",
       "   Last Activity_Approached upfront  Last Activity_Email Link Clicked  \\\n",
       "0                                 0                                 0   \n",
       "1                                 0                                 0   \n",
       "2                                 0                                 0   \n",
       "3                                 0                                 0   \n",
       "4                                 0                                 0   \n",
       "\n",
       "   Last Activity_Email Opened  Last Activity_Email Received  \\\n",
       "0                           0                             0   \n",
       "1                           1                             0   \n",
       "2                           1                             0   \n",
       "3                           0                             0   \n",
       "4                           0                             0   \n",
       "\n",
       "   Last Activity_Form Submitted on Website  \\\n",
       "0                                        0   \n",
       "1                                        0   \n",
       "2                                        0   \n",
       "3                                        0   \n",
       "4                                        0   \n",
       "\n",
       "   Last Activity_Had a Phone Conversation  \\\n",
       "0                                       0   \n",
       "1                                       0   \n",
       "2                                       0   \n",
       "3                                       0   \n",
       "4                                       0   \n",
       "\n",
       "   Last Activity_Olark Chat Conversation  \\\n",
       "0                                      0   \n",
       "1                                      0   \n",
       "2                                      0   \n",
       "3                                      0   \n",
       "4                                      0   \n",
       "\n",
       "   Last Activity_Page Visited on Website  Last Activity_SMS Sent  \\\n",
       "0                                      1                       0   \n",
       "1                                      0                       0   \n",
       "2                                      0                       0   \n",
       "3                                      0                       0   \n",
       "4                                      0                       0   \n",
       "\n",
       "   Last Activity_View in browser link Clicked  \n",
       "0                                           0  \n",
       "1                                           0  \n",
       "2                                           0  \n",
       "3                                           0  \n",
       "4                                           0  \n",
       "\n",
       "[5 rows x 71 columns]"
      ]
     },
     "execution_count": 81,
     "metadata": {},
     "output_type": "execute_result"
    }
   ],
   "source": [
    "leads_data.head()"
   ]
  },
  {
   "cell_type": "code",
   "execution_count": 82,
   "id": "4464e8bf",
   "metadata": {
    "ExecuteTime": {
     "end_time": "2023-06-25T20:57:42.697551Z",
     "start_time": "2023-06-25T20:57:42.680704Z"
    }
   },
   "outputs": [],
   "source": [
    "# putting feature variables to X\n",
    "\n",
    "X = leads_data.drop(['Converted','Prospect ID'],axis=1)"
   ]
  },
  {
   "cell_type": "code",
   "execution_count": 83,
   "id": "9385afd4",
   "metadata": {
    "ExecuteTime": {
     "end_time": "2023-06-25T20:57:43.277639Z",
     "start_time": "2023-06-25T20:57:43.232460Z"
    }
   },
   "outputs": [
    {
     "data": {
      "text/html": [
       "<div>\n",
       "<style scoped>\n",
       "    .dataframe tbody tr th:only-of-type {\n",
       "        vertical-align: middle;\n",
       "    }\n",
       "\n",
       "    .dataframe tbody tr th {\n",
       "        vertical-align: top;\n",
       "    }\n",
       "\n",
       "    .dataframe thead th {\n",
       "        text-align: right;\n",
       "    }\n",
       "</style>\n",
       "<table border=\"1\" class=\"dataframe\">\n",
       "  <thead>\n",
       "    <tr style=\"text-align: right;\">\n",
       "      <th></th>\n",
       "      <th>TotalVisits</th>\n",
       "      <th>Total Time Spent on Website</th>\n",
       "      <th>Page Views Per Visit</th>\n",
       "      <th>Advertisement</th>\n",
       "      <th>Lead Origin_Landing Page Submission</th>\n",
       "      <th>Lead Origin_Lead Add Form</th>\n",
       "      <th>Lead Source_Direct Traffic</th>\n",
       "      <th>Lead Source_Google</th>\n",
       "      <th>Lead Source_Olark Chat</th>\n",
       "      <th>Lead Source_Organic Search</th>\n",
       "      <th>...</th>\n",
       "      <th>Last Activity_Approached upfront</th>\n",
       "      <th>Last Activity_Email Link Clicked</th>\n",
       "      <th>Last Activity_Email Opened</th>\n",
       "      <th>Last Activity_Email Received</th>\n",
       "      <th>Last Activity_Form Submitted on Website</th>\n",
       "      <th>Last Activity_Had a Phone Conversation</th>\n",
       "      <th>Last Activity_Olark Chat Conversation</th>\n",
       "      <th>Last Activity_Page Visited on Website</th>\n",
       "      <th>Last Activity_SMS Sent</th>\n",
       "      <th>Last Activity_View in browser link Clicked</th>\n",
       "    </tr>\n",
       "  </thead>\n",
       "  <tbody>\n",
       "    <tr>\n",
       "      <th>0</th>\n",
       "      <td>0.0</td>\n",
       "      <td>0</td>\n",
       "      <td>0.0</td>\n",
       "      <td>0</td>\n",
       "      <td>0</td>\n",
       "      <td>0</td>\n",
       "      <td>0</td>\n",
       "      <td>0</td>\n",
       "      <td>1</td>\n",
       "      <td>0</td>\n",
       "      <td>...</td>\n",
       "      <td>0</td>\n",
       "      <td>0</td>\n",
       "      <td>0</td>\n",
       "      <td>0</td>\n",
       "      <td>0</td>\n",
       "      <td>0</td>\n",
       "      <td>0</td>\n",
       "      <td>1</td>\n",
       "      <td>0</td>\n",
       "      <td>0</td>\n",
       "    </tr>\n",
       "    <tr>\n",
       "      <th>1</th>\n",
       "      <td>5.0</td>\n",
       "      <td>674</td>\n",
       "      <td>2.5</td>\n",
       "      <td>0</td>\n",
       "      <td>0</td>\n",
       "      <td>0</td>\n",
       "      <td>0</td>\n",
       "      <td>0</td>\n",
       "      <td>0</td>\n",
       "      <td>1</td>\n",
       "      <td>...</td>\n",
       "      <td>0</td>\n",
       "      <td>0</td>\n",
       "      <td>1</td>\n",
       "      <td>0</td>\n",
       "      <td>0</td>\n",
       "      <td>0</td>\n",
       "      <td>0</td>\n",
       "      <td>0</td>\n",
       "      <td>0</td>\n",
       "      <td>0</td>\n",
       "    </tr>\n",
       "    <tr>\n",
       "      <th>2</th>\n",
       "      <td>2.0</td>\n",
       "      <td>1532</td>\n",
       "      <td>2.0</td>\n",
       "      <td>0</td>\n",
       "      <td>1</td>\n",
       "      <td>0</td>\n",
       "      <td>1</td>\n",
       "      <td>0</td>\n",
       "      <td>0</td>\n",
       "      <td>0</td>\n",
       "      <td>...</td>\n",
       "      <td>0</td>\n",
       "      <td>0</td>\n",
       "      <td>1</td>\n",
       "      <td>0</td>\n",
       "      <td>0</td>\n",
       "      <td>0</td>\n",
       "      <td>0</td>\n",
       "      <td>0</td>\n",
       "      <td>0</td>\n",
       "      <td>0</td>\n",
       "    </tr>\n",
       "    <tr>\n",
       "      <th>3</th>\n",
       "      <td>1.0</td>\n",
       "      <td>305</td>\n",
       "      <td>1.0</td>\n",
       "      <td>0</td>\n",
       "      <td>1</td>\n",
       "      <td>0</td>\n",
       "      <td>1</td>\n",
       "      <td>0</td>\n",
       "      <td>0</td>\n",
       "      <td>0</td>\n",
       "      <td>...</td>\n",
       "      <td>0</td>\n",
       "      <td>0</td>\n",
       "      <td>0</td>\n",
       "      <td>0</td>\n",
       "      <td>0</td>\n",
       "      <td>0</td>\n",
       "      <td>0</td>\n",
       "      <td>0</td>\n",
       "      <td>0</td>\n",
       "      <td>0</td>\n",
       "    </tr>\n",
       "    <tr>\n",
       "      <th>4</th>\n",
       "      <td>2.0</td>\n",
       "      <td>1428</td>\n",
       "      <td>1.0</td>\n",
       "      <td>0</td>\n",
       "      <td>1</td>\n",
       "      <td>0</td>\n",
       "      <td>0</td>\n",
       "      <td>1</td>\n",
       "      <td>0</td>\n",
       "      <td>0</td>\n",
       "      <td>...</td>\n",
       "      <td>0</td>\n",
       "      <td>0</td>\n",
       "      <td>0</td>\n",
       "      <td>0</td>\n",
       "      <td>0</td>\n",
       "      <td>0</td>\n",
       "      <td>0</td>\n",
       "      <td>0</td>\n",
       "      <td>0</td>\n",
       "      <td>0</td>\n",
       "    </tr>\n",
       "  </tbody>\n",
       "</table>\n",
       "<p>5 rows × 69 columns</p>\n",
       "</div>"
      ],
      "text/plain": [
       "   TotalVisits  Total Time Spent on Website  Page Views Per Visit  \\\n",
       "0          0.0                            0                   0.0   \n",
       "1          5.0                          674                   2.5   \n",
       "2          2.0                         1532                   2.0   \n",
       "3          1.0                          305                   1.0   \n",
       "4          2.0                         1428                   1.0   \n",
       "\n",
       "   Advertisement  Lead Origin_Landing Page Submission  \\\n",
       "0              0                                    0   \n",
       "1              0                                    0   \n",
       "2              0                                    1   \n",
       "3              0                                    1   \n",
       "4              0                                    1   \n",
       "\n",
       "   Lead Origin_Lead Add Form  Lead Source_Direct Traffic  Lead Source_Google  \\\n",
       "0                          0                           0                   0   \n",
       "1                          0                           0                   0   \n",
       "2                          0                           1                   0   \n",
       "3                          0                           1                   0   \n",
       "4                          0                           0                   1   \n",
       "\n",
       "   Lead Source_Olark Chat  Lead Source_Organic Search  ...  \\\n",
       "0                       1                           0  ...   \n",
       "1                       0                           1  ...   \n",
       "2                       0                           0  ...   \n",
       "3                       0                           0  ...   \n",
       "4                       0                           0  ...   \n",
       "\n",
       "   Last Activity_Approached upfront  Last Activity_Email Link Clicked  \\\n",
       "0                                 0                                 0   \n",
       "1                                 0                                 0   \n",
       "2                                 0                                 0   \n",
       "3                                 0                                 0   \n",
       "4                                 0                                 0   \n",
       "\n",
       "   Last Activity_Email Opened  Last Activity_Email Received  \\\n",
       "0                           0                             0   \n",
       "1                           1                             0   \n",
       "2                           1                             0   \n",
       "3                           0                             0   \n",
       "4                           0                             0   \n",
       "\n",
       "   Last Activity_Form Submitted on Website  \\\n",
       "0                                        0   \n",
       "1                                        0   \n",
       "2                                        0   \n",
       "3                                        0   \n",
       "4                                        0   \n",
       "\n",
       "   Last Activity_Had a Phone Conversation  \\\n",
       "0                                       0   \n",
       "1                                       0   \n",
       "2                                       0   \n",
       "3                                       0   \n",
       "4                                       0   \n",
       "\n",
       "   Last Activity_Olark Chat Conversation  \\\n",
       "0                                      0   \n",
       "1                                      0   \n",
       "2                                      0   \n",
       "3                                      0   \n",
       "4                                      0   \n",
       "\n",
       "   Last Activity_Page Visited on Website  Last Activity_SMS Sent  \\\n",
       "0                                      1                       0   \n",
       "1                                      0                       0   \n",
       "2                                      0                       0   \n",
       "3                                      0                       0   \n",
       "4                                      0                       0   \n",
       "\n",
       "   Last Activity_View in browser link Clicked  \n",
       "0                                           0  \n",
       "1                                           0  \n",
       "2                                           0  \n",
       "3                                           0  \n",
       "4                                           0  \n",
       "\n",
       "[5 rows x 69 columns]"
      ]
     },
     "execution_count": 83,
     "metadata": {},
     "output_type": "execute_result"
    }
   ],
   "source": [
    "X.head()"
   ]
  },
  {
   "cell_type": "code",
   "execution_count": 84,
   "id": "64aa2557",
   "metadata": {
    "ExecuteTime": {
     "end_time": "2023-06-25T20:57:43.824892Z",
     "start_time": "2023-06-25T20:57:43.800640Z"
    }
   },
   "outputs": [
    {
     "data": {
      "text/plain": [
       "0    0\n",
       "1    0\n",
       "2    1\n",
       "3    0\n",
       "4    1\n",
       "Name: Converted, dtype: int64"
      ]
     },
     "execution_count": 84,
     "metadata": {},
     "output_type": "execute_result"
    }
   ],
   "source": [
    "# Putting Converted variable to y\n",
    "\n",
    "y = leads_data['Converted']\n",
    "\n",
    "y.head()"
   ]
  },
  {
   "cell_type": "code",
   "execution_count": 85,
   "id": "422741e6",
   "metadata": {
    "ExecuteTime": {
     "end_time": "2023-06-25T20:57:44.322798Z",
     "start_time": "2023-06-25T20:57:44.305660Z"
    }
   },
   "outputs": [],
   "source": [
    "# Splitting the data into train and test\n",
    "X_train,X_test,y_train,y_test = train_test_split(X,y,train_size=0.7,test_size=0.3,random_state=100)"
   ]
  },
  {
   "cell_type": "markdown",
   "id": "708c7f9b",
   "metadata": {
    "ExecuteTime": {
     "end_time": "2023-06-21T19:43:33.130243Z",
     "start_time": "2023-06-21T19:43:33.117901Z"
    }
   },
   "source": [
    "### Step 5: Feature Scaling"
   ]
  },
  {
   "cell_type": "code",
   "execution_count": 86,
   "id": "1dd6cc22",
   "metadata": {
    "ExecuteTime": {
     "end_time": "2023-06-25T20:57:45.401593Z",
     "start_time": "2023-06-25T20:57:45.359194Z"
    }
   },
   "outputs": [
    {
     "data": {
      "text/html": [
       "<div>\n",
       "<style scoped>\n",
       "    .dataframe tbody tr th:only-of-type {\n",
       "        vertical-align: middle;\n",
       "    }\n",
       "\n",
       "    .dataframe tbody tr th {\n",
       "        vertical-align: top;\n",
       "    }\n",
       "\n",
       "    .dataframe thead th {\n",
       "        text-align: right;\n",
       "    }\n",
       "</style>\n",
       "<table border=\"1\" class=\"dataframe\">\n",
       "  <thead>\n",
       "    <tr style=\"text-align: right;\">\n",
       "      <th></th>\n",
       "      <th>TotalVisits</th>\n",
       "      <th>Total Time Spent on Website</th>\n",
       "      <th>Page Views Per Visit</th>\n",
       "      <th>Advertisement</th>\n",
       "      <th>Lead Origin_Landing Page Submission</th>\n",
       "      <th>Lead Origin_Lead Add Form</th>\n",
       "      <th>Lead Source_Direct Traffic</th>\n",
       "      <th>Lead Source_Google</th>\n",
       "      <th>Lead Source_Olark Chat</th>\n",
       "      <th>Lead Source_Organic Search</th>\n",
       "      <th>...</th>\n",
       "      <th>Last Activity_Approached upfront</th>\n",
       "      <th>Last Activity_Email Link Clicked</th>\n",
       "      <th>Last Activity_Email Opened</th>\n",
       "      <th>Last Activity_Email Received</th>\n",
       "      <th>Last Activity_Form Submitted on Website</th>\n",
       "      <th>Last Activity_Had a Phone Conversation</th>\n",
       "      <th>Last Activity_Olark Chat Conversation</th>\n",
       "      <th>Last Activity_Page Visited on Website</th>\n",
       "      <th>Last Activity_SMS Sent</th>\n",
       "      <th>Last Activity_View in browser link Clicked</th>\n",
       "    </tr>\n",
       "  </thead>\n",
       "  <tbody>\n",
       "    <tr>\n",
       "      <th>5393</th>\n",
       "      <td>0.247772</td>\n",
       "      <td>0.498672</td>\n",
       "      <td>1.167609</td>\n",
       "      <td>0</td>\n",
       "      <td>1</td>\n",
       "      <td>0</td>\n",
       "      <td>0</td>\n",
       "      <td>0</td>\n",
       "      <td>0</td>\n",
       "      <td>1</td>\n",
       "      <td>...</td>\n",
       "      <td>0</td>\n",
       "      <td>0</td>\n",
       "      <td>0</td>\n",
       "      <td>0</td>\n",
       "      <td>0</td>\n",
       "      <td>0</td>\n",
       "      <td>0</td>\n",
       "      <td>0</td>\n",
       "      <td>1</td>\n",
       "      <td>0</td>\n",
       "    </tr>\n",
       "    <tr>\n",
       "      <th>693</th>\n",
       "      <td>0.057863</td>\n",
       "      <td>0.465309</td>\n",
       "      <td>-0.603375</td>\n",
       "      <td>0</td>\n",
       "      <td>0</td>\n",
       "      <td>0</td>\n",
       "      <td>0</td>\n",
       "      <td>1</td>\n",
       "      <td>0</td>\n",
       "      <td>0</td>\n",
       "      <td>...</td>\n",
       "      <td>0</td>\n",
       "      <td>1</td>\n",
       "      <td>0</td>\n",
       "      <td>0</td>\n",
       "      <td>0</td>\n",
       "      <td>0</td>\n",
       "      <td>0</td>\n",
       "      <td>0</td>\n",
       "      <td>0</td>\n",
       "      <td>0</td>\n",
       "    </tr>\n",
       "    <tr>\n",
       "      <th>1919</th>\n",
       "      <td>-0.701775</td>\n",
       "      <td>-0.958773</td>\n",
       "      <td>-1.245176</td>\n",
       "      <td>0</td>\n",
       "      <td>0</td>\n",
       "      <td>0</td>\n",
       "      <td>0</td>\n",
       "      <td>0</td>\n",
       "      <td>1</td>\n",
       "      <td>0</td>\n",
       "      <td>...</td>\n",
       "      <td>0</td>\n",
       "      <td>0</td>\n",
       "      <td>1</td>\n",
       "      <td>0</td>\n",
       "      <td>0</td>\n",
       "      <td>0</td>\n",
       "      <td>0</td>\n",
       "      <td>0</td>\n",
       "      <td>0</td>\n",
       "      <td>0</td>\n",
       "    </tr>\n",
       "    <tr>\n",
       "      <th>2631</th>\n",
       "      <td>-0.701775</td>\n",
       "      <td>-0.958773</td>\n",
       "      <td>-1.245176</td>\n",
       "      <td>0</td>\n",
       "      <td>0</td>\n",
       "      <td>1</td>\n",
       "      <td>0</td>\n",
       "      <td>0</td>\n",
       "      <td>0</td>\n",
       "      <td>0</td>\n",
       "      <td>...</td>\n",
       "      <td>0</td>\n",
       "      <td>0</td>\n",
       "      <td>0</td>\n",
       "      <td>0</td>\n",
       "      <td>0</td>\n",
       "      <td>0</td>\n",
       "      <td>0</td>\n",
       "      <td>0</td>\n",
       "      <td>1</td>\n",
       "      <td>0</td>\n",
       "    </tr>\n",
       "    <tr>\n",
       "      <th>4933</th>\n",
       "      <td>-0.701775</td>\n",
       "      <td>-0.958773</td>\n",
       "      <td>-1.245176</td>\n",
       "      <td>0</td>\n",
       "      <td>0</td>\n",
       "      <td>0</td>\n",
       "      <td>0</td>\n",
       "      <td>0</td>\n",
       "      <td>1</td>\n",
       "      <td>0</td>\n",
       "      <td>...</td>\n",
       "      <td>0</td>\n",
       "      <td>0</td>\n",
       "      <td>0</td>\n",
       "      <td>0</td>\n",
       "      <td>0</td>\n",
       "      <td>0</td>\n",
       "      <td>1</td>\n",
       "      <td>0</td>\n",
       "      <td>0</td>\n",
       "      <td>0</td>\n",
       "    </tr>\n",
       "  </tbody>\n",
       "</table>\n",
       "<p>5 rows × 69 columns</p>\n",
       "</div>"
      ],
      "text/plain": [
       "      TotalVisits  Total Time Spent on Website  Page Views Per Visit  \\\n",
       "5393     0.247772                     0.498672              1.167609   \n",
       "693      0.057863                     0.465309             -0.603375   \n",
       "1919    -0.701775                    -0.958773             -1.245176   \n",
       "2631    -0.701775                    -0.958773             -1.245176   \n",
       "4933    -0.701775                    -0.958773             -1.245176   \n",
       "\n",
       "      Advertisement  Lead Origin_Landing Page Submission  \\\n",
       "5393              0                                    1   \n",
       "693               0                                    0   \n",
       "1919              0                                    0   \n",
       "2631              0                                    0   \n",
       "4933              0                                    0   \n",
       "\n",
       "      Lead Origin_Lead Add Form  Lead Source_Direct Traffic  \\\n",
       "5393                          0                           0   \n",
       "693                           0                           0   \n",
       "1919                          0                           0   \n",
       "2631                          1                           0   \n",
       "4933                          0                           0   \n",
       "\n",
       "      Lead Source_Google  Lead Source_Olark Chat  Lead Source_Organic Search  \\\n",
       "5393                   0                       0                           1   \n",
       "693                    1                       0                           0   \n",
       "1919                   0                       1                           0   \n",
       "2631                   0                       0                           0   \n",
       "4933                   0                       1                           0   \n",
       "\n",
       "      ...  Last Activity_Approached upfront  Last Activity_Email Link Clicked  \\\n",
       "5393  ...                                 0                                 0   \n",
       "693   ...                                 0                                 1   \n",
       "1919  ...                                 0                                 0   \n",
       "2631  ...                                 0                                 0   \n",
       "4933  ...                                 0                                 0   \n",
       "\n",
       "      Last Activity_Email Opened  Last Activity_Email Received  \\\n",
       "5393                           0                             0   \n",
       "693                            0                             0   \n",
       "1919                           1                             0   \n",
       "2631                           0                             0   \n",
       "4933                           0                             0   \n",
       "\n",
       "      Last Activity_Form Submitted on Website  \\\n",
       "5393                                        0   \n",
       "693                                         0   \n",
       "1919                                        0   \n",
       "2631                                        0   \n",
       "4933                                        0   \n",
       "\n",
       "      Last Activity_Had a Phone Conversation  \\\n",
       "5393                                       0   \n",
       "693                                        0   \n",
       "1919                                       0   \n",
       "2631                                       0   \n",
       "4933                                       0   \n",
       "\n",
       "      Last Activity_Olark Chat Conversation  \\\n",
       "5393                                      0   \n",
       "693                                       0   \n",
       "1919                                      0   \n",
       "2631                                      0   \n",
       "4933                                      1   \n",
       "\n",
       "      Last Activity_Page Visited on Website  Last Activity_SMS Sent  \\\n",
       "5393                                      0                       1   \n",
       "693                                       0                       0   \n",
       "1919                                      0                       0   \n",
       "2631                                      0                       1   \n",
       "4933                                      0                       0   \n",
       "\n",
       "      Last Activity_View in browser link Clicked  \n",
       "5393                                           0  \n",
       "693                                            0  \n",
       "1919                                           0  \n",
       "2631                                           0  \n",
       "4933                                           0  \n",
       "\n",
       "[5 rows x 69 columns]"
      ]
     },
     "execution_count": 86,
     "metadata": {},
     "output_type": "execute_result"
    }
   ],
   "source": [
    "scaler = StandardScaler()\n",
    "\n",
    "X_train[['TotalVisits','Total Time Spent on Website','Page Views Per Visit']] = scaler.fit_transform(X_train[['TotalVisits','Total Time Spent on Website','Page Views Per Visit']])\n",
    "\n",
    "X_train.head()"
   ]
  },
  {
   "cell_type": "code",
   "execution_count": 87,
   "id": "0aeaba67",
   "metadata": {
    "ExecuteTime": {
     "end_time": "2023-06-25T20:57:47.272284Z",
     "start_time": "2023-06-25T20:57:47.255536Z"
    }
   },
   "outputs": [
    {
     "data": {
      "text/plain": [
       "45.52788495264819"
      ]
     },
     "execution_count": 87,
     "metadata": {},
     "output_type": "execute_result"
    }
   ],
   "source": [
    "## Checking the Converted Rate\n",
    "Converted = (sum(leads_data['Converted'])/len(leads_data['Converted'].index))*100\n",
    "Converted"
   ]
  },
  {
   "cell_type": "markdown",
   "id": "9325ca29",
   "metadata": {
    "ExecuteTime": {
     "end_time": "2023-06-21T19:53:26.631445Z",
     "start_time": "2023-06-21T19:53:26.622338Z"
    }
   },
   "source": [
    "We have 45% Converted Rate"
   ]
  },
  {
   "cell_type": "markdown",
   "id": "fe99bfdd",
   "metadata": {},
   "source": [
    "### Step 6:Model Building\n",
    "Let's start by splitting the data into a training set and a test set"
   ]
  },
  {
   "cell_type": "markdown",
   "id": "4fb468c9",
   "metadata": {},
   "source": [
    "#### Running First Training Model"
   ]
  },
  {
   "cell_type": "code",
   "execution_count": 88,
   "id": "9e8e93b4",
   "metadata": {
    "ExecuteTime": {
     "end_time": "2023-06-25T20:57:55.269400Z",
     "start_time": "2023-06-25T20:57:54.454671Z"
    }
   },
   "outputs": [],
   "source": [
    "import statsmodels.api as sm"
   ]
  },
  {
   "cell_type": "code",
   "execution_count": 89,
   "id": "3fdd6269",
   "metadata": {
    "ExecuteTime": {
     "end_time": "2023-06-25T20:57:55.656354Z",
     "start_time": "2023-06-25T20:57:55.272420Z"
    }
   },
   "outputs": [
    {
     "data": {
      "text/html": [
       "<table class=\"simpletable\">\n",
       "<caption>Generalized Linear Model Regression Results</caption>\n",
       "<tr>\n",
       "  <th>Dep. Variable:</th>       <td>Converted</td>    <th>  No. Observations:  </th>  <td>  3991</td> \n",
       "</tr>\n",
       "<tr>\n",
       "  <th>Model:</th>                  <td>GLM</td>       <th>  Df Residuals:      </th>  <td>  3921</td> \n",
       "</tr>\n",
       "<tr>\n",
       "  <th>Model Family:</th>        <td>Binomial</td>     <th>  Df Model:          </th>  <td>    69</td> \n",
       "</tr>\n",
       "<tr>\n",
       "  <th>Link Function:</th>         <td>Logit</td>      <th>  Scale:             </th> <td>  1.0000</td>\n",
       "</tr>\n",
       "<tr>\n",
       "  <th>Method:</th>                <td>IRLS</td>       <th>  Log-Likelihood:    </th> <td> -948.10</td>\n",
       "</tr>\n",
       "<tr>\n",
       "  <th>Date:</th>            <td>Sun, 25 Jun 2023</td> <th>  Deviance:          </th> <td>  1896.2</td>\n",
       "</tr>\n",
       "<tr>\n",
       "  <th>Time:</th>                <td>15:57:55</td>     <th>  Pearson chi2:      </th> <td>4.76e+03</td>\n",
       "</tr>\n",
       "<tr>\n",
       "  <th>No. Iterations:</th>         <td>23</td>        <th>  Pseudo R-squ. (CS):</th>  <td>0.5951</td> \n",
       "</tr>\n",
       "<tr>\n",
       "  <th>Covariance Type:</th>     <td>nonrobust</td>    <th>                     </th>     <td> </td>   \n",
       "</tr>\n",
       "</table>\n",
       "<table class=\"simpletable\">\n",
       "<tr>\n",
       "                                    <td></td>                                       <th>coef</th>     <th>std err</th>      <th>z</th>      <th>P>|z|</th>  <th>[0.025</th>    <th>0.975]</th>  \n",
       "</tr>\n",
       "<tr>\n",
       "  <th>const</th>                                                                 <td>   -2.1207</td> <td>    2.064</td> <td>   -1.027</td> <td> 0.304</td> <td>   -6.167</td> <td>    1.925</td>\n",
       "</tr>\n",
       "<tr>\n",
       "  <th>TotalVisits</th>                                                           <td>    0.4604</td> <td>    0.103</td> <td>    4.457</td> <td> 0.000</td> <td>    0.258</td> <td>    0.663</td>\n",
       "</tr>\n",
       "<tr>\n",
       "  <th>Total Time Spent on Website</th>                                           <td>    0.9697</td> <td>    0.066</td> <td>   14.700</td> <td> 0.000</td> <td>    0.840</td> <td>    1.099</td>\n",
       "</tr>\n",
       "<tr>\n",
       "  <th>Page Views Per Visit</th>                                                  <td>   -0.2329</td> <td>    0.091</td> <td>   -2.557</td> <td> 0.011</td> <td>   -0.411</td> <td>   -0.054</td>\n",
       "</tr>\n",
       "<tr>\n",
       "  <th>Advertisement</th>                                                         <td>   -0.1319</td> <td>    0.896</td> <td>   -0.147</td> <td> 0.883</td> <td>   -1.887</td> <td>    1.623</td>\n",
       "</tr>\n",
       "<tr>\n",
       "  <th>Lead Origin_Landing Page Submission</th>                                   <td>    0.0810</td> <td>    0.266</td> <td>    0.305</td> <td> 0.761</td> <td>   -0.440</td> <td>    0.602</td>\n",
       "</tr>\n",
       "<tr>\n",
       "  <th>Lead Origin_Lead Add Form</th>                                             <td>    5.4389</td> <td>    1.328</td> <td>    4.095</td> <td> 0.000</td> <td>    2.836</td> <td>    8.042</td>\n",
       "</tr>\n",
       "<tr>\n",
       "  <th>Lead Source_Direct Traffic</th>                                            <td>    0.0222</td> <td>    1.098</td> <td>    0.020</td> <td> 0.984</td> <td>   -2.129</td> <td>    2.173</td>\n",
       "</tr>\n",
       "<tr>\n",
       "  <th>Lead Source_Google</th>                                                    <td>    0.3647</td> <td>    1.094</td> <td>    0.333</td> <td> 0.739</td> <td>   -1.780</td> <td>    2.510</td>\n",
       "</tr>\n",
       "<tr>\n",
       "  <th>Lead Source_Olark Chat</th>                                                <td>    1.1437</td> <td>    1.094</td> <td>    1.045</td> <td> 0.296</td> <td>   -1.001</td> <td>    3.289</td>\n",
       "</tr>\n",
       "<tr>\n",
       "  <th>Lead Source_Organic Search</th>                                            <td>    0.2250</td> <td>    1.104</td> <td>    0.204</td> <td> 0.839</td> <td>   -1.939</td> <td>    2.389</td>\n",
       "</tr>\n",
       "<tr>\n",
       "  <th>Lead Source_Reference</th>                                                 <td>   -1.5556</td> <td>    0.821</td> <td>   -1.895</td> <td> 0.058</td> <td>   -3.164</td> <td>    0.053</td>\n",
       "</tr>\n",
       "<tr>\n",
       "  <th>Lead Source_Referral Sites</th>                                            <td>    0.3721</td> <td>    1.239</td> <td>    0.300</td> <td> 0.764</td> <td>   -2.056</td> <td>    2.800</td>\n",
       "</tr>\n",
       "<tr>\n",
       "  <th>City_Mumbai</th>                                                           <td>   -0.1866</td> <td>    0.272</td> <td>   -0.687</td> <td> 0.492</td> <td>   -0.719</td> <td>    0.346</td>\n",
       "</tr>\n",
       "<tr>\n",
       "  <th>City_Other Cities</th>                                                     <td>   -0.0377</td> <td>    0.317</td> <td>   -0.119</td> <td> 0.905</td> <td>   -0.659</td> <td>    0.584</td>\n",
       "</tr>\n",
       "<tr>\n",
       "  <th>City_Other Cities of Maharashtra</th>                                      <td>    0.1511</td> <td>    0.345</td> <td>    0.439</td> <td> 0.661</td> <td>   -0.524</td> <td>    0.826</td>\n",
       "</tr>\n",
       "<tr>\n",
       "  <th>City_Other Metro Cities</th>                                               <td>   -0.5985</td> <td>    0.389</td> <td>   -1.540</td> <td> 0.124</td> <td>   -1.360</td> <td>    0.163</td>\n",
       "</tr>\n",
       "<tr>\n",
       "  <th>City_Thane & Outskirts</th>                                                <td>   -0.5736</td> <td>    0.323</td> <td>   -1.774</td> <td> 0.076</td> <td>   -1.207</td> <td>    0.060</td>\n",
       "</tr>\n",
       "<tr>\n",
       "  <th>How did you hear about X Education_Advertisements</th>                     <td>    0.0391</td> <td>    0.630</td> <td>    0.062</td> <td> 0.950</td> <td>   -1.195</td> <td>    1.273</td>\n",
       "</tr>\n",
       "<tr>\n",
       "  <th>How did you hear about X Education_Email</th>                              <td>    0.7835</td> <td>    0.699</td> <td>    1.121</td> <td> 0.262</td> <td>   -0.587</td> <td>    2.154</td>\n",
       "</tr>\n",
       "<tr>\n",
       "  <th>How did you hear about X Education_Multiple Sources</th>                   <td>   -0.6066</td> <td>    0.445</td> <td>   -1.364</td> <td> 0.173</td> <td>   -1.478</td> <td>    0.265</td>\n",
       "</tr>\n",
       "<tr>\n",
       "  <th>How did you hear about X Education_Online Search</th>                      <td>    0.0131</td> <td>    0.238</td> <td>    0.055</td> <td> 0.956</td> <td>   -0.454</td> <td>    0.480</td>\n",
       "</tr>\n",
       "<tr>\n",
       "  <th>How did you hear about X Education_SMS</th>                                <td>    0.0791</td> <td>    1.122</td> <td>    0.070</td> <td> 0.944</td> <td>   -2.121</td> <td>    2.279</td>\n",
       "</tr>\n",
       "<tr>\n",
       "  <th>How did you hear about X Education_Social Media</th>                       <td>    0.2405</td> <td>    0.589</td> <td>    0.409</td> <td> 0.683</td> <td>   -0.913</td> <td>    1.394</td>\n",
       "</tr>\n",
       "<tr>\n",
       "  <th>How did you hear about X Education_Student of SomeSchool</th>              <td>    0.2591</td> <td>    0.305</td> <td>    0.849</td> <td> 0.396</td> <td>   -0.339</td> <td>    0.857</td>\n",
       "</tr>\n",
       "<tr>\n",
       "  <th>How did you hear about X Education_Word Of Mouth</th>                      <td>   -0.0281</td> <td>    0.313</td> <td>   -0.090</td> <td> 0.928</td> <td>   -0.641</td> <td>    0.585</td>\n",
       "</tr>\n",
       "<tr>\n",
       "  <th>What is your current occupation_Unemployed</th>                            <td>    0.4350</td> <td>    0.377</td> <td>    1.155</td> <td> 0.248</td> <td>   -0.303</td> <td>    1.173</td>\n",
       "</tr>\n",
       "<tr>\n",
       "  <th>What is your current occupation_Working Professional</th>                  <td>    1.7505</td> <td>    0.460</td> <td>    3.805</td> <td> 0.000</td> <td>    0.849</td> <td>    2.652</td>\n",
       "</tr>\n",
       "<tr>\n",
       "  <th>What matters most to you in choosing a course_Better Career Prospects</th> <td>   -2.1207</td> <td>    1.687</td> <td>   -1.257</td> <td> 0.209</td> <td>   -5.427</td> <td>    1.186</td>\n",
       "</tr>\n",
       "<tr>\n",
       "  <th>Tags_In confusion whether part time or DLP</th>                            <td>    0.7616</td> <td>    1.637</td> <td>    0.465</td> <td> 0.642</td> <td>   -2.447</td> <td>    3.970</td>\n",
       "</tr>\n",
       "<tr>\n",
       "  <th>Tags_Interested  in full time MBA</th>                                     <td>   -2.0691</td> <td>    0.774</td> <td>   -2.675</td> <td> 0.007</td> <td>   -3.585</td> <td>   -0.553</td>\n",
       "</tr>\n",
       "<tr>\n",
       "  <th>Tags_Lateral student</th>                                                  <td>   25.8943</td> <td> 7.12e+04</td> <td>    0.000</td> <td> 1.000</td> <td>-1.39e+05</td> <td>  1.4e+05</td>\n",
       "</tr>\n",
       "<tr>\n",
       "  <th>Tags_Recognition issue (DEC approval)</th>                                 <td>  -23.6424</td> <td> 1.31e+05</td> <td>   -0.000</td> <td> 1.000</td> <td>-2.57e+05</td> <td> 2.57e+05</td>\n",
       "</tr>\n",
       "<tr>\n",
       "  <th>Tags_Shall take in the next coming month</th>                              <td>   26.2107</td> <td> 1.31e+05</td> <td>    0.000</td> <td> 1.000</td> <td>-2.57e+05</td> <td> 2.57e+05</td>\n",
       "</tr>\n",
       "<tr>\n",
       "  <th>Tags_Still Thinking</th>                                                   <td>   -0.1138</td> <td>    1.320</td> <td>   -0.086</td> <td> 0.931</td> <td>   -2.702</td> <td>    2.474</td>\n",
       "</tr>\n",
       "<tr>\n",
       "  <th>Tags_University not recognized</th>                                        <td>  -22.6227</td> <td> 9.22e+04</td> <td>   -0.000</td> <td> 1.000</td> <td>-1.81e+05</td> <td> 1.81e+05</td>\n",
       "</tr>\n",
       "<tr>\n",
       "  <th>Tags_Will revert after reading the email</th>                              <td>    4.7626</td> <td>    0.190</td> <td>   25.066</td> <td> 0.000</td> <td>    4.390</td> <td>    5.135</td>\n",
       "</tr>\n",
       "<tr>\n",
       "  <th>Tags_in touch with EINS</th>                                               <td>    0.4929</td> <td>    0.913</td> <td>    0.540</td> <td> 0.589</td> <td>   -1.297</td> <td>    2.282</td>\n",
       "</tr>\n",
       "<tr>\n",
       "  <th>Lead Profile_Dual Specialization Student</th>                              <td>   21.1409</td> <td> 3.25e+04</td> <td>    0.001</td> <td> 0.999</td> <td>-6.37e+04</td> <td> 6.37e+04</td>\n",
       "</tr>\n",
       "<tr>\n",
       "  <th>Lead Profile_Lateral Student</th>                                          <td>   24.2832</td> <td> 2.89e+04</td> <td>    0.001</td> <td> 0.999</td> <td>-5.67e+04</td> <td> 5.67e+04</td>\n",
       "</tr>\n",
       "<tr>\n",
       "  <th>Lead Profile_Other Leads</th>                                              <td>    0.1317</td> <td>    0.229</td> <td>    0.574</td> <td> 0.566</td> <td>   -0.318</td> <td>    0.581</td>\n",
       "</tr>\n",
       "<tr>\n",
       "  <th>Lead Profile_Potential Lead</th>                                           <td>    1.0475</td> <td>    0.153</td> <td>    6.833</td> <td> 0.000</td> <td>    0.747</td> <td>    1.348</td>\n",
       "</tr>\n",
       "<tr>\n",
       "  <th>Specialization_Banking, Investment And Insurance</th>                      <td>    0.5321</td> <td>    0.426</td> <td>    1.249</td> <td> 0.212</td> <td>   -0.303</td> <td>    1.367</td>\n",
       "</tr>\n",
       "<tr>\n",
       "  <th>Specialization_Business Administration</th>                                <td>    0.5622</td> <td>    0.369</td> <td>    1.522</td> <td> 0.128</td> <td>   -0.162</td> <td>    1.286</td>\n",
       "</tr>\n",
       "<tr>\n",
       "  <th>Specialization_E-Business</th>                                             <td>    0.4188</td> <td>    0.804</td> <td>    0.521</td> <td> 0.603</td> <td>   -1.158</td> <td>    1.995</td>\n",
       "</tr>\n",
       "<tr>\n",
       "  <th>Specialization_E-COMMERCE</th>                                             <td>    0.3159</td> <td>    0.557</td> <td>    0.567</td> <td> 0.571</td> <td>   -0.775</td> <td>    1.407</td>\n",
       "</tr>\n",
       "<tr>\n",
       "  <th>Specialization_Finance Management</th>                                     <td>    0.8229</td> <td>    0.321</td> <td>    2.563</td> <td> 0.010</td> <td>    0.194</td> <td>    1.452</td>\n",
       "</tr>\n",
       "<tr>\n",
       "  <th>Specialization_Healthcare Management</th>                                  <td>    1.1585</td> <td>    0.471</td> <td>    2.460</td> <td> 0.014</td> <td>    0.235</td> <td>    2.082</td>\n",
       "</tr>\n",
       "<tr>\n",
       "  <th>Specialization_Hospitality Management</th>                                 <td>   -0.3296</td> <td>    0.502</td> <td>   -0.656</td> <td> 0.512</td> <td>   -1.314</td> <td>    0.655</td>\n",
       "</tr>\n",
       "<tr>\n",
       "  <th>Specialization_Human Resource Management</th>                              <td>    0.5204</td> <td>    0.315</td> <td>    1.655</td> <td> 0.098</td> <td>   -0.096</td> <td>    1.137</td>\n",
       "</tr>\n",
       "<tr>\n",
       "  <th>Specialization_IT Projects Management</th>                                 <td>    0.5512</td> <td>    0.398</td> <td>    1.384</td> <td> 0.166</td> <td>   -0.230</td> <td>    1.332</td>\n",
       "</tr>\n",
       "<tr>\n",
       "  <th>Specialization_International Business</th>                                 <td>    0.4962</td> <td>    0.529</td> <td>    0.937</td> <td> 0.349</td> <td>   -0.541</td> <td>    1.534</td>\n",
       "</tr>\n",
       "<tr>\n",
       "  <th>Specialization_Marketing Management</th>                                   <td>    0.8366</td> <td>    0.312</td> <td>    2.683</td> <td> 0.007</td> <td>    0.225</td> <td>    1.448</td>\n",
       "</tr>\n",
       "<tr>\n",
       "  <th>Specialization_Media and Advertising</th>                                  <td>    0.4712</td> <td>    0.459</td> <td>    1.027</td> <td> 0.304</td> <td>   -0.428</td> <td>    1.370</td>\n",
       "</tr>\n",
       "<tr>\n",
       "  <th>Specialization_Operations Management</th>                                  <td>    0.6560</td> <td>    0.355</td> <td>    1.851</td> <td> 0.064</td> <td>   -0.039</td> <td>    1.351</td>\n",
       "</tr>\n",
       "<tr>\n",
       "  <th>Specialization_Retail Management</th>                                      <td>    0.0761</td> <td>    0.593</td> <td>    0.128</td> <td> 0.898</td> <td>   -1.086</td> <td>    1.238</td>\n",
       "</tr>\n",
       "<tr>\n",
       "  <th>Specialization_Rural and Agribusiness</th>                                 <td>    0.4863</td> <td>    0.647</td> <td>    0.752</td> <td> 0.452</td> <td>   -0.781</td> <td>    1.753</td>\n",
       "</tr>\n",
       "<tr>\n",
       "  <th>Specialization_Services Excellence</th>                                    <td>    0.5366</td> <td>    0.940</td> <td>    0.571</td> <td> 0.568</td> <td>   -1.306</td> <td>    2.380</td>\n",
       "</tr>\n",
       "<tr>\n",
       "  <th>Specialization_Supply Chain Management</th>                                <td>    0.5254</td> <td>    0.382</td> <td>    1.376</td> <td> 0.169</td> <td>   -0.223</td> <td>    1.273</td>\n",
       "</tr>\n",
       "<tr>\n",
       "  <th>Specialization_Travel and Tourism</th>                                     <td>   -0.0851</td> <td>    0.507</td> <td>   -0.168</td> <td> 0.867</td> <td>   -1.078</td> <td>    0.908</td>\n",
       "</tr>\n",
       "<tr>\n",
       "  <th>Last Activity_Approached upfront</th>                                      <td>   27.5745</td> <td> 6.24e+04</td> <td>    0.000</td> <td> 1.000</td> <td>-1.22e+05</td> <td> 1.22e+05</td>\n",
       "</tr>\n",
       "<tr>\n",
       "  <th>Last Activity_Email Link Clicked</th>                                      <td>    1.3918</td> <td>    0.386</td> <td>    3.605</td> <td> 0.000</td> <td>    0.635</td> <td>    2.148</td>\n",
       "</tr>\n",
       "<tr>\n",
       "  <th>Last Activity_Email Opened</th>                                            <td>    0.9815</td> <td>    0.271</td> <td>    3.626</td> <td> 0.000</td> <td>    0.451</td> <td>    1.512</td>\n",
       "</tr>\n",
       "<tr>\n",
       "  <th>Last Activity_Email Received</th>                                          <td>   20.3653</td> <td> 9.13e+04</td> <td>    0.000</td> <td> 1.000</td> <td>-1.79e+05</td> <td> 1.79e+05</td>\n",
       "</tr>\n",
       "<tr>\n",
       "  <th>Last Activity_Form Submitted on Website</th>                               <td>    0.4788</td> <td>    0.576</td> <td>    0.831</td> <td> 0.406</td> <td>   -0.651</td> <td>    1.609</td>\n",
       "</tr>\n",
       "<tr>\n",
       "  <th>Last Activity_Had a Phone Conversation</th>                                <td>    1.4074</td> <td>    1.165</td> <td>    1.208</td> <td> 0.227</td> <td>   -0.877</td> <td>    3.692</td>\n",
       "</tr>\n",
       "<tr>\n",
       "  <th>Last Activity_Olark Chat Conversation</th>                                 <td>    0.2232</td> <td>    0.392</td> <td>    0.569</td> <td> 0.569</td> <td>   -0.545</td> <td>    0.992</td>\n",
       "</tr>\n",
       "<tr>\n",
       "  <th>Last Activity_Page Visited on Website</th>                                 <td>    0.8083</td> <td>    0.336</td> <td>    2.408</td> <td> 0.016</td> <td>    0.150</td> <td>    1.466</td>\n",
       "</tr>\n",
       "<tr>\n",
       "  <th>Last Activity_SMS Sent</th>                                                <td>    1.3347</td> <td>    0.274</td> <td>    4.870</td> <td> 0.000</td> <td>    0.797</td> <td>    1.872</td>\n",
       "</tr>\n",
       "<tr>\n",
       "  <th>Last Activity_View in browser link Clicked</th>                            <td>  -20.3205</td> <td> 1.31e+05</td> <td>   -0.000</td> <td> 1.000</td> <td>-2.57e+05</td> <td> 2.57e+05</td>\n",
       "</tr>\n",
       "</table>"
      ],
      "text/plain": [
       "<class 'statsmodels.iolib.summary.Summary'>\n",
       "\"\"\"\n",
       "                 Generalized Linear Model Regression Results                  \n",
       "==============================================================================\n",
       "Dep. Variable:              Converted   No. Observations:                 3991\n",
       "Model:                            GLM   Df Residuals:                     3921\n",
       "Model Family:                Binomial   Df Model:                           69\n",
       "Link Function:                  Logit   Scale:                          1.0000\n",
       "Method:                          IRLS   Log-Likelihood:                -948.10\n",
       "Date:                Sun, 25 Jun 2023   Deviance:                       1896.2\n",
       "Time:                        15:57:55   Pearson chi2:                 4.76e+03\n",
       "No. Iterations:                    23   Pseudo R-squ. (CS):             0.5951\n",
       "Covariance Type:            nonrobust                                         \n",
       "=========================================================================================================================================\n",
       "                                                                            coef    std err          z      P>|z|      [0.025      0.975]\n",
       "-----------------------------------------------------------------------------------------------------------------------------------------\n",
       "const                                                                    -2.1207      2.064     -1.027      0.304      -6.167       1.925\n",
       "TotalVisits                                                               0.4604      0.103      4.457      0.000       0.258       0.663\n",
       "Total Time Spent on Website                                               0.9697      0.066     14.700      0.000       0.840       1.099\n",
       "Page Views Per Visit                                                     -0.2329      0.091     -2.557      0.011      -0.411      -0.054\n",
       "Advertisement                                                            -0.1319      0.896     -0.147      0.883      -1.887       1.623\n",
       "Lead Origin_Landing Page Submission                                       0.0810      0.266      0.305      0.761      -0.440       0.602\n",
       "Lead Origin_Lead Add Form                                                 5.4389      1.328      4.095      0.000       2.836       8.042\n",
       "Lead Source_Direct Traffic                                                0.0222      1.098      0.020      0.984      -2.129       2.173\n",
       "Lead Source_Google                                                        0.3647      1.094      0.333      0.739      -1.780       2.510\n",
       "Lead Source_Olark Chat                                                    1.1437      1.094      1.045      0.296      -1.001       3.289\n",
       "Lead Source_Organic Search                                                0.2250      1.104      0.204      0.839      -1.939       2.389\n",
       "Lead Source_Reference                                                    -1.5556      0.821     -1.895      0.058      -3.164       0.053\n",
       "Lead Source_Referral Sites                                                0.3721      1.239      0.300      0.764      -2.056       2.800\n",
       "City_Mumbai                                                              -0.1866      0.272     -0.687      0.492      -0.719       0.346\n",
       "City_Other Cities                                                        -0.0377      0.317     -0.119      0.905      -0.659       0.584\n",
       "City_Other Cities of Maharashtra                                          0.1511      0.345      0.439      0.661      -0.524       0.826\n",
       "City_Other Metro Cities                                                  -0.5985      0.389     -1.540      0.124      -1.360       0.163\n",
       "City_Thane & Outskirts                                                   -0.5736      0.323     -1.774      0.076      -1.207       0.060\n",
       "How did you hear about X Education_Advertisements                         0.0391      0.630      0.062      0.950      -1.195       1.273\n",
       "How did you hear about X Education_Email                                  0.7835      0.699      1.121      0.262      -0.587       2.154\n",
       "How did you hear about X Education_Multiple Sources                      -0.6066      0.445     -1.364      0.173      -1.478       0.265\n",
       "How did you hear about X Education_Online Search                          0.0131      0.238      0.055      0.956      -0.454       0.480\n",
       "How did you hear about X Education_SMS                                    0.0791      1.122      0.070      0.944      -2.121       2.279\n",
       "How did you hear about X Education_Social Media                           0.2405      0.589      0.409      0.683      -0.913       1.394\n",
       "How did you hear about X Education_Student of SomeSchool                  0.2591      0.305      0.849      0.396      -0.339       0.857\n",
       "How did you hear about X Education_Word Of Mouth                         -0.0281      0.313     -0.090      0.928      -0.641       0.585\n",
       "What is your current occupation_Unemployed                                0.4350      0.377      1.155      0.248      -0.303       1.173\n",
       "What is your current occupation_Working Professional                      1.7505      0.460      3.805      0.000       0.849       2.652\n",
       "What matters most to you in choosing a course_Better Career Prospects    -2.1207      1.687     -1.257      0.209      -5.427       1.186\n",
       "Tags_In confusion whether part time or DLP                                0.7616      1.637      0.465      0.642      -2.447       3.970\n",
       "Tags_Interested  in full time MBA                                        -2.0691      0.774     -2.675      0.007      -3.585      -0.553\n",
       "Tags_Lateral student                                                     25.8943   7.12e+04      0.000      1.000   -1.39e+05     1.4e+05\n",
       "Tags_Recognition issue (DEC approval)                                   -23.6424   1.31e+05     -0.000      1.000   -2.57e+05    2.57e+05\n",
       "Tags_Shall take in the next coming month                                 26.2107   1.31e+05      0.000      1.000   -2.57e+05    2.57e+05\n",
       "Tags_Still Thinking                                                      -0.1138      1.320     -0.086      0.931      -2.702       2.474\n",
       "Tags_University not recognized                                          -22.6227   9.22e+04     -0.000      1.000   -1.81e+05    1.81e+05\n",
       "Tags_Will revert after reading the email                                  4.7626      0.190     25.066      0.000       4.390       5.135\n",
       "Tags_in touch with EINS                                                   0.4929      0.913      0.540      0.589      -1.297       2.282\n",
       "Lead Profile_Dual Specialization Student                                 21.1409   3.25e+04      0.001      0.999   -6.37e+04    6.37e+04\n",
       "Lead Profile_Lateral Student                                             24.2832   2.89e+04      0.001      0.999   -5.67e+04    5.67e+04\n",
       "Lead Profile_Other Leads                                                  0.1317      0.229      0.574      0.566      -0.318       0.581\n",
       "Lead Profile_Potential Lead                                               1.0475      0.153      6.833      0.000       0.747       1.348\n",
       "Specialization_Banking, Investment And Insurance                          0.5321      0.426      1.249      0.212      -0.303       1.367\n",
       "Specialization_Business Administration                                    0.5622      0.369      1.522      0.128      -0.162       1.286\n",
       "Specialization_E-Business                                                 0.4188      0.804      0.521      0.603      -1.158       1.995\n",
       "Specialization_E-COMMERCE                                                 0.3159      0.557      0.567      0.571      -0.775       1.407\n",
       "Specialization_Finance Management                                         0.8229      0.321      2.563      0.010       0.194       1.452\n",
       "Specialization_Healthcare Management                                      1.1585      0.471      2.460      0.014       0.235       2.082\n",
       "Specialization_Hospitality Management                                    -0.3296      0.502     -0.656      0.512      -1.314       0.655\n",
       "Specialization_Human Resource Management                                  0.5204      0.315      1.655      0.098      -0.096       1.137\n",
       "Specialization_IT Projects Management                                     0.5512      0.398      1.384      0.166      -0.230       1.332\n",
       "Specialization_International Business                                     0.4962      0.529      0.937      0.349      -0.541       1.534\n",
       "Specialization_Marketing Management                                       0.8366      0.312      2.683      0.007       0.225       1.448\n",
       "Specialization_Media and Advertising                                      0.4712      0.459      1.027      0.304      -0.428       1.370\n",
       "Specialization_Operations Management                                      0.6560      0.355      1.851      0.064      -0.039       1.351\n",
       "Specialization_Retail Management                                          0.0761      0.593      0.128      0.898      -1.086       1.238\n",
       "Specialization_Rural and Agribusiness                                     0.4863      0.647      0.752      0.452      -0.781       1.753\n",
       "Specialization_Services Excellence                                        0.5366      0.940      0.571      0.568      -1.306       2.380\n",
       "Specialization_Supply Chain Management                                    0.5254      0.382      1.376      0.169      -0.223       1.273\n",
       "Specialization_Travel and Tourism                                        -0.0851      0.507     -0.168      0.867      -1.078       0.908\n",
       "Last Activity_Approached upfront                                         27.5745   6.24e+04      0.000      1.000   -1.22e+05    1.22e+05\n",
       "Last Activity_Email Link Clicked                                          1.3918      0.386      3.605      0.000       0.635       2.148\n",
       "Last Activity_Email Opened                                                0.9815      0.271      3.626      0.000       0.451       1.512\n",
       "Last Activity_Email Received                                             20.3653   9.13e+04      0.000      1.000   -1.79e+05    1.79e+05\n",
       "Last Activity_Form Submitted on Website                                   0.4788      0.576      0.831      0.406      -0.651       1.609\n",
       "Last Activity_Had a Phone Conversation                                    1.4074      1.165      1.208      0.227      -0.877       3.692\n",
       "Last Activity_Olark Chat Conversation                                     0.2232      0.392      0.569      0.569      -0.545       0.992\n",
       "Last Activity_Page Visited on Website                                     0.8083      0.336      2.408      0.016       0.150       1.466\n",
       "Last Activity_SMS Sent                                                    1.3347      0.274      4.870      0.000       0.797       1.872\n",
       "Last Activity_View in browser link Clicked                              -20.3205   1.31e+05     -0.000      1.000   -2.57e+05    2.57e+05\n",
       "=========================================================================================================================================\n",
       "\"\"\""
      ]
     },
     "execution_count": 89,
     "metadata": {},
     "output_type": "execute_result"
    }
   ],
   "source": [
    "# logistic regression Model\n",
    "logm1 = sm.GLM(y_train,(sm.add_constant(X_train)),family=sm.families.Binomial())\n",
    "logm1.fit().summary()"
   ]
  },
  {
   "cell_type": "markdown",
   "id": "ef4756a4",
   "metadata": {},
   "source": [
    "### Step 7: Feature Selection Using RFE"
   ]
  },
  {
   "cell_type": "code",
   "execution_count": 90,
   "id": "e941493a",
   "metadata": {
    "ExecuteTime": {
     "end_time": "2023-06-25T20:58:02.884625Z",
     "start_time": "2023-06-25T20:58:02.772844Z"
    }
   },
   "outputs": [],
   "source": [
    "from sklearn.linear_model import LogisticRegression\n",
    "logreg = LogisticRegression()"
   ]
  },
  {
   "cell_type": "code",
   "execution_count": 91,
   "id": "ddaeb0a1",
   "metadata": {
    "ExecuteTime": {
     "end_time": "2023-06-25T20:58:09.185486Z",
     "start_time": "2023-06-25T20:58:03.480534Z"
    }
   },
   "outputs": [],
   "source": [
    "from sklearn.feature_selection import RFE\n",
    "\n",
    "rfe = RFE(logreg, n_features_to_select=15)\n",
    "rfe = rfe.fit(X_train, y_train)"
   ]
  },
  {
   "cell_type": "code",
   "execution_count": 92,
   "id": "3fa6fe31",
   "metadata": {
    "ExecuteTime": {
     "end_time": "2023-06-25T20:58:10.570967Z",
     "start_time": "2023-06-25T20:58:10.555996Z"
    }
   },
   "outputs": [
    {
     "data": {
      "text/plain": [
       "array([False,  True, False, False, False,  True, False, False, False,\n",
       "       False, False, False, False, False, False, False, False, False,\n",
       "       False, False, False, False, False, False, False, False,  True,\n",
       "       False, False,  True,  True, False,  True, False, False,  True,\n",
       "       False, False,  True, False,  True, False, False, False, False,\n",
       "       False, False,  True, False, False, False, False, False, False,\n",
       "       False, False, False, False, False,  True,  True,  True, False,\n",
       "       False, False, False,  True,  True, False])"
      ]
     },
     "execution_count": 92,
     "metadata": {},
     "output_type": "execute_result"
    }
   ],
   "source": [
    "rfe.support_"
   ]
  },
  {
   "cell_type": "code",
   "execution_count": 93,
   "id": "8fe5b480",
   "metadata": {
    "ExecuteTime": {
     "end_time": "2023-06-25T20:58:11.659175Z",
     "start_time": "2023-06-25T20:58:11.633151Z"
    }
   },
   "outputs": [
    {
     "data": {
      "text/plain": [
       "[('TotalVisits', False, 18),\n",
       " ('Total Time Spent on Website', True, 1),\n",
       " ('Page Views Per Visit', False, 31),\n",
       " ('Advertisement', False, 52),\n",
       " ('Lead Origin_Landing Page Submission', False, 44),\n",
       " ('Lead Origin_Lead Add Form', True, 1),\n",
       " ('Lead Source_Direct Traffic', False, 7),\n",
       " ('Lead Source_Google', False, 9),\n",
       " ('Lead Source_Olark Chat', False, 19),\n",
       " ('Lead Source_Organic Search', False, 8),\n",
       " ('Lead Source_Reference', False, 37),\n",
       " ('Lead Source_Referral Sites', False, 6),\n",
       " ('City_Mumbai', False, 53),\n",
       " ('City_Other Cities', False, 41),\n",
       " ('City_Other Cities of Maharashtra', False, 17),\n",
       " ('City_Other Metro Cities', False, 13),\n",
       " ('City_Thane & Outskirts', False, 22),\n",
       " ('How did you hear about X Education_Advertisements', False, 47),\n",
       " ('How did you hear about X Education_Email', False, 3),\n",
       " ('How did you hear about X Education_Multiple Sources', False, 10),\n",
       " ('How did you hear about X Education_Online Search', False, 54),\n",
       " ('How did you hear about X Education_SMS', False, 55),\n",
       " ('How did you hear about X Education_Social Media', False, 36),\n",
       " ('How did you hear about X Education_Student of SomeSchool', False, 12),\n",
       " ('How did you hear about X Education_Word Of Mouth', False, 49),\n",
       " ('What is your current occupation_Unemployed', False, 23),\n",
       " ('What is your current occupation_Working Professional', True, 1),\n",
       " ('What matters most to you in choosing a course_Better Career Prospects',\n",
       "  False,\n",
       "  2),\n",
       " ('Tags_In confusion whether part time or DLP', False, 20),\n",
       " ('Tags_Interested  in full time MBA', True, 1),\n",
       " ('Tags_Lateral student', True, 1),\n",
       " ('Tags_Recognition issue (DEC approval)', False, 24),\n",
       " ('Tags_Shall take in the next coming month', True, 1),\n",
       " ('Tags_Still Thinking', False, 46),\n",
       " ('Tags_University not recognized', False, 35),\n",
       " ('Tags_Will revert after reading the email', True, 1),\n",
       " ('Tags_in touch with EINS', False, 21),\n",
       " ('Lead Profile_Dual Specialization Student', False, 14),\n",
       " ('Lead Profile_Lateral Student', True, 1),\n",
       " ('Lead Profile_Other Leads', False, 45),\n",
       " ('Lead Profile_Potential Lead', True, 1),\n",
       " ('Specialization_Banking, Investment And Insurance', False, 30),\n",
       " ('Specialization_Business Administration', False, 26),\n",
       " ('Specialization_E-Business', False, 43),\n",
       " ('Specialization_E-COMMERCE', False, 50),\n",
       " ('Specialization_Finance Management', False, 16),\n",
       " ('Specialization_Healthcare Management', False, 11),\n",
       " ('Specialization_Hospitality Management', True, 1),\n",
       " ('Specialization_Human Resource Management', False, 28),\n",
       " ('Specialization_IT Projects Management', False, 29),\n",
       " ('Specialization_International Business', False, 34),\n",
       " ('Specialization_Marketing Management', False, 15),\n",
       " ('Specialization_Media and Advertising', False, 33),\n",
       " ('Specialization_Operations Management', False, 25),\n",
       " ('Specialization_Retail Management', False, 40),\n",
       " ('Specialization_Rural and Agribusiness', False, 32),\n",
       " ('Specialization_Services Excellence', False, 38),\n",
       " ('Specialization_Supply Chain Management', False, 27),\n",
       " ('Specialization_Travel and Tourism', False, 4),\n",
       " ('Last Activity_Approached upfront', True, 1),\n",
       " ('Last Activity_Email Link Clicked', True, 1),\n",
       " ('Last Activity_Email Opened', True, 1),\n",
       " ('Last Activity_Email Received', False, 48),\n",
       " ('Last Activity_Form Submitted on Website', False, 42),\n",
       " ('Last Activity_Had a Phone Conversation', False, 5),\n",
       " ('Last Activity_Olark Chat Conversation', False, 39),\n",
       " ('Last Activity_Page Visited on Website', True, 1),\n",
       " ('Last Activity_SMS Sent', True, 1),\n",
       " ('Last Activity_View in browser link Clicked', False, 51)]"
      ]
     },
     "execution_count": 93,
     "metadata": {},
     "output_type": "execute_result"
    }
   ],
   "source": [
    "list(zip(X_train.columns,rfe.support_,rfe.ranking_))"
   ]
  },
  {
   "cell_type": "code",
   "execution_count": 94,
   "id": "ff347f83",
   "metadata": {
    "ExecuteTime": {
     "end_time": "2023-06-25T20:58:20.310043Z",
     "start_time": "2023-06-25T20:58:20.287842Z"
    }
   },
   "outputs": [],
   "source": [
    "col = X_train.columns[rfe.support_]"
   ]
  },
  {
   "cell_type": "code",
   "execution_count": 95,
   "id": "1ead39d2",
   "metadata": {
    "ExecuteTime": {
     "end_time": "2023-06-25T20:58:20.946348Z",
     "start_time": "2023-06-25T20:58:20.934333Z"
    }
   },
   "outputs": [
    {
     "data": {
      "text/plain": [
       "Index(['TotalVisits', 'Page Views Per Visit', 'Advertisement',\n",
       "       'Lead Origin_Landing Page Submission', 'Lead Source_Direct Traffic',\n",
       "       'Lead Source_Google', 'Lead Source_Olark Chat',\n",
       "       'Lead Source_Organic Search', 'Lead Source_Reference',\n",
       "       'Lead Source_Referral Sites', 'City_Mumbai', 'City_Other Cities',\n",
       "       'City_Other Cities of Maharashtra', 'City_Other Metro Cities',\n",
       "       'City_Thane & Outskirts',\n",
       "       'How did you hear about X Education_Advertisements',\n",
       "       'How did you hear about X Education_Email',\n",
       "       'How did you hear about X Education_Multiple Sources',\n",
       "       'How did you hear about X Education_Online Search',\n",
       "       'How did you hear about X Education_SMS',\n",
       "       'How did you hear about X Education_Social Media',\n",
       "       'How did you hear about X Education_Student of SomeSchool',\n",
       "       'How did you hear about X Education_Word Of Mouth',\n",
       "       'What is your current occupation_Unemployed',\n",
       "       'What matters most to you in choosing a course_Better Career Prospects',\n",
       "       'Tags_In confusion whether part time or DLP',\n",
       "       'Tags_Recognition issue (DEC approval)', 'Tags_Still Thinking',\n",
       "       'Tags_University not recognized', 'Tags_in touch with EINS',\n",
       "       'Lead Profile_Dual Specialization Student', 'Lead Profile_Other Leads',\n",
       "       'Specialization_Banking, Investment And Insurance',\n",
       "       'Specialization_Business Administration', 'Specialization_E-Business',\n",
       "       'Specialization_E-COMMERCE', 'Specialization_Finance Management',\n",
       "       'Specialization_Healthcare Management',\n",
       "       'Specialization_Human Resource Management',\n",
       "       'Specialization_IT Projects Management',\n",
       "       'Specialization_International Business',\n",
       "       'Specialization_Marketing Management',\n",
       "       'Specialization_Media and Advertising',\n",
       "       'Specialization_Operations Management',\n",
       "       'Specialization_Retail Management',\n",
       "       'Specialization_Rural and Agribusiness',\n",
       "       'Specialization_Services Excellence',\n",
       "       'Specialization_Supply Chain Management',\n",
       "       'Specialization_Travel and Tourism', 'Last Activity_Email Received',\n",
       "       'Last Activity_Form Submitted on Website',\n",
       "       'Last Activity_Had a Phone Conversation',\n",
       "       'Last Activity_Olark Chat Conversation',\n",
       "       'Last Activity_View in browser link Clicked'],\n",
       "      dtype='object')"
      ]
     },
     "execution_count": 95,
     "metadata": {},
     "output_type": "execute_result"
    }
   ],
   "source": [
    "X_train.columns[~rfe.support_]"
   ]
  },
  {
   "cell_type": "markdown",
   "id": "6526a1d8",
   "metadata": {},
   "source": [
    "##### Assessing the model with StatsModels"
   ]
  },
  {
   "cell_type": "code",
   "execution_count": 96,
   "id": "8d5c1bde",
   "metadata": {
    "ExecuteTime": {
     "end_time": "2023-06-25T20:58:22.086183Z",
     "start_time": "2023-06-25T20:58:21.957561Z"
    }
   },
   "outputs": [
    {
     "data": {
      "text/html": [
       "<table class=\"simpletable\">\n",
       "<caption>Generalized Linear Model Regression Results</caption>\n",
       "<tr>\n",
       "  <th>Dep. Variable:</th>       <td>Converted</td>    <th>  No. Observations:  </th>  <td>  3991</td> \n",
       "</tr>\n",
       "<tr>\n",
       "  <th>Model:</th>                  <td>GLM</td>       <th>  Df Residuals:      </th>  <td>  3975</td> \n",
       "</tr>\n",
       "<tr>\n",
       "  <th>Model Family:</th>        <td>Binomial</td>     <th>  Df Model:          </th>  <td>    15</td> \n",
       "</tr>\n",
       "<tr>\n",
       "  <th>Link Function:</th>         <td>Logit</td>      <th>  Scale:             </th> <td>  1.0000</td>\n",
       "</tr>\n",
       "<tr>\n",
       "  <th>Method:</th>                <td>IRLS</td>       <th>  Log-Likelihood:    </th> <td> -989.86</td>\n",
       "</tr>\n",
       "<tr>\n",
       "  <th>Date:</th>            <td>Sun, 25 Jun 2023</td> <th>  Deviance:          </th> <td>  1979.7</td>\n",
       "</tr>\n",
       "<tr>\n",
       "  <th>Time:</th>                <td>15:58:22</td>     <th>  Pearson chi2:      </th> <td>4.99e+03</td>\n",
       "</tr>\n",
       "<tr>\n",
       "  <th>No. Iterations:</th>         <td>22</td>        <th>  Pseudo R-squ. (CS):</th>  <td>0.5865</td> \n",
       "</tr>\n",
       "<tr>\n",
       "  <th>Covariance Type:</th>     <td>nonrobust</td>    <th>                     </th>     <td> </td>   \n",
       "</tr>\n",
       "</table>\n",
       "<table class=\"simpletable\">\n",
       "<tr>\n",
       "                            <td></td>                              <th>coef</th>     <th>std err</th>      <th>z</th>      <th>P>|z|</th>  <th>[0.025</th>    <th>0.975]</th>  \n",
       "</tr>\n",
       "<tr>\n",
       "  <th>const</th>                                                <td>   -2.9407</td> <td>    0.175</td> <td>  -16.826</td> <td> 0.000</td> <td>   -3.283</td> <td>   -2.598</td>\n",
       "</tr>\n",
       "<tr>\n",
       "  <th>Total Time Spent on Website</th>                          <td>    0.9099</td> <td>    0.060</td> <td>   15.240</td> <td> 0.000</td> <td>    0.793</td> <td>    1.027</td>\n",
       "</tr>\n",
       "<tr>\n",
       "  <th>Lead Origin_Lead Add Form</th>                            <td>    3.4676</td> <td>    0.262</td> <td>   13.246</td> <td> 0.000</td> <td>    2.955</td> <td>    3.981</td>\n",
       "</tr>\n",
       "<tr>\n",
       "  <th>What is your current occupation_Working Professional</th> <td>    1.4604</td> <td>    0.271</td> <td>    5.388</td> <td> 0.000</td> <td>    0.929</td> <td>    1.992</td>\n",
       "</tr>\n",
       "<tr>\n",
       "  <th>Tags_Interested  in full time MBA</th>                    <td>   -1.9835</td> <td>    0.760</td> <td>   -2.610</td> <td> 0.009</td> <td>   -3.473</td> <td>   -0.494</td>\n",
       "</tr>\n",
       "<tr>\n",
       "  <th>Tags_Lateral student</th>                                 <td>   24.7050</td> <td> 4.32e+04</td> <td>    0.001</td> <td> 1.000</td> <td>-8.46e+04</td> <td> 8.46e+04</td>\n",
       "</tr>\n",
       "<tr>\n",
       "  <th>Tags_Shall take in the next coming month</th>             <td>   25.4584</td> <td> 7.95e+04</td> <td>    0.000</td> <td> 1.000</td> <td>-1.56e+05</td> <td> 1.56e+05</td>\n",
       "</tr>\n",
       "<tr>\n",
       "  <th>Tags_Will revert after reading the email</th>             <td>    4.7167</td> <td>    0.183</td> <td>   25.739</td> <td> 0.000</td> <td>    4.358</td> <td>    5.076</td>\n",
       "</tr>\n",
       "<tr>\n",
       "  <th>Lead Profile_Lateral Student</th>                         <td>   23.4525</td> <td> 1.75e+04</td> <td>    0.001</td> <td> 0.999</td> <td>-3.43e+04</td> <td> 3.43e+04</td>\n",
       "</tr>\n",
       "<tr>\n",
       "  <th>Lead Profile_Potential Lead</th>                          <td>    1.0893</td> <td>    0.142</td> <td>    7.682</td> <td> 0.000</td> <td>    0.811</td> <td>    1.367</td>\n",
       "</tr>\n",
       "<tr>\n",
       "  <th>Specialization_Hospitality Management</th>                <td>   -0.8907</td> <td>    0.442</td> <td>   -2.013</td> <td> 0.044</td> <td>   -1.758</td> <td>   -0.023</td>\n",
       "</tr>\n",
       "<tr>\n",
       "  <th>Last Activity_Approached upfront</th>                     <td>   26.6494</td> <td> 3.69e+04</td> <td>    0.001</td> <td> 0.999</td> <td>-7.23e+04</td> <td> 7.24e+04</td>\n",
       "</tr>\n",
       "<tr>\n",
       "  <th>Last Activity_Email Link Clicked</th>                     <td>    1.3783</td> <td>    0.332</td> <td>    4.151</td> <td> 0.000</td> <td>    0.727</td> <td>    2.029</td>\n",
       "</tr>\n",
       "<tr>\n",
       "  <th>Last Activity_Email Opened</th>                           <td>    0.8315</td> <td>    0.191</td> <td>    4.352</td> <td> 0.000</td> <td>    0.457</td> <td>    1.206</td>\n",
       "</tr>\n",
       "<tr>\n",
       "  <th>Last Activity_Page Visited on Website</th>                <td>    0.9455</td> <td>    0.257</td> <td>    3.677</td> <td> 0.000</td> <td>    0.442</td> <td>    1.449</td>\n",
       "</tr>\n",
       "<tr>\n",
       "  <th>Last Activity_SMS Sent</th>                               <td>    1.1315</td> <td>    0.196</td> <td>    5.759</td> <td> 0.000</td> <td>    0.746</td> <td>    1.517</td>\n",
       "</tr>\n",
       "</table>"
      ],
      "text/plain": [
       "<class 'statsmodels.iolib.summary.Summary'>\n",
       "\"\"\"\n",
       "                 Generalized Linear Model Regression Results                  \n",
       "==============================================================================\n",
       "Dep. Variable:              Converted   No. Observations:                 3991\n",
       "Model:                            GLM   Df Residuals:                     3975\n",
       "Model Family:                Binomial   Df Model:                           15\n",
       "Link Function:                  Logit   Scale:                          1.0000\n",
       "Method:                          IRLS   Log-Likelihood:                -989.86\n",
       "Date:                Sun, 25 Jun 2023   Deviance:                       1979.7\n",
       "Time:                        15:58:22   Pearson chi2:                 4.99e+03\n",
       "No. Iterations:                    22   Pseudo R-squ. (CS):             0.5865\n",
       "Covariance Type:            nonrobust                                         \n",
       "========================================================================================================================\n",
       "                                                           coef    std err          z      P>|z|      [0.025      0.975]\n",
       "------------------------------------------------------------------------------------------------------------------------\n",
       "const                                                   -2.9407      0.175    -16.826      0.000      -3.283      -2.598\n",
       "Total Time Spent on Website                              0.9099      0.060     15.240      0.000       0.793       1.027\n",
       "Lead Origin_Lead Add Form                                3.4676      0.262     13.246      0.000       2.955       3.981\n",
       "What is your current occupation_Working Professional     1.4604      0.271      5.388      0.000       0.929       1.992\n",
       "Tags_Interested  in full time MBA                       -1.9835      0.760     -2.610      0.009      -3.473      -0.494\n",
       "Tags_Lateral student                                    24.7050   4.32e+04      0.001      1.000   -8.46e+04    8.46e+04\n",
       "Tags_Shall take in the next coming month                25.4584   7.95e+04      0.000      1.000   -1.56e+05    1.56e+05\n",
       "Tags_Will revert after reading the email                 4.7167      0.183     25.739      0.000       4.358       5.076\n",
       "Lead Profile_Lateral Student                            23.4525   1.75e+04      0.001      0.999   -3.43e+04    3.43e+04\n",
       "Lead Profile_Potential Lead                              1.0893      0.142      7.682      0.000       0.811       1.367\n",
       "Specialization_Hospitality Management                   -0.8907      0.442     -2.013      0.044      -1.758      -0.023\n",
       "Last Activity_Approached upfront                        26.6494   3.69e+04      0.001      0.999   -7.23e+04    7.24e+04\n",
       "Last Activity_Email Link Clicked                         1.3783      0.332      4.151      0.000       0.727       2.029\n",
       "Last Activity_Email Opened                               0.8315      0.191      4.352      0.000       0.457       1.206\n",
       "Last Activity_Page Visited on Website                    0.9455      0.257      3.677      0.000       0.442       1.449\n",
       "Last Activity_SMS Sent                                   1.1315      0.196      5.759      0.000       0.746       1.517\n",
       "========================================================================================================================\n",
       "\"\"\""
      ]
     },
     "execution_count": 96,
     "metadata": {},
     "output_type": "execute_result"
    }
   ],
   "source": [
    "X_train_sm = sm.add_constant(X_train[col])\n",
    "logm2 = sm.GLM(y_train,X_train_sm, family = sm.families.Binomial())\n",
    "res = logm2.fit()\n",
    "res.summary()"
   ]
  },
  {
   "cell_type": "code",
   "execution_count": 97,
   "id": "48c1a476",
   "metadata": {
    "ExecuteTime": {
     "end_time": "2023-06-25T20:58:31.244704Z",
     "start_time": "2023-06-25T20:58:31.227111Z"
    }
   },
   "outputs": [
    {
     "data": {
      "text/plain": [
       "5393    0.972343\n",
       "693     0.803885\n",
       "1919    0.048263\n",
       "2631    0.998631\n",
       "4933    0.086852\n",
       "532     0.030996\n",
       "8389    0.886312\n",
       "8075    0.999682\n",
       "993     0.086143\n",
       "1110    0.995941\n",
       "dtype: float64"
      ]
     },
     "execution_count": 97,
     "metadata": {},
     "output_type": "execute_result"
    }
   ],
   "source": [
    "# Getting the predicted values on the train set\n",
    "y_train_pred = res.predict(X_train_sm)\n",
    "y_train_pred[:10]"
   ]
  },
  {
   "cell_type": "code",
   "execution_count": 98,
   "id": "ff715530",
   "metadata": {
    "ExecuteTime": {
     "end_time": "2023-06-25T20:58:32.065935Z",
     "start_time": "2023-06-25T20:58:32.049932Z"
    }
   },
   "outputs": [
    {
     "data": {
      "text/plain": [
       "array([0.97234326, 0.8038847 , 0.04826273, 0.99863057, 0.08685206,\n",
       "       0.03099644, 0.88631221, 0.99968176, 0.08614262, 0.99594075])"
      ]
     },
     "execution_count": 98,
     "metadata": {},
     "output_type": "execute_result"
    }
   ],
   "source": [
    "y_train_pred = y_train_pred.values.reshape(-1)\n",
    "y_train_pred[:10]"
   ]
  },
  {
   "cell_type": "markdown",
   "id": "4aa6e2a3",
   "metadata": {},
   "source": [
    "##### Creating a dataframe with the actual Converted and the predicted probabilities\n"
   ]
  },
  {
   "cell_type": "code",
   "execution_count": 99,
   "id": "716dafac",
   "metadata": {
    "ExecuteTime": {
     "end_time": "2023-06-25T20:58:33.044492Z",
     "start_time": "2023-06-25T20:58:33.016621Z"
    }
   },
   "outputs": [
    {
     "data": {
      "text/html": [
       "<div>\n",
       "<style scoped>\n",
       "    .dataframe tbody tr th:only-of-type {\n",
       "        vertical-align: middle;\n",
       "    }\n",
       "\n",
       "    .dataframe tbody tr th {\n",
       "        vertical-align: top;\n",
       "    }\n",
       "\n",
       "    .dataframe thead th {\n",
       "        text-align: right;\n",
       "    }\n",
       "</style>\n",
       "<table border=\"1\" class=\"dataframe\">\n",
       "  <thead>\n",
       "    <tr style=\"text-align: right;\">\n",
       "      <th></th>\n",
       "      <th>Converted</th>\n",
       "      <th>Converted_Prob</th>\n",
       "      <th>prospect_ID</th>\n",
       "    </tr>\n",
       "  </thead>\n",
       "  <tbody>\n",
       "    <tr>\n",
       "      <th>0</th>\n",
       "      <td>1</td>\n",
       "      <td>0.972343</td>\n",
       "      <td>5393</td>\n",
       "    </tr>\n",
       "    <tr>\n",
       "      <th>1</th>\n",
       "      <td>1</td>\n",
       "      <td>0.803885</td>\n",
       "      <td>693</td>\n",
       "    </tr>\n",
       "    <tr>\n",
       "      <th>2</th>\n",
       "      <td>0</td>\n",
       "      <td>0.048263</td>\n",
       "      <td>1919</td>\n",
       "    </tr>\n",
       "    <tr>\n",
       "      <th>3</th>\n",
       "      <td>1</td>\n",
       "      <td>0.998631</td>\n",
       "      <td>2631</td>\n",
       "    </tr>\n",
       "    <tr>\n",
       "      <th>4</th>\n",
       "      <td>0</td>\n",
       "      <td>0.086852</td>\n",
       "      <td>4933</td>\n",
       "    </tr>\n",
       "  </tbody>\n",
       "</table>\n",
       "</div>"
      ],
      "text/plain": [
       "   Converted  Converted_Prob  prospect_ID\n",
       "0          1        0.972343         5393\n",
       "1          1        0.803885          693\n",
       "2          0        0.048263         1919\n",
       "3          1        0.998631         2631\n",
       "4          0        0.086852         4933"
      ]
     },
     "execution_count": 99,
     "metadata": {},
     "output_type": "execute_result"
    }
   ],
   "source": [
    "y_train_pred_final = pd.DataFrame({'Converted':y_train.values, 'Converted_Prob':y_train_pred})\n",
    "y_train_pred_final['prospect_ID'] = y_train.index\n",
    "y_train_pred_final.head()"
   ]
  },
  {
   "cell_type": "markdown",
   "id": "adbd5c40",
   "metadata": {},
   "source": [
    "##### Creating new column 'predicted' with 1 if Converted_Prob > 0.5 else 0"
   ]
  },
  {
   "cell_type": "code",
   "execution_count": 100,
   "id": "c94a0e9d",
   "metadata": {
    "ExecuteTime": {
     "end_time": "2023-06-25T20:58:34.042724Z",
     "start_time": "2023-06-25T20:58:34.006969Z"
    }
   },
   "outputs": [
    {
     "data": {
      "text/html": [
       "<div>\n",
       "<style scoped>\n",
       "    .dataframe tbody tr th:only-of-type {\n",
       "        vertical-align: middle;\n",
       "    }\n",
       "\n",
       "    .dataframe tbody tr th {\n",
       "        vertical-align: top;\n",
       "    }\n",
       "\n",
       "    .dataframe thead th {\n",
       "        text-align: right;\n",
       "    }\n",
       "</style>\n",
       "<table border=\"1\" class=\"dataframe\">\n",
       "  <thead>\n",
       "    <tr style=\"text-align: right;\">\n",
       "      <th></th>\n",
       "      <th>Converted</th>\n",
       "      <th>Converted_Prob</th>\n",
       "      <th>prospect_ID</th>\n",
       "      <th>predicted</th>\n",
       "    </tr>\n",
       "  </thead>\n",
       "  <tbody>\n",
       "    <tr>\n",
       "      <th>0</th>\n",
       "      <td>1</td>\n",
       "      <td>0.972343</td>\n",
       "      <td>5393</td>\n",
       "      <td>1</td>\n",
       "    </tr>\n",
       "    <tr>\n",
       "      <th>1</th>\n",
       "      <td>1</td>\n",
       "      <td>0.803885</td>\n",
       "      <td>693</td>\n",
       "      <td>1</td>\n",
       "    </tr>\n",
       "    <tr>\n",
       "      <th>2</th>\n",
       "      <td>0</td>\n",
       "      <td>0.048263</td>\n",
       "      <td>1919</td>\n",
       "      <td>0</td>\n",
       "    </tr>\n",
       "    <tr>\n",
       "      <th>3</th>\n",
       "      <td>1</td>\n",
       "      <td>0.998631</td>\n",
       "      <td>2631</td>\n",
       "      <td>1</td>\n",
       "    </tr>\n",
       "    <tr>\n",
       "      <th>4</th>\n",
       "      <td>0</td>\n",
       "      <td>0.086852</td>\n",
       "      <td>4933</td>\n",
       "      <td>0</td>\n",
       "    </tr>\n",
       "  </tbody>\n",
       "</table>\n",
       "</div>"
      ],
      "text/plain": [
       "   Converted  Converted_Prob  prospect_ID  predicted\n",
       "0          1        0.972343         5393          1\n",
       "1          1        0.803885          693          1\n",
       "2          0        0.048263         1919          0\n",
       "3          1        0.998631         2631          1\n",
       "4          0        0.086852         4933          0"
      ]
     },
     "execution_count": 100,
     "metadata": {},
     "output_type": "execute_result"
    }
   ],
   "source": [
    "y_train_pred_final['predicted'] = y_train_pred_final.Converted_Prob.map(lambda x: 1 if x > 0.5 else 0)\n",
    "\n",
    "# Let's see the head\n",
    "y_train_pred_final.head()"
   ]
  },
  {
   "cell_type": "code",
   "execution_count": 101,
   "id": "d8c48a7d",
   "metadata": {
    "ExecuteTime": {
     "end_time": "2023-06-25T20:58:34.432148Z",
     "start_time": "2023-06-25T20:58:34.423735Z"
    }
   },
   "outputs": [],
   "source": [
    "from sklearn import metrics"
   ]
  },
  {
   "cell_type": "code",
   "execution_count": 102,
   "id": "e10d971e",
   "metadata": {
    "ExecuteTime": {
     "end_time": "2023-06-25T20:58:34.870534Z",
     "start_time": "2023-06-25T20:58:34.853900Z"
    }
   },
   "outputs": [
    {
     "name": "stdout",
     "output_type": "stream",
     "text": [
      "[[2071   93]\n",
      " [ 280 1547]]\n"
     ]
    }
   ],
   "source": [
    "# Confusion matrix \n",
    "confusion = metrics.confusion_matrix(y_train_pred_final.Converted, y_train_pred_final.predicted )\n",
    "print(confusion)"
   ]
  },
  {
   "cell_type": "code",
   "execution_count": 103,
   "id": "fae14971",
   "metadata": {
    "ExecuteTime": {
     "end_time": "2023-06-25T20:58:35.261160Z",
     "start_time": "2023-06-25T20:58:35.251163Z"
    }
   },
   "outputs": [
    {
     "name": "stdout",
     "output_type": "stream",
     "text": [
      "0.906539714357304\n"
     ]
    }
   ],
   "source": [
    "# Let's check the overall accuracy.\n",
    "print(metrics.accuracy_score(y_train_pred_final.Converted, y_train_pred_final.predicted))"
   ]
  },
  {
   "cell_type": "markdown",
   "id": "a4a3f0d5",
   "metadata": {},
   "source": [
    "### Checking VIFs"
   ]
  },
  {
   "cell_type": "code",
   "execution_count": 104,
   "id": "7cf8ec77",
   "metadata": {
    "ExecuteTime": {
     "end_time": "2023-06-25T20:58:36.074509Z",
     "start_time": "2023-06-25T20:58:36.052821Z"
    }
   },
   "outputs": [],
   "source": [
    "# Check for the VIF values of the feature variables. \n",
    "from statsmodels.stats.outliers_influence import variance_inflation_factor"
   ]
  },
  {
   "cell_type": "code",
   "execution_count": 105,
   "id": "92774c7e",
   "metadata": {
    "ExecuteTime": {
     "end_time": "2023-06-25T20:58:36.623408Z",
     "start_time": "2023-06-25T20:58:36.550803Z"
    }
   },
   "outputs": [
    {
     "data": {
      "text/html": [
       "<div>\n",
       "<style scoped>\n",
       "    .dataframe tbody tr th:only-of-type {\n",
       "        vertical-align: middle;\n",
       "    }\n",
       "\n",
       "    .dataframe tbody tr th {\n",
       "        vertical-align: top;\n",
       "    }\n",
       "\n",
       "    .dataframe thead th {\n",
       "        text-align: right;\n",
       "    }\n",
       "</style>\n",
       "<table border=\"1\" class=\"dataframe\">\n",
       "  <thead>\n",
       "    <tr style=\"text-align: right;\">\n",
       "      <th></th>\n",
       "      <th>Features</th>\n",
       "      <th>VIF</th>\n",
       "    </tr>\n",
       "  </thead>\n",
       "  <tbody>\n",
       "    <tr>\n",
       "      <th>6</th>\n",
       "      <td>Tags_Will revert after reading the email</td>\n",
       "      <td>2.30</td>\n",
       "    </tr>\n",
       "    <tr>\n",
       "      <th>8</th>\n",
       "      <td>Lead Profile_Potential Lead</td>\n",
       "      <td>1.65</td>\n",
       "    </tr>\n",
       "    <tr>\n",
       "      <th>14</th>\n",
       "      <td>Last Activity_SMS Sent</td>\n",
       "      <td>1.56</td>\n",
       "    </tr>\n",
       "    <tr>\n",
       "      <th>1</th>\n",
       "      <td>Lead Origin_Lead Add Form</td>\n",
       "      <td>1.34</td>\n",
       "    </tr>\n",
       "    <tr>\n",
       "      <th>2</th>\n",
       "      <td>What is your current occupation_Working Profes...</td>\n",
       "      <td>1.33</td>\n",
       "    </tr>\n",
       "    <tr>\n",
       "      <th>12</th>\n",
       "      <td>Last Activity_Email Opened</td>\n",
       "      <td>1.30</td>\n",
       "    </tr>\n",
       "    <tr>\n",
       "      <th>0</th>\n",
       "      <td>Total Time Spent on Website</td>\n",
       "      <td>1.18</td>\n",
       "    </tr>\n",
       "    <tr>\n",
       "      <th>3</th>\n",
       "      <td>Tags_Interested  in full time MBA</td>\n",
       "      <td>1.02</td>\n",
       "    </tr>\n",
       "    <tr>\n",
       "      <th>9</th>\n",
       "      <td>Specialization_Hospitality Management</td>\n",
       "      <td>1.02</td>\n",
       "    </tr>\n",
       "    <tr>\n",
       "      <th>11</th>\n",
       "      <td>Last Activity_Email Link Clicked</td>\n",
       "      <td>1.02</td>\n",
       "    </tr>\n",
       "    <tr>\n",
       "      <th>13</th>\n",
       "      <td>Last Activity_Page Visited on Website</td>\n",
       "      <td>1.02</td>\n",
       "    </tr>\n",
       "    <tr>\n",
       "      <th>7</th>\n",
       "      <td>Lead Profile_Lateral Student</td>\n",
       "      <td>1.01</td>\n",
       "    </tr>\n",
       "    <tr>\n",
       "      <th>4</th>\n",
       "      <td>Tags_Lateral student</td>\n",
       "      <td>1.00</td>\n",
       "    </tr>\n",
       "    <tr>\n",
       "      <th>5</th>\n",
       "      <td>Tags_Shall take in the next coming month</td>\n",
       "      <td>1.00</td>\n",
       "    </tr>\n",
       "    <tr>\n",
       "      <th>10</th>\n",
       "      <td>Last Activity_Approached upfront</td>\n",
       "      <td>1.00</td>\n",
       "    </tr>\n",
       "  </tbody>\n",
       "</table>\n",
       "</div>"
      ],
      "text/plain": [
       "                                             Features   VIF\n",
       "6            Tags_Will revert after reading the email  2.30\n",
       "8                         Lead Profile_Potential Lead  1.65\n",
       "14                             Last Activity_SMS Sent  1.56\n",
       "1                           Lead Origin_Lead Add Form  1.34\n",
       "2   What is your current occupation_Working Profes...  1.33\n",
       "12                         Last Activity_Email Opened  1.30\n",
       "0                         Total Time Spent on Website  1.18\n",
       "3                   Tags_Interested  in full time MBA  1.02\n",
       "9               Specialization_Hospitality Management  1.02\n",
       "11                   Last Activity_Email Link Clicked  1.02\n",
       "13              Last Activity_Page Visited on Website  1.02\n",
       "7                        Lead Profile_Lateral Student  1.01\n",
       "4                                Tags_Lateral student  1.00\n",
       "5            Tags_Shall take in the next coming month  1.00\n",
       "10                   Last Activity_Approached upfront  1.00"
      ]
     },
     "execution_count": 105,
     "metadata": {},
     "output_type": "execute_result"
    }
   ],
   "source": [
    "# Create a dataframe that will contain the names of all the feature variables and their respective VIFs\n",
    "vif = pd.DataFrame()\n",
    "vif['Features'] = X_train[col].columns\n",
    "vif['VIF'] = [variance_inflation_factor(X_train[col].values, i) for i in range(X_train[col].shape[1])]\n",
    "vif['VIF'] = round(vif['VIF'], 2)\n",
    "vif = vif.sort_values(by = \"VIF\", ascending = False)\n",
    "vif"
   ]
  },
  {
   "cell_type": "markdown",
   "id": "229719a6",
   "metadata": {},
   "source": [
    "All variables have a good value of VIF. \n",
    "So we need not drop any more variables and we can proceed with making predictions using this model only"
   ]
  },
  {
   "cell_type": "code",
   "execution_count": 106,
   "id": "360e659f",
   "metadata": {
    "ExecuteTime": {
     "end_time": "2023-06-25T20:58:48.356263Z",
     "start_time": "2023-06-25T20:58:48.333264Z"
    }
   },
   "outputs": [
    {
     "data": {
      "text/plain": [
       "array([[2071,   93],\n",
       "       [ 280, 1547]], dtype=int64)"
      ]
     },
     "execution_count": 106,
     "metadata": {},
     "output_type": "execute_result"
    }
   ],
   "source": [
    "# Let's take a look at the confusion matrix again \n",
    "confusion = metrics.confusion_matrix(y_train_pred_final.Converted, y_train_pred_final.predicted )\n",
    "confusion"
   ]
  },
  {
   "cell_type": "code",
   "execution_count": 107,
   "id": "bda60ef1",
   "metadata": {
    "ExecuteTime": {
     "end_time": "2023-06-25T20:58:49.338225Z",
     "start_time": "2023-06-25T20:58:49.326314Z"
    }
   },
   "outputs": [
    {
     "data": {
      "text/plain": [
       "0.906539714357304"
      ]
     },
     "execution_count": 107,
     "metadata": {},
     "output_type": "execute_result"
    }
   ],
   "source": [
    "# Let's check the overall accuracy.\n",
    "metrics.accuracy_score(y_train_pred_final.Converted, y_train_pred_final.predicted)"
   ]
  },
  {
   "cell_type": "markdown",
   "id": "b17e9af9",
   "metadata": {},
   "source": [
    "## Metrics beyond simply accuracy"
   ]
  },
  {
   "cell_type": "code",
   "execution_count": 108,
   "id": "bc185fc7",
   "metadata": {
    "ExecuteTime": {
     "end_time": "2023-06-25T20:58:50.866281Z",
     "start_time": "2023-06-25T20:58:50.845280Z"
    }
   },
   "outputs": [],
   "source": [
    "TP = confusion[1,1] # true positive \n",
    "TN = confusion[0,0] # true negatives\n",
    "FP = confusion[0,1] # false positives\n",
    "FN = confusion[1,0] # false negatives"
   ]
  },
  {
   "cell_type": "code",
   "execution_count": 109,
   "id": "9f007e5e",
   "metadata": {
    "ExecuteTime": {
     "end_time": "2023-06-25T20:58:51.504246Z",
     "start_time": "2023-06-25T20:58:51.484798Z"
    }
   },
   "outputs": [
    {
     "data": {
      "text/plain": [
       "0.8467432950191571"
      ]
     },
     "execution_count": 109,
     "metadata": {},
     "output_type": "execute_result"
    }
   ],
   "source": [
    "# Let's see the sensitivity of our logistic regression model\n",
    "TP / float(TP+FN)"
   ]
  },
  {
   "cell_type": "code",
   "execution_count": 110,
   "id": "3f5675f5",
   "metadata": {
    "ExecuteTime": {
     "end_time": "2023-06-25T20:58:52.109576Z",
     "start_time": "2023-06-25T20:58:52.089178Z"
    }
   },
   "outputs": [
    {
     "data": {
      "text/plain": [
       "0.9570240295748613"
      ]
     },
     "execution_count": 110,
     "metadata": {},
     "output_type": "execute_result"
    }
   ],
   "source": [
    "# Let us calculate specificity\n",
    "TN / float(TN+FP)"
   ]
  },
  {
   "cell_type": "code",
   "execution_count": 111,
   "id": "186d4ba7",
   "metadata": {
    "ExecuteTime": {
     "end_time": "2023-06-25T20:58:52.730013Z",
     "start_time": "2023-06-25T20:58:52.715701Z"
    }
   },
   "outputs": [
    {
     "name": "stdout",
     "output_type": "stream",
     "text": [
      "0.042975970425138635\n"
     ]
    }
   ],
   "source": [
    "# Calculate false postive rate - predicting Converted when customer does not have Converted\n",
    "print(FP/ float(TN+FP))"
   ]
  },
  {
   "cell_type": "code",
   "execution_count": 112,
   "id": "fd75d102",
   "metadata": {
    "ExecuteTime": {
     "end_time": "2023-06-25T20:58:53.568910Z",
     "start_time": "2023-06-25T20:58:53.560257Z"
    }
   },
   "outputs": [
    {
     "name": "stdout",
     "output_type": "stream",
     "text": [
      "0.9432926829268292\n"
     ]
    }
   ],
   "source": [
    "# positive predictive value \n",
    "print (TP / float(TP+FP))"
   ]
  },
  {
   "cell_type": "code",
   "execution_count": 113,
   "id": "637b68e4",
   "metadata": {
    "ExecuteTime": {
     "end_time": "2023-06-25T20:58:54.144781Z",
     "start_time": "2023-06-25T20:58:54.123845Z"
    }
   },
   "outputs": [
    {
     "name": "stdout",
     "output_type": "stream",
     "text": [
      "0.8809017439387494\n"
     ]
    }
   ],
   "source": [
    "# Negative predictive value\n",
    "print (TN / float(TN+ FN))"
   ]
  },
  {
   "cell_type": "markdown",
   "id": "7a8bc930",
   "metadata": {},
   "source": [
    "### Step 8: Plotting the ROC Curve"
   ]
  },
  {
   "cell_type": "markdown",
   "id": "15eae7d8",
   "metadata": {},
   "source": [
    "An ROC curve demonstrates several things:\n",
    "\n",
    "It shows the tradeoff between sensitivity and specificity (any increase in sensitivity will be accompanied by a decrease in specificity).\n",
    "The closer the curve follows the left-hand border and then the top border of the ROC space, the more accurate the test.\n",
    "The closer the curve comes to the 45-degree diagonal of the ROC space, the less accurate the test."
   ]
  },
  {
   "cell_type": "code",
   "execution_count": 114,
   "id": "6d93b4f2",
   "metadata": {
    "ExecuteTime": {
     "end_time": "2023-06-25T20:58:55.841188Z",
     "start_time": "2023-06-25T20:58:55.826918Z"
    }
   },
   "outputs": [],
   "source": [
    "def draw_roc( actual, probs ):\n",
    "    fpr, tpr, thresholds = metrics.roc_curve( actual, probs,\n",
    "                                              drop_intermediate = False )\n",
    "    auc_score = metrics.roc_auc_score( actual, probs )\n",
    "    plt.figure(figsize=(5, 5))\n",
    "    plt.plot( fpr, tpr, label='ROC curve (area = %0.2f)' % auc_score )\n",
    "    plt.plot([0, 1], [0, 1], 'k--')\n",
    "    plt.xlim([0.0, 1.0])\n",
    "    plt.ylim([0.0, 1.05])\n",
    "    plt.xlabel('False Positive Rate or [1 - True Negative Rate]')\n",
    "    plt.ylabel('True Positive Rate')\n",
    "    plt.title('Receiver operating characteristic Curve')\n",
    "    plt.legend(loc=\"lower right\")\n",
    "    plt.show()\n",
    "\n",
    "    return None"
   ]
  },
  {
   "cell_type": "code",
   "execution_count": 115,
   "id": "beaec924",
   "metadata": {
    "ExecuteTime": {
     "end_time": "2023-06-25T20:58:56.355154Z",
     "start_time": "2023-06-25T20:58:56.336790Z"
    }
   },
   "outputs": [],
   "source": [
    "fpr, tpr, thresholds = metrics.roc_curve( y_train_pred_final.Converted, y_train_pred_final.Converted_Prob, drop_intermediate = False )"
   ]
  },
  {
   "cell_type": "code",
   "execution_count": 116,
   "id": "d18f2a82",
   "metadata": {
    "ExecuteTime": {
     "end_time": "2023-06-25T20:58:57.134351Z",
     "start_time": "2023-06-25T20:58:56.893792Z"
    }
   },
   "outputs": [
    {
     "data": {
      "image/png": "[encoded data removed]",
      "text/plain": [
       "<Figure size 500x500 with 1 Axes>"
      ]
     },
     "metadata": {},
     "output_type": "display_data"
    }
   ],
   "source": [
    "draw_roc(y_train_pred_final.Converted, y_train_pred_final.Converted_Prob)"
   ]
  },
  {
   "cell_type": "markdown",
   "id": "273ecf68",
   "metadata": {},
   "source": [
    "### Step 9: Finding Optimal Cutoff Point"
   ]
  },
  {
   "cell_type": "markdown",
   "id": "ec934270",
   "metadata": {},
   "source": [
    "Optimal cutoff probability is that prob where we get balanced sensitivity and specificity\n",
    "- The Optimal cutoff is to check the selected cutoff = 0.5 is good or not"
   ]
  },
  {
   "cell_type": "code",
   "execution_count": 117,
   "id": "c6a40e86",
   "metadata": {
    "ExecuteTime": {
     "end_time": "2023-06-25T20:58:58.713198Z",
     "start_time": "2023-06-25T20:58:58.665926Z"
    }
   },
   "outputs": [
    {
     "data": {
      "text/html": [
       "<div>\n",
       "<style scoped>\n",
       "    .dataframe tbody tr th:only-of-type {\n",
       "        vertical-align: middle;\n",
       "    }\n",
       "\n",
       "    .dataframe tbody tr th {\n",
       "        vertical-align: top;\n",
       "    }\n",
       "\n",
       "    .dataframe thead th {\n",
       "        text-align: right;\n",
       "    }\n",
       "</style>\n",
       "<table border=\"1\" class=\"dataframe\">\n",
       "  <thead>\n",
       "    <tr style=\"text-align: right;\">\n",
       "      <th></th>\n",
       "      <th>Converted</th>\n",
       "      <th>Converted_Prob</th>\n",
       "      <th>prospect_ID</th>\n",
       "      <th>predicted</th>\n",
       "      <th>0.0</th>\n",
       "      <th>0.1</th>\n",
       "      <th>0.2</th>\n",
       "      <th>0.3</th>\n",
       "      <th>0.4</th>\n",
       "      <th>0.5</th>\n",
       "      <th>0.6</th>\n",
       "      <th>0.7</th>\n",
       "      <th>0.8</th>\n",
       "      <th>0.9</th>\n",
       "    </tr>\n",
       "  </thead>\n",
       "  <tbody>\n",
       "    <tr>\n",
       "      <th>0</th>\n",
       "      <td>1</td>\n",
       "      <td>0.972343</td>\n",
       "      <td>5393</td>\n",
       "      <td>1</td>\n",
       "      <td>1</td>\n",
       "      <td>1</td>\n",
       "      <td>1</td>\n",
       "      <td>1</td>\n",
       "      <td>1</td>\n",
       "      <td>1</td>\n",
       "      <td>1</td>\n",
       "      <td>1</td>\n",
       "      <td>1</td>\n",
       "      <td>1</td>\n",
       "    </tr>\n",
       "    <tr>\n",
       "      <th>1</th>\n",
       "      <td>1</td>\n",
       "      <td>0.803885</td>\n",
       "      <td>693</td>\n",
       "      <td>1</td>\n",
       "      <td>1</td>\n",
       "      <td>1</td>\n",
       "      <td>1</td>\n",
       "      <td>1</td>\n",
       "      <td>1</td>\n",
       "      <td>1</td>\n",
       "      <td>1</td>\n",
       "      <td>1</td>\n",
       "      <td>1</td>\n",
       "      <td>0</td>\n",
       "    </tr>\n",
       "    <tr>\n",
       "      <th>2</th>\n",
       "      <td>0</td>\n",
       "      <td>0.048263</td>\n",
       "      <td>1919</td>\n",
       "      <td>0</td>\n",
       "      <td>1</td>\n",
       "      <td>0</td>\n",
       "      <td>0</td>\n",
       "      <td>0</td>\n",
       "      <td>0</td>\n",
       "      <td>0</td>\n",
       "      <td>0</td>\n",
       "      <td>0</td>\n",
       "      <td>0</td>\n",
       "      <td>0</td>\n",
       "    </tr>\n",
       "    <tr>\n",
       "      <th>3</th>\n",
       "      <td>1</td>\n",
       "      <td>0.998631</td>\n",
       "      <td>2631</td>\n",
       "      <td>1</td>\n",
       "      <td>1</td>\n",
       "      <td>1</td>\n",
       "      <td>1</td>\n",
       "      <td>1</td>\n",
       "      <td>1</td>\n",
       "      <td>1</td>\n",
       "      <td>1</td>\n",
       "      <td>1</td>\n",
       "      <td>1</td>\n",
       "      <td>1</td>\n",
       "    </tr>\n",
       "    <tr>\n",
       "      <th>4</th>\n",
       "      <td>0</td>\n",
       "      <td>0.086852</td>\n",
       "      <td>4933</td>\n",
       "      <td>0</td>\n",
       "      <td>1</td>\n",
       "      <td>0</td>\n",
       "      <td>0</td>\n",
       "      <td>0</td>\n",
       "      <td>0</td>\n",
       "      <td>0</td>\n",
       "      <td>0</td>\n",
       "      <td>0</td>\n",
       "      <td>0</td>\n",
       "      <td>0</td>\n",
       "    </tr>\n",
       "  </tbody>\n",
       "</table>\n",
       "</div>"
      ],
      "text/plain": [
       "   Converted  Converted_Prob  prospect_ID  predicted  0.0  0.1  0.2  0.3  0.4  \\\n",
       "0          1        0.972343         5393          1    1    1    1    1    1   \n",
       "1          1        0.803885          693          1    1    1    1    1    1   \n",
       "2          0        0.048263         1919          0    1    0    0    0    0   \n",
       "3          1        0.998631         2631          1    1    1    1    1    1   \n",
       "4          0        0.086852         4933          0    1    0    0    0    0   \n",
       "\n",
       "   0.5  0.6  0.7  0.8  0.9  \n",
       "0    1    1    1    1    1  \n",
       "1    1    1    1    1    0  \n",
       "2    0    0    0    0    0  \n",
       "3    1    1    1    1    1  \n",
       "4    0    0    0    0    0  "
      ]
     },
     "execution_count": 117,
     "metadata": {},
     "output_type": "execute_result"
    }
   ],
   "source": [
    "# Let's create columns with different probability cutoffs \n",
    "numbers = [float(x)/10 for x in range(10)]\n",
    "for i in numbers:\n",
    "    y_train_pred_final[i]= y_train_pred_final.Converted_Prob.map(lambda x: 1 if x > i else 0)\n",
    "y_train_pred_final.head()"
   ]
  },
  {
   "cell_type": "code",
   "execution_count": 118,
   "id": "1aa4560f",
   "metadata": {
    "ExecuteTime": {
     "end_time": "2023-06-25T20:58:59.320932Z",
     "start_time": "2023-06-25T20:58:59.268855Z"
    }
   },
   "outputs": [
    {
     "name": "stdout",
     "output_type": "stream",
     "text": [
      "     prob  accuracy     sensi     speci\n",
      "0.0   0.0  0.457780  1.000000  0.000000\n",
      "0.1   0.1  0.808820  0.956212  0.684381\n",
      "0.2   0.2  0.870459  0.932677  0.817930\n",
      "0.3   0.3  0.895264  0.899836  0.891405\n",
      "0.4   0.4  0.905036  0.873563  0.931608\n",
      "0.5   0.5  0.906540  0.846743  0.957024\n",
      "0.6   0.6  0.904786  0.833607  0.964880\n",
      "0.7   0.7  0.899774  0.811166  0.974584\n",
      "0.8   0.8  0.896016  0.799672  0.977357\n",
      "0.9   0.9  0.869957  0.732348  0.986137\n"
     ]
    }
   ],
   "source": [
    "# Now let's calculate accuracy sensitivity and specificity for various probability cutoffs.\n",
    "cutoff_df = pd.DataFrame( columns = ['prob','accuracy','sensi','speci'])\n",
    "from sklearn.metrics import confusion_matrix\n",
    "\n",
    "num = [0.0,0.1,0.2,0.3,0.4,0.5,0.6,0.7,0.8,0.9]\n",
    "for i in num:\n",
    "    cm1 = metrics.confusion_matrix(y_train_pred_final.Converted, y_train_pred_final[i] )\n",
    "    total1=sum(sum(cm1))\n",
    "    accuracy = (cm1[0,0]+cm1[1,1])/total1\n",
    "    \n",
    "    speci = cm1[0,0]/(cm1[0,0]+cm1[0,1])\n",
    "    sensi = cm1[1,1]/(cm1[1,0]+cm1[1,1])\n",
    "    cutoff_df.loc[i] =[ i ,accuracy,sensi,speci]\n",
    "print(cutoff_df)"
   ]
  },
  {
   "cell_type": "code",
   "execution_count": 119,
   "id": "f1598e9e",
   "metadata": {
    "ExecuteTime": {
     "end_time": "2023-06-25T20:59:00.223016Z",
     "start_time": "2023-06-25T20:58:59.957448Z"
    }
   },
   "outputs": [
    {
     "data": {
      "image/png": "[encoded data removed]",
      "text/plain": [
       "<Figure size 640x480 with 1 Axes>"
      ]
     },
     "metadata": {},
     "output_type": "display_data"
    }
   ],
   "source": [
    "# Let's plot accuracy sensitivity and specificity for various probabilities.\n",
    "cutoff_df.plot.line(x='prob', y=['accuracy','sensi','speci'],title='Sensitivity and Specificity Trend')\n",
    "plt.xlabel('Cutoff')\n",
    "plt.ylabel('Value')\n",
    "plt.show()"
   ]
  },
  {
   "cell_type": "markdown",
   "id": "3a8c5b0c",
   "metadata": {},
   "source": [
    "#### From the curve above, 0.3 is the optimum point to take it as a cutoff probability."
   ]
  },
  {
   "cell_type": "code",
   "execution_count": 120,
   "id": "e2249975",
   "metadata": {
    "ExecuteTime": {
     "end_time": "2023-06-25T20:59:02.909491Z",
     "start_time": "2023-06-25T20:59:02.882343Z"
    }
   },
   "outputs": [
    {
     "data": {
      "text/html": [
       "<div>\n",
       "<style scoped>\n",
       "    .dataframe tbody tr th:only-of-type {\n",
       "        vertical-align: middle;\n",
       "    }\n",
       "\n",
       "    .dataframe tbody tr th {\n",
       "        vertical-align: top;\n",
       "    }\n",
       "\n",
       "    .dataframe thead th {\n",
       "        text-align: right;\n",
       "    }\n",
       "</style>\n",
       "<table border=\"1\" class=\"dataframe\">\n",
       "  <thead>\n",
       "    <tr style=\"text-align: right;\">\n",
       "      <th></th>\n",
       "      <th>Converted</th>\n",
       "      <th>Converted_Prob</th>\n",
       "      <th>prospect_ID</th>\n",
       "      <th>predicted</th>\n",
       "      <th>0.0</th>\n",
       "      <th>0.1</th>\n",
       "      <th>0.2</th>\n",
       "      <th>0.3</th>\n",
       "      <th>0.4</th>\n",
       "      <th>0.5</th>\n",
       "      <th>0.6</th>\n",
       "      <th>0.7</th>\n",
       "      <th>0.8</th>\n",
       "      <th>0.9</th>\n",
       "      <th>final_predicted</th>\n",
       "    </tr>\n",
       "  </thead>\n",
       "  <tbody>\n",
       "    <tr>\n",
       "      <th>0</th>\n",
       "      <td>1</td>\n",
       "      <td>0.972343</td>\n",
       "      <td>5393</td>\n",
       "      <td>1</td>\n",
       "      <td>1</td>\n",
       "      <td>1</td>\n",
       "      <td>1</td>\n",
       "      <td>1</td>\n",
       "      <td>1</td>\n",
       "      <td>1</td>\n",
       "      <td>1</td>\n",
       "      <td>1</td>\n",
       "      <td>1</td>\n",
       "      <td>1</td>\n",
       "      <td>1</td>\n",
       "    </tr>\n",
       "    <tr>\n",
       "      <th>1</th>\n",
       "      <td>1</td>\n",
       "      <td>0.803885</td>\n",
       "      <td>693</td>\n",
       "      <td>1</td>\n",
       "      <td>1</td>\n",
       "      <td>1</td>\n",
       "      <td>1</td>\n",
       "      <td>1</td>\n",
       "      <td>1</td>\n",
       "      <td>1</td>\n",
       "      <td>1</td>\n",
       "      <td>1</td>\n",
       "      <td>1</td>\n",
       "      <td>0</td>\n",
       "      <td>1</td>\n",
       "    </tr>\n",
       "    <tr>\n",
       "      <th>2</th>\n",
       "      <td>0</td>\n",
       "      <td>0.048263</td>\n",
       "      <td>1919</td>\n",
       "      <td>0</td>\n",
       "      <td>1</td>\n",
       "      <td>0</td>\n",
       "      <td>0</td>\n",
       "      <td>0</td>\n",
       "      <td>0</td>\n",
       "      <td>0</td>\n",
       "      <td>0</td>\n",
       "      <td>0</td>\n",
       "      <td>0</td>\n",
       "      <td>0</td>\n",
       "      <td>0</td>\n",
       "    </tr>\n",
       "    <tr>\n",
       "      <th>3</th>\n",
       "      <td>1</td>\n",
       "      <td>0.998631</td>\n",
       "      <td>2631</td>\n",
       "      <td>1</td>\n",
       "      <td>1</td>\n",
       "      <td>1</td>\n",
       "      <td>1</td>\n",
       "      <td>1</td>\n",
       "      <td>1</td>\n",
       "      <td>1</td>\n",
       "      <td>1</td>\n",
       "      <td>1</td>\n",
       "      <td>1</td>\n",
       "      <td>1</td>\n",
       "      <td>1</td>\n",
       "    </tr>\n",
       "    <tr>\n",
       "      <th>4</th>\n",
       "      <td>0</td>\n",
       "      <td>0.086852</td>\n",
       "      <td>4933</td>\n",
       "      <td>0</td>\n",
       "      <td>1</td>\n",
       "      <td>0</td>\n",
       "      <td>0</td>\n",
       "      <td>0</td>\n",
       "      <td>0</td>\n",
       "      <td>0</td>\n",
       "      <td>0</td>\n",
       "      <td>0</td>\n",
       "      <td>0</td>\n",
       "      <td>0</td>\n",
       "      <td>0</td>\n",
       "    </tr>\n",
       "  </tbody>\n",
       "</table>\n",
       "</div>"
      ],
      "text/plain": [
       "   Converted  Converted_Prob  prospect_ID  predicted  0.0  0.1  0.2  0.3  0.4  \\\n",
       "0          1        0.972343         5393          1    1    1    1    1    1   \n",
       "1          1        0.803885          693          1    1    1    1    1    1   \n",
       "2          0        0.048263         1919          0    1    0    0    0    0   \n",
       "3          1        0.998631         2631          1    1    1    1    1    1   \n",
       "4          0        0.086852         4933          0    1    0    0    0    0   \n",
       "\n",
       "   0.5  0.6  0.7  0.8  0.9  final_predicted  \n",
       "0    1    1    1    1    1                1  \n",
       "1    1    1    1    1    0                1  \n",
       "2    0    0    0    0    0                0  \n",
       "3    1    1    1    1    1                1  \n",
       "4    0    0    0    0    0                0  "
      ]
     },
     "execution_count": 120,
     "metadata": {},
     "output_type": "execute_result"
    }
   ],
   "source": [
    "y_train_pred_final['final_predicted'] = y_train_pred_final.Converted_Prob.map( lambda x: 1 if x > 0.3 else 0)\n",
    "\n",
    "y_train_pred_final.head()"
   ]
  },
  {
   "cell_type": "code",
   "execution_count": 121,
   "id": "188bebde",
   "metadata": {
    "ExecuteTime": {
     "end_time": "2023-06-25T20:59:03.736569Z",
     "start_time": "2023-06-25T20:59:03.722757Z"
    }
   },
   "outputs": [
    {
     "data": {
      "text/plain": [
       "0.8952643447757455"
      ]
     },
     "execution_count": 121,
     "metadata": {},
     "output_type": "execute_result"
    }
   ],
   "source": [
    "# Let's check the overall accuracy.\n",
    "metrics.accuracy_score(y_train_pred_final.Converted, y_train_pred_final.final_predicted)"
   ]
  },
  {
   "cell_type": "code",
   "execution_count": 122,
   "id": "a350f2e2",
   "metadata": {
    "ExecuteTime": {
     "end_time": "2023-06-25T20:59:04.850607Z",
     "start_time": "2023-06-25T20:59:04.826726Z"
    }
   },
   "outputs": [
    {
     "data": {
      "text/plain": [
       "array([[1929,  235],\n",
       "       [ 183, 1644]], dtype=int64)"
      ]
     },
     "execution_count": 122,
     "metadata": {},
     "output_type": "execute_result"
    }
   ],
   "source": [
    "confusion2 = metrics.confusion_matrix(y_train_pred_final.Converted, y_train_pred_final.final_predicted )\n",
    "confusion2"
   ]
  },
  {
   "cell_type": "code",
   "execution_count": 123,
   "id": "d5db18f2",
   "metadata": {
    "ExecuteTime": {
     "end_time": "2023-06-25T20:59:06.067997Z",
     "start_time": "2023-06-25T20:59:06.044732Z"
    }
   },
   "outputs": [],
   "source": [
    "TP = confusion2[1,1] # true positive \n",
    "TN = confusion2[0,0] # true negatives\n",
    "FP = confusion2[0,1] # false positives\n",
    "FN = confusion2[1,0] # false negatives"
   ]
  },
  {
   "cell_type": "code",
   "execution_count": 125,
   "id": "3ad01be1",
   "metadata": {
    "ExecuteTime": {
     "end_time": "2023-06-25T20:59:13.812235Z",
     "start_time": "2023-06-25T20:59:13.801187Z"
    }
   },
   "outputs": [
    {
     "data": {
      "text/plain": [
       "0.8998357963875205"
      ]
     },
     "execution_count": 125,
     "metadata": {},
     "output_type": "execute_result"
    }
   ],
   "source": [
    "# Let's see the sensitivity of the logistic regression model\n",
    "TP / float(TP+FN)"
   ]
  },
  {
   "cell_type": "code",
   "execution_count": 126,
   "id": "2a185efa",
   "metadata": {
    "ExecuteTime": {
     "end_time": "2023-06-25T20:59:14.470509Z",
     "start_time": "2023-06-25T20:59:14.455110Z"
    }
   },
   "outputs": [
    {
     "data": {
      "text/plain": [
       "0.8914048059149723"
      ]
     },
     "execution_count": 126,
     "metadata": {},
     "output_type": "execute_result"
    }
   ],
   "source": [
    "# Let us calculate specificity\n",
    "TN / float(TN+FP)"
   ]
  },
  {
   "cell_type": "code",
   "execution_count": 127,
   "id": "aae988ab",
   "metadata": {
    "ExecuteTime": {
     "end_time": "2023-06-25T20:59:15.141762Z",
     "start_time": "2023-06-25T20:59:15.133669Z"
    }
   },
   "outputs": [
    {
     "name": "stdout",
     "output_type": "stream",
     "text": [
      "0.10859519408502773\n"
     ]
    }
   ],
   "source": [
    "# Calculate false postive rate - predicting Converted when customer does not have Converted\n",
    "print(FP/ float(TN+FP))"
   ]
  },
  {
   "cell_type": "code",
   "execution_count": 128,
   "id": "bd2e0e0d",
   "metadata": {
    "ExecuteTime": {
     "end_time": "2023-06-25T20:59:18.860683Z",
     "start_time": "2023-06-25T20:59:18.852609Z"
    }
   },
   "outputs": [
    {
     "name": "stdout",
     "output_type": "stream",
     "text": [
      "0.8749334752527941\n"
     ]
    }
   ],
   "source": [
    "# Positive predictive value \n",
    "print (TP / float(TP+FP))"
   ]
  },
  {
   "cell_type": "code",
   "execution_count": 129,
   "id": "5f26c174",
   "metadata": {
    "ExecuteTime": {
     "end_time": "2023-06-25T20:59:19.955090Z",
     "start_time": "2023-06-25T20:59:19.941355Z"
    }
   },
   "outputs": [
    {
     "name": "stdout",
     "output_type": "stream",
     "text": [
      "0.9133522727272727\n"
     ]
    }
   ],
   "source": [
    "# Negative predictive value\n",
    "print (TN / float(TN+ FN))"
   ]
  },
  {
   "cell_type": "markdown",
   "id": "23c1517f",
   "metadata": {},
   "source": [
    "## Precision and Recall"
   ]
  },
  {
   "cell_type": "markdown",
   "id": "9f2c9141",
   "metadata": {},
   "source": [
    "Looking at the confusion matrix again"
   ]
  },
  {
   "cell_type": "code",
   "execution_count": 130,
   "id": "c43af390",
   "metadata": {
    "ExecuteTime": {
     "end_time": "2023-06-25T20:59:21.485933Z",
     "start_time": "2023-06-25T20:59:21.456727Z"
    }
   },
   "outputs": [
    {
     "data": {
      "text/plain": [
       "array([[2071,   93],\n",
       "       [ 280, 1547]], dtype=int64)"
      ]
     },
     "execution_count": 130,
     "metadata": {},
     "output_type": "execute_result"
    }
   ],
   "source": [
    "confusion = metrics.confusion_matrix(y_train_pred_final.Converted, y_train_pred_final.predicted )\n",
    "confusion"
   ]
  },
  {
   "cell_type": "markdown",
   "id": "dbb7b09c",
   "metadata": {},
   "source": [
    "##### Precision\n",
    "TP / TP + FP"
   ]
  },
  {
   "cell_type": "code",
   "execution_count": 131,
   "id": "0960753e",
   "metadata": {
    "ExecuteTime": {
     "end_time": "2023-06-25T20:59:22.298001Z",
     "start_time": "2023-06-25T20:59:22.275031Z"
    }
   },
   "outputs": [
    {
     "data": {
      "text/plain": [
       "0.9432926829268292"
      ]
     },
     "execution_count": 131,
     "metadata": {},
     "output_type": "execute_result"
    }
   ],
   "source": [
    "confusion[1,1]/(confusion[0,1]+confusion[1,1])"
   ]
  },
  {
   "cell_type": "markdown",
   "id": "347b14e2",
   "metadata": {
    "ExecuteTime": {
     "end_time": "2023-06-21T20:13:28.869411Z",
     "start_time": "2023-06-21T20:13:28.850654Z"
    }
   },
   "source": [
    "##### Recall\n",
    "TP / TP + FN"
   ]
  },
  {
   "cell_type": "code",
   "execution_count": 132,
   "id": "3b862fbf",
   "metadata": {
    "ExecuteTime": {
     "end_time": "2023-06-25T20:59:23.015912Z",
     "start_time": "2023-06-25T20:59:23.002427Z"
    }
   },
   "outputs": [
    {
     "data": {
      "text/plain": [
       "0.8467432950191571"
      ]
     },
     "execution_count": 132,
     "metadata": {},
     "output_type": "execute_result"
    }
   ],
   "source": [
    "confusion[1,1]/(confusion[1,0]+confusion[1,1])"
   ]
  },
  {
   "cell_type": "markdown",
   "id": "f1d5614a",
   "metadata": {},
   "source": [
    "Using sklearn utilities for the same"
   ]
  },
  {
   "cell_type": "code",
   "execution_count": 133,
   "id": "4d8370b3",
   "metadata": {
    "ExecuteTime": {
     "end_time": "2023-06-25T20:59:23.856998Z",
     "start_time": "2023-06-25T20:59:23.847520Z"
    }
   },
   "outputs": [],
   "source": [
    "from sklearn.metrics import precision_score, recall_score"
   ]
  },
  {
   "cell_type": "code",
   "execution_count": 134,
   "id": "703377f2",
   "metadata": {
    "ExecuteTime": {
     "end_time": "2023-06-25T20:59:24.340411Z",
     "start_time": "2023-06-25T20:59:24.329637Z"
    }
   },
   "outputs": [
    {
     "data": {
      "text/plain": [
       "0.9432926829268292"
      ]
     },
     "execution_count": 134,
     "metadata": {},
     "output_type": "execute_result"
    }
   ],
   "source": [
    "precision_score(y_train_pred_final.Converted, y_train_pred_final.predicted)"
   ]
  },
  {
   "cell_type": "code",
   "execution_count": 135,
   "id": "4f6b01b6",
   "metadata": {
    "ExecuteTime": {
     "end_time": "2023-06-25T20:59:24.871878Z",
     "start_time": "2023-06-25T20:59:24.847540Z"
    }
   },
   "outputs": [
    {
     "data": {
      "text/plain": [
       "0.8467432950191571"
      ]
     },
     "execution_count": 135,
     "metadata": {},
     "output_type": "execute_result"
    }
   ],
   "source": [
    "recall_score(y_train_pred_final.Converted, y_train_pred_final.predicted)"
   ]
  },
  {
   "cell_type": "markdown",
   "id": "b6ea2cda",
   "metadata": {},
   "source": [
    "### Precision and recall tradeoff"
   ]
  },
  {
   "cell_type": "code",
   "execution_count": 136,
   "id": "76ee993f",
   "metadata": {
    "ExecuteTime": {
     "end_time": "2023-06-25T20:59:25.714468Z",
     "start_time": "2023-06-25T20:59:25.706060Z"
    }
   },
   "outputs": [],
   "source": [
    "from sklearn.metrics import precision_recall_curve"
   ]
  },
  {
   "cell_type": "code",
   "execution_count": 137,
   "id": "33e41495",
   "metadata": {
    "ExecuteTime": {
     "end_time": "2023-06-25T20:59:26.121366Z",
     "start_time": "2023-06-25T20:59:26.110260Z"
    }
   },
   "outputs": [
    {
     "data": {
      "text/plain": [
       "(0       1\n",
       " 1       1\n",
       " 2       0\n",
       " 3       1\n",
       " 4       0\n",
       "        ..\n",
       " 3986    0\n",
       " 3987    0\n",
       " 3988    1\n",
       " 3989    0\n",
       " 3990    0\n",
       " Name: Converted, Length: 3991, dtype: int64,\n",
       " 0       1\n",
       " 1       1\n",
       " 2       0\n",
       " 3       1\n",
       " 4       0\n",
       "        ..\n",
       " 3986    0\n",
       " 3987    0\n",
       " 3988    1\n",
       " 3989    0\n",
       " 3990    0\n",
       " Name: predicted, Length: 3991, dtype: int64)"
      ]
     },
     "execution_count": 137,
     "metadata": {},
     "output_type": "execute_result"
    }
   ],
   "source": [
    "y_train_pred_final.Converted, y_train_pred_final.predicted"
   ]
  },
  {
   "cell_type": "code",
   "execution_count": 138,
   "id": "d2c8bf3f",
   "metadata": {
    "ExecuteTime": {
     "end_time": "2023-06-25T20:59:26.637281Z",
     "start_time": "2023-06-25T20:59:26.615054Z"
    }
   },
   "outputs": [],
   "source": [
    "p, r, thresholds = precision_recall_curve(y_train_pred_final.Converted, y_train_pred_final.Converted_Prob)"
   ]
  },
  {
   "cell_type": "code",
   "execution_count": 139,
   "id": "e3ba90d5",
   "metadata": {
    "ExecuteTime": {
     "end_time": "2023-06-25T20:59:27.312882Z",
     "start_time": "2023-06-25T20:59:27.097341Z"
    }
   },
   "outputs": [
    {
     "data": {
      "image/png": "[encoded data removed]",
      "text/plain": [
       "<Figure size 640x480 with 1 Axes>"
      ]
     },
     "metadata": {},
     "output_type": "display_data"
    }
   ],
   "source": [
    "plt.plot(thresholds, p[:-1], \"g-\")\n",
    "plt.plot(thresholds, r[:-1], \"r-\")\n",
    "plt.title('Precision-Recall Tradeoff')\n",
    "plt.show()"
   ]
  },
  {
   "cell_type": "markdown",
   "id": "e298b3bc",
   "metadata": {},
   "source": [
    "### Step 10: Making predictions on the test set"
   ]
  },
  {
   "cell_type": "code",
   "execution_count": 140,
   "id": "464f54f1",
   "metadata": {
    "ExecuteTime": {
     "end_time": "2023-06-25T20:59:28.485262Z",
     "start_time": "2023-06-25T20:59:28.459699Z"
    }
   },
   "outputs": [],
   "source": [
    "X_test[['TotalVisits','Total Time Spent on Website','Page Views Per Visit']] = scaler.transform(X_test[['TotalVisits','Total Time Spent on Website','Page Views Per Visit']])"
   ]
  },
  {
   "cell_type": "code",
   "execution_count": 141,
   "id": "67fc72fa",
   "metadata": {
    "ExecuteTime": {
     "end_time": "2023-06-25T20:59:28.986614Z",
     "start_time": "2023-06-25T20:59:28.945832Z"
    }
   },
   "outputs": [
    {
     "data": {
      "text/html": [
       "<div>\n",
       "<style scoped>\n",
       "    .dataframe tbody tr th:only-of-type {\n",
       "        vertical-align: middle;\n",
       "    }\n",
       "\n",
       "    .dataframe tbody tr th {\n",
       "        vertical-align: top;\n",
       "    }\n",
       "\n",
       "    .dataframe thead th {\n",
       "        text-align: right;\n",
       "    }\n",
       "</style>\n",
       "<table border=\"1\" class=\"dataframe\">\n",
       "  <thead>\n",
       "    <tr style=\"text-align: right;\">\n",
       "      <th></th>\n",
       "      <th>Total Time Spent on Website</th>\n",
       "      <th>Lead Origin_Lead Add Form</th>\n",
       "      <th>What is your current occupation_Working Professional</th>\n",
       "      <th>Tags_Interested  in full time MBA</th>\n",
       "      <th>Tags_Lateral student</th>\n",
       "      <th>Tags_Shall take in the next coming month</th>\n",
       "      <th>Tags_Will revert after reading the email</th>\n",
       "      <th>Lead Profile_Lateral Student</th>\n",
       "      <th>Lead Profile_Potential Lead</th>\n",
       "      <th>Specialization_Hospitality Management</th>\n",
       "      <th>Last Activity_Approached upfront</th>\n",
       "      <th>Last Activity_Email Link Clicked</th>\n",
       "      <th>Last Activity_Email Opened</th>\n",
       "      <th>Last Activity_Page Visited on Website</th>\n",
       "      <th>Last Activity_SMS Sent</th>\n",
       "    </tr>\n",
       "  </thead>\n",
       "  <tbody>\n",
       "    <tr>\n",
       "      <th>2572</th>\n",
       "      <td>-0.741035</td>\n",
       "      <td>0</td>\n",
       "      <td>0</td>\n",
       "      <td>0</td>\n",
       "      <td>0</td>\n",
       "      <td>0</td>\n",
       "      <td>0</td>\n",
       "      <td>0</td>\n",
       "      <td>0</td>\n",
       "      <td>0</td>\n",
       "      <td>0</td>\n",
       "      <td>0</td>\n",
       "      <td>1</td>\n",
       "      <td>0</td>\n",
       "      <td>0</td>\n",
       "    </tr>\n",
       "    <tr>\n",
       "      <th>4979</th>\n",
       "      <td>0.553107</td>\n",
       "      <td>0</td>\n",
       "      <td>0</td>\n",
       "      <td>0</td>\n",
       "      <td>0</td>\n",
       "      <td>0</td>\n",
       "      <td>0</td>\n",
       "      <td>0</td>\n",
       "      <td>0</td>\n",
       "      <td>0</td>\n",
       "      <td>0</td>\n",
       "      <td>0</td>\n",
       "      <td>0</td>\n",
       "      <td>0</td>\n",
       "      <td>1</td>\n",
       "    </tr>\n",
       "    <tr>\n",
       "      <th>3976</th>\n",
       "      <td>1.587366</td>\n",
       "      <td>0</td>\n",
       "      <td>0</td>\n",
       "      <td>0</td>\n",
       "      <td>0</td>\n",
       "      <td>0</td>\n",
       "      <td>1</td>\n",
       "      <td>0</td>\n",
       "      <td>1</td>\n",
       "      <td>0</td>\n",
       "      <td>0</td>\n",
       "      <td>0</td>\n",
       "      <td>0</td>\n",
       "      <td>0</td>\n",
       "      <td>1</td>\n",
       "    </tr>\n",
       "    <tr>\n",
       "      <th>5785</th>\n",
       "      <td>-0.958773</td>\n",
       "      <td>1</td>\n",
       "      <td>1</td>\n",
       "      <td>0</td>\n",
       "      <td>0</td>\n",
       "      <td>0</td>\n",
       "      <td>1</td>\n",
       "      <td>0</td>\n",
       "      <td>1</td>\n",
       "      <td>0</td>\n",
       "      <td>0</td>\n",
       "      <td>0</td>\n",
       "      <td>0</td>\n",
       "      <td>0</td>\n",
       "      <td>1</td>\n",
       "    </tr>\n",
       "    <tr>\n",
       "      <th>3458</th>\n",
       "      <td>0.454773</td>\n",
       "      <td>0</td>\n",
       "      <td>0</td>\n",
       "      <td>0</td>\n",
       "      <td>0</td>\n",
       "      <td>0</td>\n",
       "      <td>1</td>\n",
       "      <td>0</td>\n",
       "      <td>0</td>\n",
       "      <td>0</td>\n",
       "      <td>0</td>\n",
       "      <td>0</td>\n",
       "      <td>0</td>\n",
       "      <td>1</td>\n",
       "      <td>0</td>\n",
       "    </tr>\n",
       "  </tbody>\n",
       "</table>\n",
       "</div>"
      ],
      "text/plain": [
       "      Total Time Spent on Website  Lead Origin_Lead Add Form  \\\n",
       "2572                    -0.741035                          0   \n",
       "4979                     0.553107                          0   \n",
       "3976                     1.587366                          0   \n",
       "5785                    -0.958773                          1   \n",
       "3458                     0.454773                          0   \n",
       "\n",
       "      What is your current occupation_Working Professional  \\\n",
       "2572                                                  0      \n",
       "4979                                                  0      \n",
       "3976                                                  0      \n",
       "5785                                                  1      \n",
       "3458                                                  0      \n",
       "\n",
       "      Tags_Interested  in full time MBA  Tags_Lateral student  \\\n",
       "2572                                  0                     0   \n",
       "4979                                  0                     0   \n",
       "3976                                  0                     0   \n",
       "5785                                  0                     0   \n",
       "3458                                  0                     0   \n",
       "\n",
       "      Tags_Shall take in the next coming month  \\\n",
       "2572                                         0   \n",
       "4979                                         0   \n",
       "3976                                         0   \n",
       "5785                                         0   \n",
       "3458                                         0   \n",
       "\n",
       "      Tags_Will revert after reading the email  Lead Profile_Lateral Student  \\\n",
       "2572                                         0                             0   \n",
       "4979                                         0                             0   \n",
       "3976                                         1                             0   \n",
       "5785                                         1                             0   \n",
       "3458                                         1                             0   \n",
       "\n",
       "      Lead Profile_Potential Lead  Specialization_Hospitality Management  \\\n",
       "2572                            0                                      0   \n",
       "4979                            0                                      0   \n",
       "3976                            1                                      0   \n",
       "5785                            1                                      0   \n",
       "3458                            0                                      0   \n",
       "\n",
       "      Last Activity_Approached upfront  Last Activity_Email Link Clicked  \\\n",
       "2572                                 0                                 0   \n",
       "4979                                 0                                 0   \n",
       "3976                                 0                                 0   \n",
       "5785                                 0                                 0   \n",
       "3458                                 0                                 0   \n",
       "\n",
       "      Last Activity_Email Opened  Last Activity_Page Visited on Website  \\\n",
       "2572                           1                                      0   \n",
       "4979                           0                                      0   \n",
       "3976                           0                                      0   \n",
       "5785                           0                                      0   \n",
       "3458                           0                                      1   \n",
       "\n",
       "      Last Activity_SMS Sent  \n",
       "2572                       0  \n",
       "4979                       1  \n",
       "3976                       1  \n",
       "5785                       1  \n",
       "3458                       0  "
      ]
     },
     "execution_count": 141,
     "metadata": {},
     "output_type": "execute_result"
    }
   ],
   "source": [
    "X_test = X_test[col]\n",
    "X_test.head()"
   ]
  },
  {
   "cell_type": "code",
   "execution_count": 142,
   "id": "f0273f94",
   "metadata": {
    "ExecuteTime": {
     "end_time": "2023-06-25T20:59:29.423724Z",
     "start_time": "2023-06-25T20:59:29.411894Z"
    }
   },
   "outputs": [],
   "source": [
    "X_test_sm = sm.add_constant(X_test)"
   ]
  },
  {
   "cell_type": "markdown",
   "id": "dc22cfb1",
   "metadata": {},
   "source": [
    "Making predictions on the test set"
   ]
  },
  {
   "cell_type": "code",
   "execution_count": 143,
   "id": "2910d3b5",
   "metadata": {
    "ExecuteTime": {
     "end_time": "2023-06-25T20:59:30.381683Z",
     "start_time": "2023-06-25T20:59:30.359332Z"
    }
   },
   "outputs": [
    {
     "data": {
      "text/plain": [
       "2572    0.058222\n",
       "4979    0.213173\n",
       "3976    0.995684\n",
       "5785    0.999682\n",
       "3458    0.958327\n",
       "995     0.903870\n",
       "6962    0.144296\n",
       "5294    0.075114\n",
       "2688    0.995941\n",
       "9010    0.174109\n",
       "dtype: float64"
      ]
     },
     "execution_count": 143,
     "metadata": {},
     "output_type": "execute_result"
    }
   ],
   "source": [
    "y_test_pred = res.predict(X_test_sm)\n",
    "y_test_pred[:10]"
   ]
  },
  {
   "cell_type": "code",
   "execution_count": 144,
   "id": "d4bf4cf0",
   "metadata": {
    "ExecuteTime": {
     "end_time": "2023-06-25T20:59:30.971041Z",
     "start_time": "2023-06-25T20:59:30.961105Z"
    }
   },
   "outputs": [],
   "source": [
    "# Converting y_pred to a dataframe which is an array\n",
    "y_pred_1 = pd.DataFrame(y_test_pred)"
   ]
  },
  {
   "cell_type": "code",
   "execution_count": 145,
   "id": "f6b1e658",
   "metadata": {
    "ExecuteTime": {
     "end_time": "2023-06-25T20:59:31.422309Z",
     "start_time": "2023-06-25T20:59:31.403305Z"
    }
   },
   "outputs": [
    {
     "data": {
      "text/html": [
       "<div>\n",
       "<style scoped>\n",
       "    .dataframe tbody tr th:only-of-type {\n",
       "        vertical-align: middle;\n",
       "    }\n",
       "\n",
       "    .dataframe tbody tr th {\n",
       "        vertical-align: top;\n",
       "    }\n",
       "\n",
       "    .dataframe thead th {\n",
       "        text-align: right;\n",
       "    }\n",
       "</style>\n",
       "<table border=\"1\" class=\"dataframe\">\n",
       "  <thead>\n",
       "    <tr style=\"text-align: right;\">\n",
       "      <th></th>\n",
       "      <th>0</th>\n",
       "    </tr>\n",
       "  </thead>\n",
       "  <tbody>\n",
       "    <tr>\n",
       "      <th>2572</th>\n",
       "      <td>0.058222</td>\n",
       "    </tr>\n",
       "    <tr>\n",
       "      <th>4979</th>\n",
       "      <td>0.213173</td>\n",
       "    </tr>\n",
       "    <tr>\n",
       "      <th>3976</th>\n",
       "      <td>0.995684</td>\n",
       "    </tr>\n",
       "    <tr>\n",
       "      <th>5785</th>\n",
       "      <td>0.999682</td>\n",
       "    </tr>\n",
       "    <tr>\n",
       "      <th>3458</th>\n",
       "      <td>0.958327</td>\n",
       "    </tr>\n",
       "  </tbody>\n",
       "</table>\n",
       "</div>"
      ],
      "text/plain": [
       "             0\n",
       "2572  0.058222\n",
       "4979  0.213173\n",
       "3976  0.995684\n",
       "5785  0.999682\n",
       "3458  0.958327"
      ]
     },
     "execution_count": 145,
     "metadata": {},
     "output_type": "execute_result"
    }
   ],
   "source": [
    "y_pred_1.head()"
   ]
  },
  {
   "cell_type": "code",
   "execution_count": 146,
   "id": "2e554211",
   "metadata": {
    "ExecuteTime": {
     "end_time": "2023-06-25T20:59:31.873925Z",
     "start_time": "2023-06-25T20:59:31.854184Z"
    }
   },
   "outputs": [],
   "source": [
    "# Converting y_test to dataframe\n",
    "y_test_df = pd.DataFrame(y_test)"
   ]
  },
  {
   "cell_type": "code",
   "execution_count": 147,
   "id": "2185071c",
   "metadata": {
    "ExecuteTime": {
     "end_time": "2023-06-25T20:59:32.353471Z",
     "start_time": "2023-06-25T20:59:32.339779Z"
    }
   },
   "outputs": [],
   "source": [
    "# Putting Prospect ID to index\n",
    "y_test_df['prospect_ID'] = y_test_df.index"
   ]
  },
  {
   "cell_type": "code",
   "execution_count": 148,
   "id": "1e6bcd31",
   "metadata": {
    "ExecuteTime": {
     "end_time": "2023-06-25T20:59:32.867822Z",
     "start_time": "2023-06-25T20:59:32.848000Z"
    }
   },
   "outputs": [],
   "source": [
    "# Removing index for both dataframes to append them side by side \n",
    "y_pred_1.reset_index(drop=True, inplace=True)\n",
    "y_test_df.reset_index(drop=True, inplace=True)"
   ]
  },
  {
   "cell_type": "code",
   "execution_count": 149,
   "id": "5d4d39d7",
   "metadata": {
    "ExecuteTime": {
     "end_time": "2023-06-25T20:59:33.413303Z",
     "start_time": "2023-06-25T20:59:33.394470Z"
    }
   },
   "outputs": [],
   "source": [
    "# Appending y_test_df and y_pred_1\n",
    "y_pred_final = pd.concat([y_test_df, y_pred_1],axis=1)"
   ]
  },
  {
   "cell_type": "code",
   "execution_count": 150,
   "id": "b9b01393",
   "metadata": {
    "ExecuteTime": {
     "end_time": "2023-06-25T20:59:33.913263Z",
     "start_time": "2023-06-25T20:59:33.896032Z"
    }
   },
   "outputs": [
    {
     "data": {
      "text/html": [
       "<div>\n",
       "<style scoped>\n",
       "    .dataframe tbody tr th:only-of-type {\n",
       "        vertical-align: middle;\n",
       "    }\n",
       "\n",
       "    .dataframe tbody tr th {\n",
       "        vertical-align: top;\n",
       "    }\n",
       "\n",
       "    .dataframe thead th {\n",
       "        text-align: right;\n",
       "    }\n",
       "</style>\n",
       "<table border=\"1\" class=\"dataframe\">\n",
       "  <thead>\n",
       "    <tr style=\"text-align: right;\">\n",
       "      <th></th>\n",
       "      <th>Converted</th>\n",
       "      <th>prospect_ID</th>\n",
       "      <th>0</th>\n",
       "    </tr>\n",
       "  </thead>\n",
       "  <tbody>\n",
       "    <tr>\n",
       "      <th>0</th>\n",
       "      <td>0</td>\n",
       "      <td>2572</td>\n",
       "      <td>0.058222</td>\n",
       "    </tr>\n",
       "    <tr>\n",
       "      <th>1</th>\n",
       "      <td>1</td>\n",
       "      <td>4979</td>\n",
       "      <td>0.213173</td>\n",
       "    </tr>\n",
       "    <tr>\n",
       "      <th>2</th>\n",
       "      <td>1</td>\n",
       "      <td>3976</td>\n",
       "      <td>0.995684</td>\n",
       "    </tr>\n",
       "    <tr>\n",
       "      <th>3</th>\n",
       "      <td>1</td>\n",
       "      <td>5785</td>\n",
       "      <td>0.999682</td>\n",
       "    </tr>\n",
       "    <tr>\n",
       "      <th>4</th>\n",
       "      <td>1</td>\n",
       "      <td>3458</td>\n",
       "      <td>0.958327</td>\n",
       "    </tr>\n",
       "  </tbody>\n",
       "</table>\n",
       "</div>"
      ],
      "text/plain": [
       "   Converted  prospect_ID         0\n",
       "0          0         2572  0.058222\n",
       "1          1         4979  0.213173\n",
       "2          1         3976  0.995684\n",
       "3          1         5785  0.999682\n",
       "4          1         3458  0.958327"
      ]
     },
     "execution_count": 150,
     "metadata": {},
     "output_type": "execute_result"
    }
   ],
   "source": [
    "y_pred_final.head()"
   ]
  },
  {
   "cell_type": "code",
   "execution_count": 151,
   "id": "5c6ec5c0",
   "metadata": {
    "ExecuteTime": {
     "end_time": "2023-06-25T20:59:34.458859Z",
     "start_time": "2023-06-25T20:59:34.443334Z"
    }
   },
   "outputs": [],
   "source": [
    "# Renaming the column \n",
    "y_pred_final= y_pred_final.rename(columns={ 0 : 'Converted_Prob'})"
   ]
  },
  {
   "cell_type": "code",
   "execution_count": 152,
   "id": "c7dd1b67",
   "metadata": {
    "ExecuteTime": {
     "end_time": "2023-06-25T20:59:34.942651Z",
     "start_time": "2023-06-25T20:59:34.926904Z"
    }
   },
   "outputs": [],
   "source": [
    "# Rearranging the columns\n",
    "y_pred_final = y_pred_final.reindex(['prospect_ID','Converted','Converted_Prob'], axis=1)"
   ]
  },
  {
   "cell_type": "code",
   "execution_count": 153,
   "id": "d7faee83",
   "metadata": {
    "ExecuteTime": {
     "end_time": "2023-06-25T20:59:35.391891Z",
     "start_time": "2023-06-25T20:59:35.376403Z"
    }
   },
   "outputs": [
    {
     "data": {
      "text/html": [
       "<div>\n",
       "<style scoped>\n",
       "    .dataframe tbody tr th:only-of-type {\n",
       "        vertical-align: middle;\n",
       "    }\n",
       "\n",
       "    .dataframe tbody tr th {\n",
       "        vertical-align: top;\n",
       "    }\n",
       "\n",
       "    .dataframe thead th {\n",
       "        text-align: right;\n",
       "    }\n",
       "</style>\n",
       "<table border=\"1\" class=\"dataframe\">\n",
       "  <thead>\n",
       "    <tr style=\"text-align: right;\">\n",
       "      <th></th>\n",
       "      <th>prospect_ID</th>\n",
       "      <th>Converted</th>\n",
       "      <th>Converted_Prob</th>\n",
       "    </tr>\n",
       "  </thead>\n",
       "  <tbody>\n",
       "    <tr>\n",
       "      <th>0</th>\n",
       "      <td>2572</td>\n",
       "      <td>0</td>\n",
       "      <td>0.058222</td>\n",
       "    </tr>\n",
       "    <tr>\n",
       "      <th>1</th>\n",
       "      <td>4979</td>\n",
       "      <td>1</td>\n",
       "      <td>0.213173</td>\n",
       "    </tr>\n",
       "    <tr>\n",
       "      <th>2</th>\n",
       "      <td>3976</td>\n",
       "      <td>1</td>\n",
       "      <td>0.995684</td>\n",
       "    </tr>\n",
       "    <tr>\n",
       "      <th>3</th>\n",
       "      <td>5785</td>\n",
       "      <td>1</td>\n",
       "      <td>0.999682</td>\n",
       "    </tr>\n",
       "    <tr>\n",
       "      <th>4</th>\n",
       "      <td>3458</td>\n",
       "      <td>1</td>\n",
       "      <td>0.958327</td>\n",
       "    </tr>\n",
       "  </tbody>\n",
       "</table>\n",
       "</div>"
      ],
      "text/plain": [
       "   prospect_ID  Converted  Converted_Prob\n",
       "0         2572          0        0.058222\n",
       "1         4979          1        0.213173\n",
       "2         3976          1        0.995684\n",
       "3         5785          1        0.999682\n",
       "4         3458          1        0.958327"
      ]
     },
     "execution_count": 153,
     "metadata": {},
     "output_type": "execute_result"
    }
   ],
   "source": [
    "# Let's see the head of y_pred_final\n",
    "y_pred_final.head()"
   ]
  },
  {
   "cell_type": "code",
   "execution_count": 154,
   "id": "924cc9f7",
   "metadata": {
    "ExecuteTime": {
     "end_time": "2023-06-25T20:59:35.795522Z",
     "start_time": "2023-06-25T20:59:35.781140Z"
    }
   },
   "outputs": [],
   "source": [
    "y_pred_final['final_predicted'] = y_pred_final.Converted_Prob.map(lambda x: 1 if x > 0.3 else 0)"
   ]
  },
  {
   "cell_type": "code",
   "execution_count": 155,
   "id": "58628006",
   "metadata": {
    "ExecuteTime": {
     "end_time": "2023-06-25T20:59:36.261255Z",
     "start_time": "2023-06-25T20:59:36.239623Z"
    }
   },
   "outputs": [
    {
     "data": {
      "text/html": [
       "<div>\n",
       "<style scoped>\n",
       "    .dataframe tbody tr th:only-of-type {\n",
       "        vertical-align: middle;\n",
       "    }\n",
       "\n",
       "    .dataframe tbody tr th {\n",
       "        vertical-align: top;\n",
       "    }\n",
       "\n",
       "    .dataframe thead th {\n",
       "        text-align: right;\n",
       "    }\n",
       "</style>\n",
       "<table border=\"1\" class=\"dataframe\">\n",
       "  <thead>\n",
       "    <tr style=\"text-align: right;\">\n",
       "      <th></th>\n",
       "      <th>prospect_ID</th>\n",
       "      <th>Converted</th>\n",
       "      <th>Converted_Prob</th>\n",
       "      <th>final_predicted</th>\n",
       "    </tr>\n",
       "  </thead>\n",
       "  <tbody>\n",
       "    <tr>\n",
       "      <th>0</th>\n",
       "      <td>2572</td>\n",
       "      <td>0</td>\n",
       "      <td>0.058222</td>\n",
       "      <td>0</td>\n",
       "    </tr>\n",
       "    <tr>\n",
       "      <th>1</th>\n",
       "      <td>4979</td>\n",
       "      <td>1</td>\n",
       "      <td>0.213173</td>\n",
       "      <td>0</td>\n",
       "    </tr>\n",
       "    <tr>\n",
       "      <th>2</th>\n",
       "      <td>3976</td>\n",
       "      <td>1</td>\n",
       "      <td>0.995684</td>\n",
       "      <td>1</td>\n",
       "    </tr>\n",
       "    <tr>\n",
       "      <th>3</th>\n",
       "      <td>5785</td>\n",
       "      <td>1</td>\n",
       "      <td>0.999682</td>\n",
       "      <td>1</td>\n",
       "    </tr>\n",
       "    <tr>\n",
       "      <th>4</th>\n",
       "      <td>3458</td>\n",
       "      <td>1</td>\n",
       "      <td>0.958327</td>\n",
       "      <td>1</td>\n",
       "    </tr>\n",
       "  </tbody>\n",
       "</table>\n",
       "</div>"
      ],
      "text/plain": [
       "   prospect_ID  Converted  Converted_Prob  final_predicted\n",
       "0         2572          0        0.058222                0\n",
       "1         4979          1        0.213173                0\n",
       "2         3976          1        0.995684                1\n",
       "3         5785          1        0.999682                1\n",
       "4         3458          1        0.958327                1"
      ]
     },
     "execution_count": 155,
     "metadata": {},
     "output_type": "execute_result"
    }
   ],
   "source": [
    "y_pred_final.head()"
   ]
  },
  {
   "cell_type": "code",
   "execution_count": 156,
   "id": "e325af5e",
   "metadata": {
    "ExecuteTime": {
     "end_time": "2023-06-25T20:59:36.696610Z",
     "start_time": "2023-06-25T20:59:36.683112Z"
    }
   },
   "outputs": [
    {
     "data": {
      "text/plain": [
       "0.8983050847457628"
      ]
     },
     "execution_count": 156,
     "metadata": {},
     "output_type": "execute_result"
    }
   ],
   "source": [
    "# Let's check the overall accuracy.\n",
    "metrics.accuracy_score(y_pred_final.Converted, y_pred_final.final_predicted)"
   ]
  },
  {
   "cell_type": "code",
   "execution_count": 157,
   "id": "3f0fff31",
   "metadata": {
    "ExecuteTime": {
     "end_time": "2023-06-25T20:59:37.132698Z",
     "start_time": "2023-06-25T20:59:37.117929Z"
    }
   },
   "outputs": [
    {
     "data": {
      "text/plain": [
       "array([[840, 102],\n",
       "       [ 72, 697]], dtype=int64)"
      ]
     },
     "execution_count": 157,
     "metadata": {},
     "output_type": "execute_result"
    }
   ],
   "source": [
    "confusion2 = metrics.confusion_matrix(y_pred_final.Converted, y_pred_final.final_predicted )\n",
    "confusion2"
   ]
  },
  {
   "cell_type": "code",
   "execution_count": 158,
   "id": "3b8ad298",
   "metadata": {
    "ExecuteTime": {
     "end_time": "2023-06-25T20:59:37.570044Z",
     "start_time": "2023-06-25T20:59:37.560695Z"
    }
   },
   "outputs": [],
   "source": [
    "TP = confusion2[1,1] # true positive \n",
    "TN = confusion2[0,0] # true negatives\n",
    "FP = confusion2[0,1] # false positives\n",
    "FN = confusion2[1,0] # false negatives"
   ]
  },
  {
   "cell_type": "code",
   "execution_count": 159,
   "id": "220a4cc8",
   "metadata": {
    "ExecuteTime": {
     "end_time": "2023-06-25T20:59:38.101190Z",
     "start_time": "2023-06-25T20:59:38.091184Z"
    }
   },
   "outputs": [
    {
     "data": {
      "text/plain": [
       "0.9063719115734721"
      ]
     },
     "execution_count": 159,
     "metadata": {},
     "output_type": "execute_result"
    }
   ],
   "source": [
    "# Let's see the sensitivity of our logistic regression model\n",
    "TP / float(TP+FN)"
   ]
  },
  {
   "cell_type": "code",
   "execution_count": 160,
   "id": "aa113b8f",
   "metadata": {
    "ExecuteTime": {
     "end_time": "2023-06-25T20:59:38.595970Z",
     "start_time": "2023-06-25T20:59:38.575775Z"
    }
   },
   "outputs": [
    {
     "data": {
      "text/plain": [
       "0.89171974522293"
      ]
     },
     "execution_count": 160,
     "metadata": {},
     "output_type": "execute_result"
    }
   ],
   "source": [
    "# Let us calculate specificity\n",
    "TN / float(TN+FP)"
   ]
  }
 ],
 "metadata": {
  "kernelspec": {
   "display_name": "Python 3 (ipykernel)",
   "language": "python",
   "name": "python3"
  },
  "language_info": {
   "codemirror_mode": {
    "name": "ipython",
    "version": 3
   },
   "file_extension": ".py",
   "mimetype": "text/x-python",
   "name": "python",
   "nbconvert_exporter": "python",
   "pygments_lexer": "ipython3",
   "version": "3.9.13"
  }
 },
 "nbformat": 4,
 "nbformat_minor": 5
}
